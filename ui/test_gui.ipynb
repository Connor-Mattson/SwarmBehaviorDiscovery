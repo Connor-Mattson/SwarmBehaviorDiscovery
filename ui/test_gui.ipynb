{
 "cells": [
  {
   "cell_type": "code",
   "execution_count": 1,
   "metadata": {
    "collapsed": true
   },
   "outputs": [
    {
     "name": "stdout",
     "output_type": "stream",
     "text": [
      "pygame 2.1.2 (SDL 2.0.16, Python 3.10.4)\n",
      "Hello from the pygame community. https://www.pygame.org/contribute.html\n"
     ]
    }
   ],
   "source": [
    "from ui.class_similarity import SimilarityGUI\n",
    "from data.swarmset import SwarmDataset, DataBuilder\n",
    "anchor_dataset = SwarmDataset(\"../data/new\", rank=1)\n",
    "\n",
    "anchor_image = anchor_dataset[0][0]\n",
    "others = [anchor_dataset[i][0] for i in range(1, 5)]\n",
    "\n",
    "gui = SimilarityGUI(anchor_image, others)\n",
    "gui.run()"
   ]
  },
  {
   "cell_type": "code",
   "execution_count": null,
   "outputs": [],
   "source": [],
   "metadata": {
    "collapsed": false
   }
  }
 ],
 "metadata": {
  "kernelspec": {
   "display_name": "Python 3",
   "language": "python",
   "name": "python3"
  },
  "language_info": {
   "codemirror_mode": {
    "name": "ipython",
    "version": 2
   },
   "file_extension": ".py",
   "mimetype": "text/x-python",
   "name": "python",
   "nbconvert_exporter": "python",
   "pygments_lexer": "ipython2",
   "version": "2.7.6"
  }
 },
 "nbformat": 4,
 "nbformat_minor": 0
}
