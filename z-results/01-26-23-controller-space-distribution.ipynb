{
 "cells": [
  {
   "cell_type": "code",
   "execution_count": null,
   "metadata": {
    "collapsed": true
   },
   "outputs": [],
   "source": [
    "import numpy as np\n",
    "import matplotlib\n",
    "import matplotlib.pyplot as plt\n",
    "\n",
    "matplotlib.rcParams['pdf.fonttype'] = 42\n",
    "matplotlib.rcParams['ps.fonttype'] = 42\n",
    "\n",
    "labels = ['No Filter', 'Heuristic Filter']\n",
    "random = [777, 401]\n",
    "cyclic_pursuit = [29,158]\n",
    "milling = [68,83]\n",
    "aggregation = [8,117]\n",
    "dispersal = [98,156]\n",
    "wall_f = [20,85]\n",
    "\n",
    "x = np.arange(len(labels))  # the label locations\n",
    "width = 0.15  # the width of the bars\n",
    "offset = width / 2\n",
    "\n",
    "fig, ax = plt.subplots()\n",
    "rects1 = ax.bar(x - offset - 2*width, random, width, label='Random', color='lightgrey')\n",
    "rects2 = ax.bar(x - offset - width, cyclic_pursuit, width, label='Cyclic Pursuit')\n",
    "rects3 = ax.bar(x - offset,          milling, width, label='Milling')\n",
    "rects4 = ax.bar(x + offset, aggregation, width, label='Aggregation')\n",
    "rects5 = ax.bar(x + offset + width, dispersal, width, label='Dispersal')\n",
    "rects6 = ax.bar(x + offset + 2*width, wall_f, width, label='Wall Following')\n",
    "\n",
    "# Add some text for labels, title and custom x-axis tick labels, etc.\n",
    "ax.set_ylabel('Sampled Behavior Count')\n",
    "ax.set_ylim(0, 900)\n",
    "ax.set_xticks(x, labels)\n",
    "ax.legend()\n",
    "\n",
    "ax.bar_label(rects1, padding=3)\n",
    "ax.bar_label(rects2, padding=3)\n",
    "ax.bar_label(rects3, padding=3)\n",
    "ax.bar_label(rects4, padding=3)\n",
    "ax.bar_label(rects5, padding=3)\n",
    "ax.bar_label(rects6, padding=3)\n",
    "fig.set_figwidth(5)\n",
    "fig.set_figheight(5)\n",
    "\n",
    "\n",
    "plt.show()"
   ]
  }
 ],
 "metadata": {
  "kernelspec": {
   "display_name": "Python 3",
   "language": "python",
   "name": "python3"
  },
  "language_info": {
   "codemirror_mode": {
    "name": "ipython",
    "version": 2
   },
   "file_extension": ".py",
   "mimetype": "text/x-python",
   "name": "python",
   "nbconvert_exporter": "python",
   "pygments_lexer": "ipython2",
   "version": "2.7.6"
  }
 },
 "nbformat": 4,
 "nbformat_minor": 0
}
