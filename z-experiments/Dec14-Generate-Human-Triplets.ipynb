{
 "cells": [
  {
   "cell_type": "code",
   "execution_count": null,
   "metadata": {
    "collapsed": true
   },
   "outputs": [],
   "source": [
    "import torch\n",
    "import os\n",
    "import numpy as np\n",
    "from data.swarmset import ContinuingDataset, SwarmDataset\n",
    "sampled_dataset = SwarmDataset(\"data/full-mini\", rank=0)\n",
    "\n",
    "def vecToCSVLine(vector):\n",
    "    line = \"\"\n",
    "    for i, val in enumerate(vector):\n",
    "        line += str(val)\n",
    "        if i < len(vector) - 1:\n",
    "            line += \", \"\n",
    "    line += \"\\n\"\n",
    "    return line\n",
    "\n",
    "def CSVLineToVec(line):\n",
    "    line_list = line.strip().replace(\"\\n\", \"\").split(\",\")\n",
    "    float_list = []\n",
    "    for i in line_list:\n",
    "        float_list.append(float(i))\n",
    "    float_list = np.array(float_list)\n",
    "    return float_list\n",
    "\n",
    "print(\"Begin Test\")\n",
    "\n",
    "TOTAL_CLASSES = 6\n",
    "classes = {i:[] for i in range(TOTAL_CLASSES)}\n",
    "\n",
    "DATA_TEST_SIZE = 1000\n",
    "OUT = \"../data/oracle\"\n",
    "with open(os.path.join(OUT, \"original-hand-labeled-classes.txt\"), \"r\") as f:\n",
    "    lines = f.readlines()\n",
    "    for line in lines:\n",
    "        triplet = CSVLineToVec(line)\n",
    "        classes[int(triplet[1])].append(int(triplet[0]))\n",
    "\n",
    "triplets = []\n",
    "for i in classes:\n",
    "    for j in range(len(classes[i]) - 1):\n",
    "        anchor = classes[i][j]\n",
    "        positive = classes[i][j + 1]\n",
    "        for k in range(i, len(classes)):\n",
    "            for l in range(len(classes[k])):\n",
    "                negative = classes[k][l]\n",
    "                triplets.append([anchor, positive, negative])\n",
    "\n",
    "print(len(triplets))\n",
    "\n",
    "with open(os.path.join(OUT, \"human-triplets.txt\"), \"w\") as f:\n",
    "    for i in range(len(triplets)):\n",
    "        f.write(vecToCSVLine(triplets[i]))"
   ]
  }
 ],
 "metadata": {
  "kernelspec": {
   "display_name": "Python 3",
   "language": "python",
   "name": "python3"
  },
  "language_info": {
   "codemirror_mode": {
    "name": "ipython",
    "version": 2
   },
   "file_extension": ".py",
   "mimetype": "text/x-python",
   "name": "python",
   "nbconvert_exporter": "python",
   "pygments_lexer": "ipython2",
   "version": "2.7.6"
  }
 },
 "nbformat": 4,
 "nbformat_minor": 0
}
