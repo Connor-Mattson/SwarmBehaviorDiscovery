{
 "cells": [
  {
   "cell_type": "code",
   "execution_count": null,
   "metadata": {
    "collapsed": true,
    "pycharm": {
     "is_executing": true
    }
   },
   "outputs": [
    {
     "name": "stdout",
     "output_type": "stream",
     "text": [
      "[-0.3 -0.9 -0.4  0.3  1.  -0.7  0.4 -0.3 -0.1]\n"
     ]
    }
   ],
   "source": [
    "import pygame\n",
    "import torch\n",
    "import time\n",
    "import os\n",
    "import sys\n",
    "import numpy as np\n",
    "module_path = os.path.abspath(os.path.join('..'))\n",
    "if module_path not in sys.path:\n",
    "    sys.path.append(module_path)\n",
    "\n",
    "from NovelSwarmBehavior.novel_swarms.config.EvolutionaryConfig import GeneticEvolutionConfig\n",
    "from NovelSwarmBehavior.novel_swarms.config.WorldConfig import RectangularWorldConfig\n",
    "from NovelSwarmBehavior.novel_swarms.config.AgentConfig import DiffDriveAgentConfig\n",
    "from NovelSwarmBehavior.novel_swarms.sensors.SensorSet import SensorSet\n",
    "from NovelSwarmBehavior.novel_swarms.sensors.BinaryLOSSensor import BinaryLOSSensor\n",
    "from NovelSwarmBehavior.novel_swarms.sensors.GenomeDependentSensor import GenomeBinarySensor\n",
    "from NovelSwarmBehavior.novel_swarms.novelty.GeneRule import GeneBuilder\n",
    "from NovelSwarmBehavior.novel_swarms.config.defaults import ConfigurationDefaults\n",
    "from NovelSwarmBehavior.novel_swarms.novelty.GeneRule import GeneRule\n",
    "from NovelSwarmBehavior.novel_swarms.config.OutputTensorConfig import OutputTensorConfig\n",
    "from generation.evolution import ModifiedNoveltyArchieve\n",
    "from PIL import Image\n",
    "from sklearn_extra.cluster import KMedoids\n",
    "import cv2\n",
    "import numpy as np\n",
    "import torch\n",
    "from data.swarmset import ContinuingDataset, SwarmDataset\n",
    "from networks.embedding import NoveltyEmbedding\n",
    "from generation.evolution import ModifiedHaltingEvolution\n",
    "from networks.archive import DataAggregationArchive\n",
    "from hil.HIL import HIL\n",
    "import time\n",
    "from networks.ensemble import Ensemble\n",
    "\n",
    "dataset = ContinuingDataset(\"/home/connor/Desktop/Experiments/GECCO_2023/Brown-two-sensor-no-h/Experiment_1/1675638750-brown-two-sensor-no-h\", folder_name=\"data\", create=False)\n",
    "network = None\n",
    "medoids = 12\n",
    "cap_data = 10000\n",
    "\n",
    "print(dataset[0][1])\n",
    "\n",
    "def resizeInput(X, w=200):\n",
    "    frame = X.astype(np.uint8)\n",
    "    resized = cv2.resize(frame, dsize=(w, w), interpolation=cv2.INTER_AREA)\n",
    "    return resized\n",
    "\n",
    "archive = ModifiedNoveltyArchieve()\n",
    "device = torch.device('cuda' if torch.cuda.is_available() else 'cpu')\n",
    "for i in range(len(dataset)):\n",
    "    anchor_encoding, genome, behavior = dataset[i][0], dataset[i][1], dataset[i][2]\n",
    "    if network is not None:\n",
    "        anchor_encoding = resizeInput(anchor_encoding, (50, 50))\n",
    "        anchor_encoding = torch.from_numpy(anchor_encoding).to(device).float()\n",
    "        network.eval()\n",
    "        embedding = network(anchor_encoding.unsqueeze(0)).squeeze(0).cpu().detach().numpy()\n",
    "        archive.addToArchive(vec=embedding, genome=genome)\n",
    "    else:\n",
    "        archive.addToArchive(vec=behavior, genome=genome)\n",
    "\n",
    "kmedoids = KMedoids(n_clusters=medoids, random_state=0).fit(archive.archive)\n",
    "medoids = kmedoids.medoid_indices_\n",
    "labels = kmedoids.labels_\n",
    "\n",
    "import matplotlib.pyplot as plt\n",
    "for i, medoid_i in enumerate(medoids):\n",
    "    medoid_image = dataset[medoid_i][0]\n",
    "    plt.imshow(medoid_image, cmap=\"Greys\")"
   ]
  },
  {
   "cell_type": "code",
   "execution_count": null,
   "outputs": [],
   "source": [],
   "metadata": {
    "collapsed": false
   }
  }
 ],
 "metadata": {
  "kernelspec": {
   "display_name": "Python 3",
   "language": "python",
   "name": "python3"
  },
  "language_info": {
   "codemirror_mode": {
    "name": "ipython",
    "version": 2
   },
   "file_extension": ".py",
   "mimetype": "text/x-python",
   "name": "python",
   "nbconvert_exporter": "python",
   "pygments_lexer": "ipython2",
   "version": "2.7.6"
  }
 },
 "nbformat": 4,
 "nbformat_minor": 0
}
