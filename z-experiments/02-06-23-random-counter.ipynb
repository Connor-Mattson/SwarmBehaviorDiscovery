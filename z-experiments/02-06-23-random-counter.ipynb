{
 "cells": [
  {
   "cell_type": "code",
   "execution_count": null,
   "metadata": {
    "collapsed": true
   },
   "outputs": [],
   "source": [
    "import torch\n",
    "import time\n",
    "import os\n",
    "import sys\n",
    "module_path = os.path.abspath(os.path.join('..'))\n",
    "if module_path not in sys.path:\n",
    "    sys.path.append(module_path)\n",
    "\n",
    "from data.swarmset import ContinuingDataset, SwarmDataset\n",
    "from networks.embedding import NoveltyEmbedding\n",
    "from networks.archive import DataAggregationArchive\n",
    "from networks.ensemble import Ensemble\n",
    "import numpy as np\n",
    "from scipy import ndimage\n",
    "import random\n",
    "from sklearn.manifold import TSNE\n",
    "import matplotlib\n",
    "import matplotlib.pyplot as plt\n",
    "\n",
    "matplotlib.rcParams['pdf.fonttype'] = 42\n",
    "matplotlib.rcParams['ps.fonttype'] = 42\n",
    "\n",
    "def CSVLineToVec(line):\n",
    "    line_list = line.strip().replace(\"\\n\", \"\").split(\",\")\n",
    "    float_list = []\n",
    "    for i in line_list:\n",
    "        float_list.append(float(i))\n",
    "    float_list = np.array(float_list)\n",
    "    return float_list"
   ]
  },
  {
   "cell_type": "code",
   "execution_count": null,
   "outputs": [],
   "source": [
    "TESTING_FILE = \"gecco-two-sensor-classes.txt\"\n",
    "OUT = \"../data/oracle\"\n",
    "\n",
    "validation_classes = []\n",
    "with open(os.path.join(OUT, TESTING_FILE), \"r\") as f:\n",
    "    lines = f.readlines()\n",
    "    validation_classes = [-1 for i in range(len(lines))]\n",
    "    for line in lines:\n",
    "        triplet = CSVLineToVec(line)\n",
    "        validation_classes[int(triplet[0])] = int(triplet[1])\n",
    "\n",
    "max_classes = 10\n",
    "total_trials = 10\n",
    "k = 16\n",
    "start = 40\n",
    "total = np.array([[0 for _ in range(max_classes)]])\n",
    "distinct_count = 0.0\n",
    "for i in range(start, k * total_trials, k):\n",
    "    counts = [0 for _ in range(max_classes)]\n",
    "    this_distinct = 0\n",
    "    for j in range(k):\n",
    "        index=validation_classes[i + j]\n",
    "        if index == 8 or index == 9:\n",
    "            index = 0\n",
    "        counts[index] += 1\n",
    "\n",
    "    print(f\"Counts at {i}: {counts}\")\n",
    "    for c in counts:\n",
    "        if c > 0:\n",
    "            this_distinct += 1\n",
    "    print(f\"Distinct: {this_distinct}\")\n",
    "\n",
    "    distinct_count += this_distinct\n",
    "    total += np.array(counts)\n",
    "\n",
    "print(f\"Averages: {total / total_trials}, Distinct: {distinct_count / total_trials}\")"
   ],
   "metadata": {
    "collapsed": false
   }
  }
 ],
 "metadata": {
  "kernelspec": {
   "display_name": "Python 3",
   "language": "python",
   "name": "python3"
  },
  "language_info": {
   "codemirror_mode": {
    "name": "ipython",
    "version": 2
   },
   "file_extension": ".py",
   "mimetype": "text/x-python",
   "name": "python",
   "nbconvert_exporter": "python",
   "pygments_lexer": "ipython2",
   "version": "2.7.6"
  }
 },
 "nbformat": 4,
 "nbformat_minor": 0
}
