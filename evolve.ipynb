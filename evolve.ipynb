{
 "cells": [
  {
   "cell_type": "code",
   "execution_count": null,
   "metadata": {
    "collapsed": true
   },
   "outputs": [],
   "source": [
    "from NovelSwarmBehavior.novel_swarms.behavior.AngularMomentum import AngularMomentumBehavior\n",
    "from NovelSwarmBehavior.novel_swarms.behavior.AverageSpeed import AverageSpeedBehavior\n",
    "from NovelSwarmBehavior.novel_swarms.behavior.GroupRotationBehavior import GroupRotationBehavior\n",
    "from NovelSwarmBehavior.novel_swarms.behavior.RadialVariance import RadialVarianceBehavior\n",
    "from NovelSwarmBehavior.novel_swarms.behavior.ScatterBehavior import ScatterBehavior\n",
    "from NovelSwarmBehavior.novel_swarms.behavior.SensorOffset import GeneElementDifference\n",
    "from NovelSwarmBehavior.novel_swarms.config.AgentConfig import DiffDriveAgentConfig\n",
    "from NovelSwarmBehavior.novel_swarms.config.EvolutionaryConfig import GeneticEvolutionConfig\n",
    "from NovelSwarmBehavior.novel_swarms.config.OutputTensorConfig import OutputTensorConfig\n",
    "from NovelSwarmBehavior.novel_swarms.config.WorldConfig import RectangularWorldConfig\n",
    "from NovelSwarmBehavior.novel_swarms.novelty.GeneRule import GeneRule\n",
    "from NovelSwarmBehavior.novel_swarms.sensors.GenomeDependentSensor import GenomeBinarySensor\n",
    "from NovelSwarmBehavior.novel_swarms.sensors.SensorSet import SensorSet\n",
    "from generation.evolution import ModifiedHaltingEvolution, ModifiedNoveltyArchieve\n",
    "from generation.halted_evolution import HaltedEvolution\n",
    "from data.swarmset import SwarmDataset, DataBuilder\n",
    "import numpy as np\n",
    "from scipy import ndimage\n",
    "import cv2\n",
    "import pygame\n",
    "\n",
    "def resizeInput(X, w=200):\n",
    "    frame = X.astype(np.uint8)\n",
    "    resized = cv2.resize(frame, dsize=(w, w), interpolation=cv2.INTER_AREA)\n",
    "    return resized\n",
    "\n",
    "def update_network(network, loss_fn, optim, anchor_image, pos_image, neg_image):\n",
    "    optim.zero_grad()\n",
    "    anchor_out, pos_out, neg_out = network.network_with_transforms(anchor_image, pos_image, neg_image)\n",
    "    loss = loss_fn(anchor_out, pos_out, neg_out)\n",
    "    loss.backward()\n",
    "    optim.step()\n",
    "    return loss"
   ]
  },
  {
   "cell_type": "code",
   "execution_count": 5,
   "outputs": [
    {
     "name": "stdout",
     "output_type": "stream",
     "text": [
      "HIL Init!\n",
      "<class 'generation.evolution.ModifiedNoveltyArchieve'>\n",
      "[ 18.25682631  12.0771122   19.87911616  10.82181965  14.11057124\n",
      "  11.20057317  15.83962609  12.83254781  44.35411206  20.9249553\n",
      "  28.63162451  47.94084988  18.10967529  11.81132867  12.6460169\n",
      "  12.77727091  18.45890565  20.03955916 192.55466101  33.21808338\n",
      "  58.78641454  50.16675147  13.45705162  42.15791916  22.84834167\n",
      "  16.54335143  12.24213026  10.72612677  22.50689394  45.63781188\n",
      "  11.11024235  12.57293137  42.55125332  16.71797382  25.29736231\n",
      "  11.44273065 103.83979384  17.66531     67.02628922  28.59282725\n",
      "  14.98298217 163.99162396  26.07371349  59.69421106  15.71472405\n",
      "  12.86646101  12.22119968  11.36325039  12.22122842  16.44892853\n",
      "  13.19659892  10.12697766  10.52764647  30.36816517  12.84324427\n",
      "  20.36714296  20.54440743  19.75847012  27.43263643  20.44725488\n",
      "  19.25862883  15.04349607  35.47889199  19.37492989  15.97815688\n",
      "  27.06436621  14.11067302  13.05961172  19.29591629  12.0783122\n",
      "  12.31453345  24.52127671  18.79427584  12.65966722  31.82666232\n",
      "  32.51865231  22.72166522  36.37456621  12.47436148  13.17942587\n",
      "  11.80603152  26.11838718  12.46198148  11.56619844 187.67653716\n",
      "  10.13766335  39.71606668  13.22397509  73.28557114  35.84881007\n",
      "  13.49919039  11.74863885  13.44000626  46.79561297  28.69481686\n",
      "  29.16418039  45.1278792   28.05543113  20.06152348  13.46135766]\n",
      "Evolution complete for gen0\n"
     ]
    },
    {
     "name": "stderr",
     "output_type": "stream",
     "text": [
      "/home/connor/Desktop/research/SwarmNoveltyNetwork/.env/lib/python3.10/site-packages/sklearn/manifold/_t_sne.py:996: FutureWarning: The PCA initialization in TSNE will change to have the standard deviation of PC1 equal to 1e-4 in 1.2. This will ensure better convergence.\n",
      "  warnings.warn(\n"
     ]
    },
    {
     "name": "stdout",
     "output_type": "stream",
     "text": [
      "<class 'generation.evolution.ModifiedNoveltyArchieve'>\n",
      "[ 11.33965486  21.98058755  14.38018369   9.94207663 171.65745595\n",
      "   8.06852613  18.96750699  17.17889507  14.3970109   17.53513666\n",
      "  23.08094838   9.61445194   6.66452202  22.97561791  25.91610947\n",
      "  11.26513175   8.77101366  18.98554826  29.98995398  59.9214194\n",
      "   6.80506133  20.08023555  17.23659909   8.76030051   8.6150926\n",
      "  24.1687629   23.72970323  12.9091728    9.27358461   6.54820898\n",
      "  60.11574089  15.0124553   20.99134547   7.03415422  35.8340483\n",
      "  11.587706    18.94928867  10.45538186  21.65597436   9.19623908\n",
      "  96.98730525  17.35297194  25.94588937  14.835651     6.93384479\n",
      "  89.61819161  19.0649228    7.89880024  26.48931422  17.86925067\n",
      "  16.02070112  29.69022525   7.82999262   9.29802822  29.12785721\n",
      "  18.19545523  33.9339133    7.59871502  13.31177914   8.92300252\n",
      "  17.06786075  34.17593928  10.54904934  11.20303711  18.90868134\n",
      "  12.31247755  44.7423895   16.68000546   8.43960186  23.34056664\n",
      "  27.73864874  49.80155656  26.33685503  22.79013827  11.39431419\n",
      "  10.77014407  93.75771842   8.2693342   15.53184605  20.34384855\n",
      "  12.83274514  30.79351827  14.11231983  12.96555637   8.20410157\n",
      "  16.21312974  19.62510981  37.24345596  32.87424422 107.3259577\n",
      "  34.58773815   7.42491621  20.16483265   7.51361812  22.71825815\n",
      "  13.89489368   9.08630071   7.90564882  38.77468198  19.25665645]\n",
      "Evolution complete for gen1\n"
     ]
    },
    {
     "name": "stderr",
     "output_type": "stream",
     "text": [
      "/home/connor/Desktop/research/SwarmNoveltyNetwork/.env/lib/python3.10/site-packages/sklearn/manifold/_t_sne.py:996: FutureWarning: The PCA initialization in TSNE will change to have the standard deviation of PC1 equal to 1e-4 in 1.2. This will ensure better convergence.\n",
      "  warnings.warn(\n"
     ]
    },
    {
     "name": "stdout",
     "output_type": "stream",
     "text": [
      "<class 'generation.evolution.ModifiedNoveltyArchieve'>\n",
      "[ 16.64171621   6.91639047  11.76399191  22.40225383  20.08112775\n",
      "  17.28524501  19.26313967  16.59594986  17.38708351  10.99395694\n",
      "  34.20293881  11.07186563 120.17902508  10.23469343  10.6589443\n",
      "  25.71489408  13.63097807  13.09122925  14.0378699   47.23855984\n",
      "  13.35062009   9.87363397   9.97821091  24.51155343   8.8827977\n",
      "  11.13837575  20.10308539  13.65333679 239.58785289  18.90126013\n",
      "  12.70513801  18.16363119  16.8991226   43.39221184  13.61469686\n",
      "  19.28804418  19.09401317   7.49082967  39.79522019  15.71071657\n",
      "  20.11715273   7.91894006  12.37918585  14.17534823  20.20537057\n",
      "  17.51579675  18.32342942  26.02884671  18.08622325  34.32396186\n",
      "  25.18150232  12.39238556  17.09418126  11.67304689  12.19528988\n",
      "  13.0210016   37.82725254  30.19621101  12.75686816  34.37501153\n",
      "  17.62241254  12.3596904   14.65663514  14.13202266  31.64345865\n",
      "  14.87322966   8.01492564   6.24521953  27.23877206  12.43429002\n",
      "  38.20915504 238.96074121  16.19712085  10.93849755  13.93393723\n",
      "  10.24886336  19.75316856  29.10107416  19.63729683  67.36324635\n",
      "  18.40915123  20.91374093  42.16993113  16.61627125  24.78684915\n",
      "  19.79572227  42.97245427  14.67356656  19.13423304  15.96739898\n",
      "   9.10036521  20.35818234  18.15608034  14.70376713  13.65134446\n",
      "  14.26930434  15.24137905  31.51883242  12.2758989    9.87306038]\n",
      "Evolution complete for gen2\n"
     ]
    },
    {
     "name": "stderr",
     "output_type": "stream",
     "text": [
      "/home/connor/Desktop/research/SwarmNoveltyNetwork/.env/lib/python3.10/site-packages/sklearn/manifold/_t_sne.py:996: FutureWarning: The PCA initialization in TSNE will change to have the standard deviation of PC1 equal to 1e-4 in 1.2. This will ensure better convergence.\n",
      "  warnings.warn(\n"
     ]
    },
    {
     "name": "stdout",
     "output_type": "stream",
     "text": [
      "<class 'generation.evolution.ModifiedNoveltyArchieve'>\n",
      "[ 17.34724806  15.56665069  10.70481574  22.72243602  49.53568779\n",
      "  10.52911763  14.54402983 198.73410006   9.71589617   9.00614741\n",
      "  28.96588605   7.04523625  18.64437871  66.75148779  18.49628309\n",
      "  19.84938277  10.26375026   7.39749875  30.92735775  37.22718804\n",
      "  19.89542596  17.60256188  15.30631212  45.6025405   18.92271021\n",
      "  18.86978071   5.00484162   9.61592389  11.09928942  11.83590047\n",
      "  23.93880128  13.56414379  15.53726339  11.33674763  16.50063774\n",
      "  14.52545223  42.64383091  20.79749551  30.60336009  19.62392616\n",
      "  12.53658672  16.48720905   6.92742941  17.18682199   7.44892122\n",
      "  33.31849092  12.68395566  14.34551096  12.98292267  12.51951161\n",
      "   8.08364766  26.83740856  15.83699117  17.55128159  13.59003568\n",
      "  72.5377809   18.07065835  15.31715088   7.02192852  14.84338906\n",
      "  29.67746767  19.89105365  39.69605393  18.87404748  20.86875649\n",
      "   9.53935051   9.42982122   6.33112958  27.52420044  34.85481784\n",
      "  20.00995373  13.26934612  14.35694709  19.18059531  36.35120248\n",
      "  15.26454756  17.12227738  13.27831132  15.54362945  24.94500053\n",
      "  11.91242503  10.08635638  18.50871802  12.21893273  15.94745594\n",
      "   6.77303841  15.67162336  20.90654815  10.94543319  79.45895397\n",
      "  10.94855412  12.73815865  19.44612956  16.09332854  82.50514724\n",
      "  18.1874594   65.59545568  10.00742466  34.13576113  30.17551068]\n",
      "Evolution complete for gen3\n"
     ]
    },
    {
     "name": "stderr",
     "output_type": "stream",
     "text": [
      "/home/connor/Desktop/research/SwarmNoveltyNetwork/.env/lib/python3.10/site-packages/sklearn/manifold/_t_sne.py:996: FutureWarning: The PCA initialization in TSNE will change to have the standard deviation of PC1 equal to 1e-4 in 1.2. This will ensure better convergence.\n",
      "  warnings.warn(\n"
     ]
    },
    {
     "name": "stdout",
     "output_type": "stream",
     "text": [
      "<class 'generation.evolution.ModifiedNoveltyArchieve'>\n",
      "[ 15.44269905  13.96170833  21.03469555  83.50052888   8.56554571\n",
      "  33.93596347  10.22335148  13.84609568  11.83149119  11.45442628\n",
      "  26.53233177  13.970022    13.56485358  11.49386035  32.19067297\n",
      "  14.22749666  33.49548286  13.16043944   8.07208696   8.86283783\n",
      "  59.05507328  30.0772224   31.28580647  28.77107028  14.07109358\n",
      "  27.2768993   11.59887843  89.64292033   7.60968876  10.06316658\n",
      "  16.96044152  57.82799002  34.94095858  21.18551493  30.31641325\n",
      "   8.46277559  61.77597662  13.14936598  10.08320947  14.52087782\n",
      "  46.51542917  43.50321544  15.59378478  10.85788853  11.42469152\n",
      "  28.07962134  39.43797058  14.31345198  11.58153032  41.04326552\n",
      "  10.87533911   9.77183876   7.43446882  10.72676976  13.97611036\n",
      "  22.15759733  36.82933123 112.41679478  14.23020742  14.45932759\n",
      "  38.08971535  54.28180592  68.24994849  10.34742711  30.35546271\n",
      "  23.39449691   4.70158141   7.21276685  69.92390406  32.44099387\n",
      "  62.3693456   13.79472724  14.99252649  10.04468186  34.83127517\n",
      "   7.17205595  18.84000426  20.94897163  12.97398233  39.99296409\n",
      "  23.39856604  14.71392846  15.53524868  13.71349213  32.64575613\n",
      "  15.46705077  25.86991715  10.45880832   7.46671895  14.29044938\n",
      "  41.44266852  16.34354408  19.60545801  10.07972403  12.59252606\n",
      "   8.00209548  71.7674012   61.53461577  20.76684276  59.42087127]\n",
      "Evolution complete for gen4\n"
     ]
    },
    {
     "name": "stderr",
     "output_type": "stream",
     "text": [
      "/home/connor/Desktop/research/SwarmNoveltyNetwork/.env/lib/python3.10/site-packages/sklearn/manifold/_t_sne.py:996: FutureWarning: The PCA initialization in TSNE will change to have the standard deviation of PC1 equal to 1e-4 in 1.2. This will ensure better convergence.\n",
      "  warnings.warn(\n"
     ]
    },
    {
     "name": "stdout",
     "output_type": "stream",
     "text": [
      "<class 'generation.evolution.ModifiedNoveltyArchieve'>\n",
      "[ 16.87682629  28.13328335   5.50459555   9.04124653  45.12782158\n",
      "  30.08491352  19.83198632   8.8615415   30.63271893  39.88856825\n",
      "   9.93537396  11.22149031   6.25713982  17.5961329    7.55157088\n",
      "  36.60964495  17.84748155  25.2868591    6.83061585  68.45776494\n",
      "  13.89269945  27.64446761  24.13544924  11.52857365  51.28080068\n",
      "  30.63987943  67.44860908   8.87506018  19.49505012   7.06931432\n",
      "   6.33986296  57.42956131  36.4446372   19.48486427  12.38831652\n",
      "  11.74143136  34.93499277  12.77208359  19.43823374  36.19794529\n",
      "  37.3907498   13.00261763  46.49198405  39.85230215  11.4094476\n",
      "  11.4789976   16.45475148 116.27918105  52.28382143  35.7588359\n",
      "  13.07798815  11.50752214   9.84016819  20.41030436  40.8589599\n",
      "  30.69340446  13.32048169   6.65987634  29.83139289  27.91134311\n",
      "  11.0923464    6.99338841  14.78438743  21.05758665  35.85859503\n",
      "  15.52491502  45.70619582  19.50494992  12.03567311  16.16982557\n",
      "  16.24467926  15.73371857  18.04467048  31.607206    37.17763072\n",
      "  12.7106863   15.23649204  23.60500564  36.18338866  40.67631949\n",
      "  19.83113778  37.7340557   22.95502598  30.10591734  13.94228405\n",
      "  41.7873867   24.41979815  29.12314836  11.44301033  15.98952917\n",
      "  12.56055463  13.34023777  24.42571233  27.04818713  37.10806668\n",
      "   7.62077916  22.27947389  21.98961158 115.03472688  21.76065562]\n",
      "Evolution complete for gen5\n"
     ]
    },
    {
     "name": "stderr",
     "output_type": "stream",
     "text": [
      "/home/connor/Desktop/research/SwarmNoveltyNetwork/.env/lib/python3.10/site-packages/sklearn/manifold/_t_sne.py:996: FutureWarning: The PCA initialization in TSNE will change to have the standard deviation of PC1 equal to 1e-4 in 1.2. This will ensure better convergence.\n",
      "  warnings.warn(\n"
     ]
    },
    {
     "name": "stdout",
     "output_type": "stream",
     "text": [
      "<class 'generation.evolution.ModifiedNoveltyArchieve'>\n",
      "[41.78381196 25.32904689 30.47153219 19.47890594 15.77819789 10.65838964\n",
      " 45.79741937 33.73562453 27.07232998 13.99072986 60.26241876  7.91113728\n",
      " 11.33758904 16.59672999 44.86084488 32.09034222 12.88332366 22.81470622\n",
      "  6.52689544  6.81167778 44.86943707 54.6008191  21.25642782 14.68062935\n",
      "  9.76646229 27.76908441  6.29026458  8.36953017 22.04216444 16.06585238\n",
      "  8.99473569  9.70630991  8.65690027 17.24551465 58.04230658 57.51308275\n",
      " 15.22292204 16.29585039 19.43554072 25.4128985  31.13109389 21.3666761\n",
      "  7.07014534  7.61099037 44.06254975 20.3577046   4.97603486  8.05176562\n",
      " 37.27638739 32.28768215 23.73539266 25.98582321 11.06172462 15.43910991\n",
      "  7.24537783 15.856671   26.24022679 24.96441311  9.8517364  72.71929209\n",
      " 14.15104953 28.38430313 10.59766601 17.48778532 26.62147697 22.93281291\n",
      " 12.91747367  7.22391768 22.25052004 22.21283706 73.38604647 13.56215524\n",
      "  9.71615483  9.50018255  8.40797268 19.66081853 46.71997293 22.6582055\n",
      "  4.72390546  6.03905941 24.0041975  24.02298607 19.84646252 10.13835902\n",
      " 10.84864846  7.39327187  9.54954658 25.18338048 10.37506793  8.18802773\n",
      " 12.30420623  7.06641593 28.61414232 21.63437749 22.11433263  9.24798204\n",
      " 63.8930039   9.5220708   8.04367311 24.07835262]\n",
      "Evolution complete for gen6\n"
     ]
    },
    {
     "name": "stderr",
     "output_type": "stream",
     "text": [
      "/home/connor/Desktop/research/SwarmNoveltyNetwork/.env/lib/python3.10/site-packages/sklearn/manifold/_t_sne.py:996: FutureWarning: The PCA initialization in TSNE will change to have the standard deviation of PC1 equal to 1e-4 in 1.2. This will ensure better convergence.\n",
      "  warnings.warn(\n"
     ]
    },
    {
     "name": "stdout",
     "output_type": "stream",
     "text": [
      "<class 'generation.evolution.ModifiedNoveltyArchieve'>\n",
      "[ 19.06484305  15.34579384  21.45435053  18.077118    18.41327011\n",
      "  44.71294332  19.30057169  47.4017134   52.6535472   40.18863781\n",
      "  15.48679303  26.66253074  10.16378132  11.18733949  19.73352309\n",
      "  25.17430294  23.79960709  16.95249772  16.93931578  11.22296685\n",
      "  19.191447    14.94090858  13.75409359  56.07629258   7.1175462\n",
      "  11.40592964  20.97201469  12.25305435  19.72638646  83.88821446\n",
      "  41.78502375  20.00527377  44.62391756  18.26443552  42.40928522\n",
      "  51.66358512  27.08854043  24.50349764   6.54899474  13.43349485\n",
      "  12.73987852  12.04084363  20.36137228  19.63041668 140.7569105\n",
      "  15.33174013  21.50563977  24.8727181   25.86849775  10.44085378\n",
      "  21.5994196   14.48892876  11.1521657   27.41214312  13.40121581\n",
      "   8.59441863  22.19048054  16.38553566  13.01192436  10.6400721\n",
      "  22.35837575  19.06807367  57.18178359  10.05003855  20.21305381\n",
      "  57.05779683  16.37167122  48.83400401   8.22329573   6.89933944\n",
      "  18.47253579  36.34286102  13.76558108  18.12693468  27.6594291\n",
      "  20.58122179  16.33743917  17.05075058  14.89166103  11.30513202\n",
      "  11.82417328   8.36390191  12.10257998  13.03143769  20.93256241\n",
      "  12.6478345    8.54523903  14.82353921  17.685295    22.47438019\n",
      "  11.29842461  46.63518875  20.76512326  21.18736759   9.07610834\n",
      "  16.77609305  12.79039082   9.1620749   17.12013433  27.02538971]\n",
      "Evolution complete for gen7\n"
     ]
    },
    {
     "name": "stderr",
     "output_type": "stream",
     "text": [
      "/home/connor/Desktop/research/SwarmNoveltyNetwork/.env/lib/python3.10/site-packages/sklearn/manifold/_t_sne.py:996: FutureWarning: The PCA initialization in TSNE will change to have the standard deviation of PC1 equal to 1e-4 in 1.2. This will ensure better convergence.\n",
      "  warnings.warn(\n"
     ]
    },
    {
     "name": "stdout",
     "output_type": "stream",
     "text": [
      "<class 'generation.evolution.ModifiedNoveltyArchieve'>\n",
      "[ 7.38851095 23.8834085  19.00661279 20.54612338 54.24807231 24.73219076\n",
      " 15.60877216 20.74499911  9.61747559 48.40450727 24.0152321  19.66190045\n",
      " 23.36335867  9.55692786 10.14782751 38.839596   12.2657837  20.71092752\n",
      "  7.74078687 11.43058959 11.85314091  7.77766067  5.74726207 15.35953202\n",
      "  6.25525106  9.03487721 75.18932544 19.07590915 32.81403473 32.22253128\n",
      " 13.41122554 10.88159478 23.86294136 42.32264204 13.20993598 14.8406642\n",
      " 19.15406505  6.77284082 12.47463012 14.74452315 27.81037622 10.52803062\n",
      " 15.39767486 28.38941497 15.39376027 16.8598245  23.0464824   6.66550099\n",
      " 73.0702763  17.31543627  6.03188957 12.80121859 24.0488455  18.92656558\n",
      " 31.60923453 19.88235146  9.36960617  8.54993077  6.80370717 11.50094353\n",
      " 10.04590058 11.35453085 16.83461292 35.44165716 14.95919689 14.87944067\n",
      " 34.24855532 16.82801154 18.97114502 58.85193663 22.17478142 59.7850642\n",
      " 22.07458472 17.67462475 20.40072669  6.49953228 18.90572144 16.66257335\n",
      " 17.11676713 16.66772785  6.87480643 49.88038638 26.22047521 13.99526568\n",
      " 21.25605365 28.82646096 42.73331026 18.03389071  9.2772554   9.03346332\n",
      " 22.89282612 11.76403244  7.58392734  5.42046583 26.67317298 19.83537331\n",
      " 15.67645458 44.99418453 11.63633456 11.44664854]\n",
      "Evolution complete for gen8\n"
     ]
    },
    {
     "name": "stderr",
     "output_type": "stream",
     "text": [
      "/home/connor/Desktop/research/SwarmNoveltyNetwork/.env/lib/python3.10/site-packages/sklearn/manifold/_t_sne.py:996: FutureWarning: The PCA initialization in TSNE will change to have the standard deviation of PC1 equal to 1e-4 in 1.2. This will ensure better convergence.\n",
      "  warnings.warn(\n"
     ]
    },
    {
     "name": "stdout",
     "output_type": "stream",
     "text": [
      "<class 'generation.evolution.ModifiedNoveltyArchieve'>\n",
      "[ 20.37041298  55.74442661 250.18261317  22.1179695    4.81899909\n",
      "  12.07658023  24.07599165  28.56516465  17.98749147  28.03129271\n",
      "  25.85745643  30.76068152  19.69617972  36.51690603  28.99929141\n",
      "  19.42903646  22.79985579  28.81079495  61.88502849  21.50948616\n",
      "  14.85198968  16.78238207  19.0669125   22.21877173   9.67592154\n",
      "  13.24319605  17.28215288  27.41636023  20.43605031  18.2669961\n",
      "  18.00914161  21.71749664   9.59639286   8.69174497  32.01598795\n",
      "  15.62607571  76.80100301  36.52267502  16.89682209  24.10999583\n",
      "  28.97986662  33.87854404  12.797094     5.28029004  22.95267989\n",
      "  22.42295431  47.87066348  20.37399645  37.17491182   8.83146365\n",
      "  36.95796765  17.54370899  13.76594841  25.29366899  24.63367175\n",
      "  32.20475833  20.47794343  17.8930475   17.66147264  27.23437225\n",
      "   5.95569844   9.46247377  13.07493253   4.57162961  18.83638683\n",
      "  27.80761363   9.98104125  14.59206192  21.17897788  17.73120761\n",
      "  24.82180386  20.65249432  33.20377027  15.34156754  19.69737749\n",
      "  42.07300314  22.71811381  19.56868061  16.18561195   8.36052773\n",
      "  12.82976945  23.62142776  29.24673392   9.65935567  17.00234527\n",
      "  11.15544744  40.14894807  18.73533728  19.13656002  41.09967391\n",
      "  23.04492528  33.81969583  19.20620176   9.42274135  34.07844123\n",
      "  17.29427161  14.13647733  12.98563872  11.68089512  38.6384181 ]\n",
      "Evolution complete for gen9\n"
     ]
    },
    {
     "name": "stderr",
     "output_type": "stream",
     "text": [
      "/home/connor/Desktop/research/SwarmNoveltyNetwork/.env/lib/python3.10/site-packages/sklearn/manifold/_t_sne.py:996: FutureWarning: The PCA initialization in TSNE will change to have the standard deviation of PC1 equal to 1e-4 in 1.2. This will ensure better convergence.\n",
      "  warnings.warn(\n"
     ]
    },
    {
     "name": "stdout",
     "output_type": "stream",
     "text": [
      "<class 'generation.evolution.ModifiedNoveltyArchieve'>\n",
      "[36.09200213  9.64519431  7.92450418 14.84640846 11.30244288  9.72017199\n",
      " 15.15015579 12.11524976 14.76747779 13.83858399 25.46231094 15.54172916\n",
      "  7.91810941  6.5360394  21.32188804  8.71652597 33.47178798 25.62392328\n",
      " 16.20228148 26.68850918 30.75475057  9.86970589 16.6041494  17.70046078\n",
      " 17.44422432 54.78267579 31.73895697 22.51111717 11.70071873  7.86466414\n",
      " 24.1680292  45.27532391 17.61591911 23.69780334 15.24944636 21.67993808\n",
      " 12.39054343 11.14834433 12.14109827 22.47015549 28.79417456 15.56929064\n",
      " 16.47679433 13.22081344 12.82532897 14.56642915 11.70174914 16.99044665\n",
      " 14.53554464 40.96876577  7.84320962 10.77754857 21.49049398 12.10316404\n",
      " 22.60176824 15.3977629   7.84404318  7.01049202 26.93957759 22.36394763\n",
      " 63.22746207 25.98067162 24.60694338 16.84538405 19.50372804 15.83243555\n",
      " 15.07375194 15.09138485 29.11130934 21.08241699 12.59553568 15.66496316\n",
      " 20.95846473 28.81537085 29.02317224 49.84181878 18.2420216  14.02225927\n",
      "  6.61091487 14.29827911 46.68892305 19.73745508 13.27331812 22.19451782\n",
      " 15.32580178 31.40078715 12.34842595 13.71101472 15.16617482 47.9852228\n",
      " 24.82173169 22.1020131   8.54945982 10.60129348 26.38138414 30.55009944\n",
      " 10.48097245 32.53582151 15.74844647 16.53294997]\n",
      "Evolution complete for gen10\n"
     ]
    },
    {
     "name": "stderr",
     "output_type": "stream",
     "text": [
      "/home/connor/Desktop/research/SwarmNoveltyNetwork/.env/lib/python3.10/site-packages/sklearn/manifold/_t_sne.py:996: FutureWarning: The PCA initialization in TSNE will change to have the standard deviation of PC1 equal to 1e-4 in 1.2. This will ensure better convergence.\n",
      "  warnings.warn(\n"
     ]
    },
    {
     "name": "stdout",
     "output_type": "stream",
     "text": [
      "<class 'generation.evolution.ModifiedNoveltyArchieve'>\n",
      "[ 19.14498525  36.36817167  20.82176161  20.31599035  15.16576665\n",
      "  11.2411761   22.64964708  16.58714037  37.49444986  31.8924645\n",
      "  20.25610176   9.2739043   13.29729076  23.27827204  22.76703262\n",
      "  10.17248849  13.86115875  15.2310566    7.01930512  16.11325429\n",
      "  30.59112391  11.53350207  21.88407532  20.20027949  14.4873297\n",
      "   5.8715192  198.00199371  34.64858891  27.30621401  15.19574759\n",
      "  27.62433839  16.47491472  18.03799366  16.87142769  13.51603286\n",
      "  36.62717325  19.28640312  21.38430136  15.85366333  13.18701048\n",
      "  14.65160178  14.42972329  20.79224431  24.02149433  35.97954155\n",
      "  82.62149891  22.22931051  23.0330436   23.32355744  16.00981054\n",
      "  13.34427364  18.2860676   26.29955018  39.08093299  36.61591943\n",
      "  17.33217098  55.40307503  16.13010002  36.0940009   59.64979736\n",
      "  27.5484201   40.75529707  12.54928758  33.28731484  18.58109543\n",
      "  20.36902784  22.97511053  11.09069618  41.98721364  15.0836834\n",
      "  13.84522652  26.77837641  13.46305792  16.55967414  29.42135888\n",
      "  22.01829755  20.59362049  15.2626992    7.19938858  14.95335066\n",
      "  22.59913362  21.62828632 103.27245881  20.28266385   7.46582548\n",
      "   7.35046145 150.7089776   20.58850094  25.46839245  15.72850384\n",
      "  54.43255976  37.12398389  16.82899337  14.68926801  78.93306938\n",
      "  12.62587014  28.75371315  38.18472967  15.25412659  12.97496315]\n",
      "Evolution complete for gen11\n"
     ]
    },
    {
     "name": "stderr",
     "output_type": "stream",
     "text": [
      "/home/connor/Desktop/research/SwarmNoveltyNetwork/.env/lib/python3.10/site-packages/sklearn/manifold/_t_sne.py:996: FutureWarning: The PCA initialization in TSNE will change to have the standard deviation of PC1 equal to 1e-4 in 1.2. This will ensure better convergence.\n",
      "  warnings.warn(\n"
     ]
    },
    {
     "name": "stdout",
     "output_type": "stream",
     "text": [
      "<class 'generation.evolution.ModifiedNoveltyArchieve'>\n",
      "[15.58649567 17.55009538 16.14598222 12.04136046 18.59019605 17.08006448\n",
      " 10.95913443 21.45979568 28.75925962 30.75100649 46.55742339 16.89961533\n",
      " 24.51550755 12.33570369 36.06136695 26.16281156 11.84972905 21.68174144\n",
      "  9.64905576 14.68222682 17.92053555 27.35539539 15.9839268  12.36502241\n",
      "  4.11931641 11.31896159 52.80933272 52.72738347 43.15100929 10.56072163\n",
      " 16.22086844 24.65080199 45.02579245 18.48750774 96.07952693 11.84073221\n",
      " 21.19144919 13.33481351 17.7915884  14.65909539 14.80456807 18.28501572\n",
      " 24.32281289 22.61302243 22.80028563 13.25469963 17.50938318 19.0106398\n",
      " 16.98342585 16.3496393  15.09635202 18.66245687 10.96873094 32.06827723\n",
      " 11.1589657  19.49695152 14.89443677 14.93916157 38.36749711 10.08235031\n",
      " 15.01850368 22.15529949 33.06113387 18.77744294 12.90330607 13.09360745\n",
      " 17.87696149 16.18450783 11.88005423 85.79292217 13.42355926 16.37316892\n",
      " 20.97454875 14.35219604 15.1768807  14.4303695  43.21348906 21.19695469\n",
      " 15.49287801 14.70653681 12.12202733 13.53774806 12.76940406 21.10448782\n",
      " 22.77246936 11.5381393  35.67228943 16.95566956 29.88673927 10.92697451\n",
      " 15.20098567  8.00787854 15.01229395 23.90632529 13.64847965 14.69780826\n",
      " 19.64229202 12.40252906 24.41804317 30.80363203]\n",
      "Evolution complete for gen12\n"
     ]
    },
    {
     "name": "stderr",
     "output_type": "stream",
     "text": [
      "/home/connor/Desktop/research/SwarmNoveltyNetwork/.env/lib/python3.10/site-packages/sklearn/manifold/_t_sne.py:996: FutureWarning: The PCA initialization in TSNE will change to have the standard deviation of PC1 equal to 1e-4 in 1.2. This will ensure better convergence.\n",
      "  warnings.warn(\n"
     ]
    },
    {
     "name": "stdout",
     "output_type": "stream",
     "text": [
      "<class 'generation.evolution.ModifiedNoveltyArchieve'>\n",
      "[ 13.05052327   8.79732136  13.0060411   15.59855579  12.69642383\n",
      "  15.84489637  11.81266031  15.49854392  28.31945433  15.98508096\n",
      "  12.80605121  11.68580894 147.50678158  16.58625254  26.91227086\n",
      "  13.93267521  16.0083369   19.74669444  19.79642706  18.57422074\n",
      "  10.14449648  35.58510909  11.33892138  47.16811271  18.00765882\n",
      "  15.76406953  21.25362604  13.72057057  14.79828092  19.46378218\n",
      "   5.71379402  22.6799052   17.53197055  43.81053589  17.18168616\n",
      "  10.92283977  13.6093502   16.64882551  20.9562206   21.38091283\n",
      "  22.63784273  19.28751927  11.84996408  22.25843398  14.98445166\n",
      "  15.75197457   8.6754818   16.19490898  12.39244732  26.05920504\n",
      "  10.13039831  61.10559996  15.4032951   16.37782554  16.02722755\n",
      "  23.73582756   2.81474526  15.86718317   5.89664656  19.43873989\n",
      "   8.99033181  41.99992311   8.91726312  24.58672902  17.39575037\n",
      "  14.14287386  33.26578721  33.71371716  41.05339404  14.73223386\n",
      "  21.08171632  32.2529658   22.01455306  21.73621733  24.13632055\n",
      "  13.53985082  77.50331228 102.45592304  22.54764351  11.19695067\n",
      "  11.89017736  22.97253892  13.59210717  10.73801999  22.05384603\n",
      "  17.10530213  16.50059945  56.07333195  13.62943048  13.4785253\n",
      "  13.93451732  12.1953386   10.6378783   16.38969732  20.45273363\n",
      "  20.47646763  59.7719096   12.19527342   3.33983818  14.36167632]\n",
      "Evolution complete for gen13\n"
     ]
    },
    {
     "name": "stderr",
     "output_type": "stream",
     "text": [
      "/home/connor/Desktop/research/SwarmNoveltyNetwork/.env/lib/python3.10/site-packages/sklearn/manifold/_t_sne.py:996: FutureWarning: The PCA initialization in TSNE will change to have the standard deviation of PC1 equal to 1e-4 in 1.2. This will ensure better convergence.\n",
      "  warnings.warn(\n"
     ]
    },
    {
     "name": "stdout",
     "output_type": "stream",
     "text": [
      "<class 'generation.evolution.ModifiedNoveltyArchieve'>\n",
      "[15.06520524 10.71653991 18.94159845 14.27242877 50.60090086 10.28448795\n",
      " 13.44389425 21.19816555 11.91509488 13.07916299 21.84245351  8.89482131\n",
      " 13.33490508 11.64042613 16.49213317 44.12182808 50.03339681 14.38298234\n",
      "  8.22356323 11.49484573  7.48953733 17.65940456 13.64573997 31.61057498\n",
      " 12.00949255 17.47098514 14.7278351  18.70182201 25.25534495 11.24382109\n",
      "  5.15646365 60.72149474 66.94942803 13.88171089 27.46920982 17.1258066\n",
      " 12.25867107 16.71090876 53.45673039 17.00712848 12.6877975  16.96676397\n",
      " 42.15673101 28.90246076 11.49970296 30.39205841 21.90394961 19.03651557\n",
      " 31.77163974 56.23337165 12.68268174  7.85579181 24.7607523  86.20880581\n",
      " 67.76745825 26.43650717 15.3520715  48.3769011  21.29002611 24.85441361\n",
      " 34.15737412 35.75633725  9.85003102 15.83252461 37.45737102 12.80349991\n",
      " 16.04522617 22.93968567 22.71668493 15.90353514 33.4852318  21.17676269\n",
      " 10.52545248 11.03130028 16.19408053 26.67492943 15.0295979  46.01394349\n",
      " 17.01820061 17.97041617 21.03592067 17.5439666   7.3287842  28.73220667\n",
      " 24.23680661 11.08328994 23.89310731 42.27986513 15.11007655 15.89022778\n",
      " 75.26854764 15.97209561 13.16857546 15.36759229 15.75772337  8.84571243\n",
      " 26.4925216  11.58263652 14.12108646 19.15550625]\n",
      "Evolution complete for gen14\n"
     ]
    },
    {
     "name": "stderr",
     "output_type": "stream",
     "text": [
      "/home/connor/Desktop/research/SwarmNoveltyNetwork/.env/lib/python3.10/site-packages/sklearn/manifold/_t_sne.py:996: FutureWarning: The PCA initialization in TSNE will change to have the standard deviation of PC1 equal to 1e-4 in 1.2. This will ensure better convergence.\n",
      "  warnings.warn(\n"
     ]
    }
   ],
   "source": [
    "import numpy as np\n",
    "import torch\n",
    "from data.swarmset import ContinuingDataset, SwarmDataset\n",
    "from networks.embedding import NoveltyEmbedding\n",
    "from generation.evolution import ModifiedHaltingEvolution\n",
    "from networks.archive import DataAggregationArchive\n",
    "from hil.HIL import HIL\n",
    "import time\n",
    "from networks.ensemble import Ensemble\n",
    "\n",
    "trial_name = f\"{str(int(time.time()))}\"\n",
    "\n",
    "TRAIN = True\n",
    "CLUSTER_AND_DISPLAY = True\n",
    "WRITE_OUT = False\n",
    "device = torch.device('cuda' if torch.cuda.is_available() else 'cpu')\n",
    "\n",
    "ensemble = Ensemble(size=3, output_size=5, lr=30e-4, learning_decay=0.9, decay_step=4, threshold=9.0, weight_decay=1e-6, new_model=True)\n",
    "ensemble.load_ensemble(\"final-original-72\")\n",
    "# ensemble.load_ensemble(\"full-mini-HIL\")\n",
    "network = ensemble.ensemble[0]\n",
    "network.eval()\n",
    "\n",
    "SAVE_CLUSTER_IMAGES = True\n",
    "SAVE_CLUSTER_MEDOIDS = True\n",
    "PRETRAINING = True\n",
    "HUMAN_IN_LOOP = True\n",
    "SYNTHETIC_HIL = False\n",
    "EVOLUTION = True\n",
    "EPOCHS = 20\n",
    "DATA_SIZE = 10000\n",
    "EVOLUTIONS = 50\n",
    "K_CLUSTERS = 8\n",
    "\n",
    "anchor_dataset = ContinuingDataset(\"data\")\n",
    "sampled_dataset = SwarmDataset(\"data/full-mini-dual\", rank=0)\n",
    "evolution, _ = ModifiedHaltingEvolution.defaultEvolver(steps=1200, n_agents=24, evolve_population=100, seed=None)\n",
    "dataset = anchor_dataset if EVOLUTION else sampled_dataset\n",
    "random_archive = DataAggregationArchive(scalar=True)\n",
    "\n",
    "hil = HIL(name=trial_name, synthetic=SYNTHETIC_HIL, data_limiter=DATA_SIZE, clusters=K_CLUSTERS)\n",
    "HIL_archive = DataAggregationArchive()\n",
    "\n",
    "for gen in range(EVOLUTIONS):\n",
    "    # Simulate current population + Save Data\n",
    "    for i in range(len(evolution.getPopulation())):\n",
    "        # The collection of the original behavior vector below is only used to collect data to compare with the baseline\n",
    "        visual_behavior, genome, baseline_behavior = evolution.next()\n",
    "        dataset.new_entry(visual_behavior, genome, baseline_behavior)\n",
    "\n",
    "    medoid_acc, cluster_acc = hil.record_medoids(network, dataset)\n",
    "\n",
    "    # Then, evolve\n",
    "    start_time = time.time()\n",
    "    embedded_archive = hil.getEmbeddedArchive(dataset, network)\n",
    "    evolution.overwriteArchive(embedded_archive, random_archive)\n",
    "    embedded_behavior = embedded_archive.archive[-evolution.evolve_config.population:]\n",
    "    evolution.overwriteBehavior(embedded_behavior)\n",
    "    evolution.saveArchive(trial_name)\n",
    "    evolution.evolve()\n",
    "    evolution.restart_screen()\n",
    "\n",
    "    print(f\"Evolution complete for gen{gen}\")\n",
    "\n",
    "    # Cluster current dataset, display clusters, and save for analysis\n",
    "    if len(dataset) > 0 and SAVE_CLUSTER_IMAGES:\n",
    "        hil.embed_and_cluster(network, dataset, auto_quit=True)\n",
    "        evolution.restart_screen()"
   ],
   "metadata": {
    "collapsed": false
   }
  },
  {
   "cell_type": "code",
   "execution_count": null,
   "outputs": [],
   "source": [
    "from ui.clustering_gui import ClusteringGUI\n",
    "from NovelSwarmBehavior.novel_swarms.novelty.NoveltyArchive import NoveltyArchive\n",
    "\n",
    "# Cluster over saved behaviors\n",
    "archive = NoveltyArchive()\n",
    "for i, (_, genome, behavior, _, _, _, _) in enumerate(anchor_dataset):\n",
    "    archive.addToArchive(vec=behavior, genome=genome)\n",
    "\n",
    "agent_config = ConfigurationDefaults.DIFF_DRIVE_AGENT\n",
    "world_config = ConfigurationDefaults.RECTANGULAR_WORLD\n",
    "world_config.addAgentConfig(agent_config)\n",
    "config = ResultsConfig(archive=archive, k_clusters=7, world_config=world_config, tsne_perplexity=20, tsne_early_exaggeration=2, skip_tsne=False)\n",
    "\n",
    "gui = ClusteringGUI(config)\n",
    "gui.displayGUI()"
   ],
   "metadata": {
    "collapsed": false
   }
  }
 ],
 "metadata": {
  "kernelspec": {
   "display_name": "Python 3",
   "language": "python",
   "name": "python3"
  },
  "language_info": {
   "codemirror_mode": {
    "name": "ipython",
    "version": 2
   },
   "file_extension": ".py",
   "mimetype": "text/x-python",
   "name": "python",
   "nbconvert_exporter": "python",
   "pygments_lexer": "ipython2",
   "version": "2.7.6"
  }
 },
 "nbformat": 4,
 "nbformat_minor": 0
}
