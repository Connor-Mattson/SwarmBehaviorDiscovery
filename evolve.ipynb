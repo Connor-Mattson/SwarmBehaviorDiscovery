{
 "cells": [
  {
   "cell_type": "code",
   "execution_count": 1,
   "metadata": {
    "collapsed": true
   },
   "outputs": [
    {
     "name": "stdout",
     "output_type": "stream",
     "text": [
      "pygame 2.1.2 (SDL 2.0.16, Python 3.10.6)\n",
      "Hello from the pygame community. https://www.pygame.org/contribute.html\n"
     ]
    }
   ],
   "source": [
    "from NovelSwarmBehavior.novel_swarms.behavior.AngularMomentum import AngularMomentumBehavior\n",
    "from NovelSwarmBehavior.novel_swarms.behavior.AverageSpeed import AverageSpeedBehavior\n",
    "from NovelSwarmBehavior.novel_swarms.behavior.GroupRotationBehavior import GroupRotationBehavior\n",
    "from NovelSwarmBehavior.novel_swarms.behavior.RadialVariance import RadialVarianceBehavior\n",
    "from NovelSwarmBehavior.novel_swarms.behavior.ScatterBehavior import ScatterBehavior\n",
    "from NovelSwarmBehavior.novel_swarms.behavior.SensorOffset import GeneElementDifference\n",
    "from NovelSwarmBehavior.novel_swarms.config.AgentConfig import DiffDriveAgentConfig\n",
    "from NovelSwarmBehavior.novel_swarms.config.EvolutionaryConfig import GeneticEvolutionConfig\n",
    "from NovelSwarmBehavior.novel_swarms.config.OutputTensorConfig import OutputTensorConfig\n",
    "from NovelSwarmBehavior.novel_swarms.config.WorldConfig import RectangularWorldConfig\n",
    "from NovelSwarmBehavior.novel_swarms.novelty.GeneRule import GeneRule\n",
    "from NovelSwarmBehavior.novel_swarms.sensors.GenomeDependentSensor import GenomeBinarySensor\n",
    "from NovelSwarmBehavior.novel_swarms.sensors.SensorSet import SensorSet\n",
    "from generation.evolution import ModifiedHaltingEvolution, ModifiedNoveltyArchieve\n",
    "from generation.halted_evolution import HaltedEvolution\n",
    "from data.swarmset import SwarmDataset, DataBuilder\n",
    "import numpy as np\n",
    "from scipy import ndimage\n",
    "import cv2\n",
    "import pygame\n",
    "\n",
    "def resizeInput(X, w=200):\n",
    "    frame = X.astype(np.uint8)\n",
    "    resized = cv2.resize(frame, dsize=(w, w), interpolation=cv2.INTER_AREA)\n",
    "    return resized\n",
    "\n",
    "def update_network(network, loss_fn, optim, anchor_image, pos_image, neg_image):\n",
    "    optim.zero_grad()\n",
    "    anchor_out, pos_out, neg_out = network.network_with_transforms(anchor_image, pos_image, neg_image)\n",
    "    loss = loss_fn(anchor_out, pos_out, neg_out)\n",
    "    loss.backward()\n",
    "    optim.step()\n",
    "    return loss"
   ]
  },
  {
   "cell_type": "code",
   "execution_count": null,
   "outputs": [
    {
     "name": "stdout",
     "output_type": "stream",
     "text": [
      "HIL Init!\n"
     ]
    }
   ],
   "source": [
    "import numpy as np\n",
    "import torch\n",
    "from data.swarmset import ContinuingDataset, SwarmDataset\n",
    "from networks.embedding import NoveltyEmbedding\n",
    "from generation.evolution import ModifiedHaltingEvolution\n",
    "from networks.archive import DataAggregationArchive\n",
    "from hil.HIL import HIL\n",
    "import time\n",
    "from networks.ensemble import Ensemble\n",
    "\n",
    "trial_name = f\"{str(int(time.time()))}\"\n",
    "\n",
    "TRAIN = True\n",
    "CLUSTER_AND_DISPLAY = True\n",
    "WRITE_OUT = False\n",
    "device = torch.device('cuda' if torch.cuda.is_available() else 'cpu')\n",
    "\n",
    "ensemble = Ensemble(size=3, output_size=5, lr=30e-4, learning_decay=0.9, decay_step=4, threshold=9.0, weight_decay=1e-4, new_model=True)\n",
    "ensemble.load_ensemble(\"final-original-72\")\n",
    "# ensemble.load_ensemble(\"full-mini-HIL\")\n",
    "network = ensemble.ensemble[2]\n",
    "\n",
    "SAVE_CLUSTER_IMAGES = True\n",
    "SAVE_CLUSTER_MEDOIDS = True\n",
    "PRETRAINING = True\n",
    "HUMAN_IN_LOOP = True\n",
    "SYNTHETIC_HIL = False\n",
    "EVOLUTION = True\n",
    "EPOCHS = 20\n",
    "DATA_SIZE = 10000\n",
    "EVOLUTIONS = 15\n",
    "K_CLUSTERS = 8\n",
    "\n",
    "anchor_dataset = ContinuingDataset(\"data\")\n",
    "sampled_dataset = SwarmDataset(\"data/full-mini\", rank=0)\n",
    "evolution, _ = ModifiedHaltingEvolution.defaultEvolver(steps=1200, n_agents=24, evolve_population=100, seed=None)\n",
    "dataset = anchor_dataset if EVOLUTION else sampled_dataset\n",
    "random_archive = DataAggregationArchive(scalar=True)\n",
    "\n",
    "hil = HIL(name=trial_name, synthetic=SYNTHETIC_HIL, data_limiter=DATA_SIZE, clusters=K_CLUSTERS)\n",
    "HIL_archive = DataAggregationArchive()\n",
    "\n",
    "for gen in range(EVOLUTIONS):\n",
    "    # Simulate current population + Save Data\n",
    "    for i in range(len(evolution.getPopulation())):\n",
    "        # The collection of the original behavior vector below is only used to collect data to compare with the baseline\n",
    "        visual_behavior, genome, baseline_behavior = evolution.next()\n",
    "        dataset.new_entry(visual_behavior, genome, baseline_behavior)\n",
    "\n",
    "    medoid_acc, cluster_acc = hil.record_medoids(network, dataset)\n",
    "\n",
    "    # Then, evolve\n",
    "    start_time = time.time()\n",
    "    embedded_archive = hil.getEmbeddedArchive(dataset, network)\n",
    "    evolution.overwriteArchive(embedded_archive, random_archive)\n",
    "    embedded_behavior = embedded_archive.archive[-evolution.evolve_config.population:]\n",
    "    evolution.overwriteBehavior(embedded_behavior)\n",
    "    evolution.evolve()\n",
    "    evolution.restart_screen()\n",
    "\n",
    "    print(f\"Evolution complete for gen{gen}\")\n",
    "\n",
    "    # Cluster current dataset, display clusters, and save for analysis\n",
    "    if len(dataset) > 0 and SAVE_CLUSTER_IMAGES:\n",
    "        hil.embed_and_cluster(network, dataset, auto_quit=True)\n",
    "        evolution.restart_screen()"
   ],
   "metadata": {
    "collapsed": false,
    "pycharm": {
     "is_executing": true
    }
   }
  },
  {
   "cell_type": "code",
   "execution_count": null,
   "outputs": [],
   "source": [
    "from ui.clustering_gui import ClusteringGUI\n",
    "from NovelSwarmBehavior.novel_swarms.novelty.NoveltyArchive import NoveltyArchive\n",
    "\n",
    "# Cluster over saved behaviors\n",
    "archive = NoveltyArchive()\n",
    "for i, (_, genome, behavior, _, _, _, _) in enumerate(anchor_dataset):\n",
    "    archive.addToArchive(vec=behavior, genome=genome)\n",
    "\n",
    "agent_config = ConfigurationDefaults.DIFF_DRIVE_AGENT\n",
    "world_config = ConfigurationDefaults.RECTANGULAR_WORLD\n",
    "world_config.addAgentConfig(agent_config)\n",
    "config = ResultsConfig(archive=archive, k_clusters=7, world_config=world_config, tsne_perplexity=20, tsne_early_exaggeration=2, skip_tsne=False)\n",
    "\n",
    "gui = ClusteringGUI(config)\n",
    "gui.displayGUI()"
   ],
   "metadata": {
    "collapsed": false
   }
  }
 ],
 "metadata": {
  "kernelspec": {
   "display_name": "Python 3",
   "language": "python",
   "name": "python3"
  },
  "language_info": {
   "codemirror_mode": {
    "name": "ipython",
    "version": 2
   },
   "file_extension": ".py",
   "mimetype": "text/x-python",
   "name": "python",
   "nbconvert_exporter": "python",
   "pygments_lexer": "ipython2",
   "version": "2.7.6"
  }
 },
 "nbformat": 4,
 "nbformat_minor": 0
}
