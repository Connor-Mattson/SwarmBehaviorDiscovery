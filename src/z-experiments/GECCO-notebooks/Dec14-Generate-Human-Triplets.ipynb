{
 "cells": [
  {
   "cell_type": "code",
   "execution_count": 1,
   "metadata": {
    "collapsed": true
   },
   "outputs": [
    {
     "name": "stdout",
     "output_type": "stream",
     "text": [
      "Begin Test\n",
      "4226\n"
     ]
    }
   ],
   "source": [
    "import os\n",
    "import sys\n",
    "module_path = os.path.abspath(os.path.join('..'))\n",
    "if module_path not in sys.path:\n",
    "    sys.path.append(module_path)\n",
    "\n",
    "import random\n",
    "import torch\n",
    "import numpy as np\n",
    "\n",
    "def vecToCSVLine(vector):\n",
    "    line = \"\"\n",
    "    for i, val in enumerate(vector):\n",
    "        line += str(val)\n",
    "        if i < len(vector) - 1:\n",
    "            line += \", \"\n",
    "    line += \"\\n\"\n",
    "    return line\n",
    "\n",
    "def CSVLineToVec(line):\n",
    "    line_list = line.strip().replace(\"\\n\", \"\").split(\",\")\n",
    "    float_list = []\n",
    "    for i in line_list:\n",
    "        float_list.append(float(i))\n",
    "    float_list = np.array(float_list)\n",
    "    return float_list\n",
    "\n",
    "print(\"Begin Test\")\n",
    "\n",
    "TOTAL_CLASSES = 6\n",
    "classes = {i:[] for i in range(TOTAL_CLASSES)}\n",
    "\n",
    "DATA_TEST_SIZE = 1000\n",
    "OUT = \"../data/oracle\"\n",
    "with open(os.path.join(OUT, \"original-hand-labeled-classes.txt\"), \"r\") as f:\n",
    "    lines = f.readlines()\n",
    "    for line in lines:\n",
    "        triplet = CSVLineToVec(line)\n",
    "        classes[int(triplet[1])].append(int(triplet[0]))\n",
    "\n",
    "triplets = []\n",
    "for i in classes:\n",
    "    if i == 0: continue\n",
    "    for j in range(0, len(classes[i]) - 1, 2):\n",
    "        anchor = classes[i][j]\n",
    "        positive = classes[i][j + 1]\n",
    "        for k in range(i + 1, len(classes)):\n",
    "            for l in range(j%2, len(classes[k]), 2):\n",
    "                negative = classes[k][l]\n",
    "                triplets.append([anchor, positive, negative])\n",
    "\n",
    "print(len(triplets))\n",
    "# triplets = random.choices(triplets, k=5000)\n",
    "# print(len(triplets))\n",
    "\n",
    "with open(os.path.join(OUT, \"human-triplets.txt\"), \"w\") as f:\n",
    "    for i in range(len(triplets)):\n",
    "        f.write(vecToCSVLine(triplets[i]))"
   ]
  },
  {
   "cell_type": "code",
   "execution_count": null,
   "outputs": [],
   "source": [],
   "metadata": {
    "collapsed": false
   }
  }
 ],
 "metadata": {
  "kernelspec": {
   "display_name": "Python 3",
   "language": "python",
   "name": "python3"
  },
  "language_info": {
   "codemirror_mode": {
    "name": "ipython",
    "version": 2
   },
   "file_extension": ".py",
   "mimetype": "text/x-python",
   "name": "python",
   "nbconvert_exporter": "python",
   "pygments_lexer": "ipython2",
   "version": "2.7.6"
  }
 },
 "nbformat": 4,
 "nbformat_minor": 0
}
