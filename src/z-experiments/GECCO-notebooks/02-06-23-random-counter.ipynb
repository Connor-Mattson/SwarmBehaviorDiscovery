{
 "cells": [
  {
   "cell_type": "code",
   "execution_count": 1,
   "metadata": {
    "collapsed": true
   },
   "outputs": [
    {
     "name": "stdout",
     "output_type": "stream",
     "text": [
      "pygame 2.1.2 (SDL 2.0.16, Python 3.10.6)\n",
      "Hello from the pygame community. https://www.pygame.org/contribute.html\n"
     ]
    }
   ],
   "source": [
    "import torch\n",
    "import time\n",
    "import os\n",
    "import sys\n",
    "module_path = os.path.abspath(os.path.join('..'))\n",
    "if module_path not in sys.path:\n",
    "    sys.path.append(module_path)\n",
    "\n",
    "from data.swarmset import ContinuingDataset, SwarmDataset\n",
    "from src.networks.embedding import NoveltyEmbedding\n",
    "from src.networks.archive import DataAggregationArchive\n",
    "from src.networks.ensemble import Ensemble\n",
    "import numpy as np\n",
    "from scipy import ndimage\n",
    "import random\n",
    "from sklearn.manifold import TSNE\n",
    "import matplotlib\n",
    "import matplotlib.pyplot as plt\n",
    "\n",
    "matplotlib.rcParams['pdf.fonttype'] = 42\n",
    "matplotlib.rcParams['ps.fonttype'] = 42\n",
    "\n",
    "def CSVLineToVec(line):\n",
    "    line_list = line.strip().replace(\"\\n\", \"\").split(\",\")\n",
    "    float_list = []\n",
    "    for i in line_list:\n",
    "        float_list.append(float(i))\n",
    "    float_list = np.array(float_list)\n",
    "    return float_list"
   ]
  },
  {
   "cell_type": "code",
   "execution_count": 4,
   "outputs": [
    {
     "name": "stdout",
     "output_type": "stream",
     "text": [
      "Counts at 0: [5, 1, 0, 0, 3, 3, 0, 0, 0, 0]\n",
      "Distinct: 4\n",
      "Counts at 12: [2, 2, 2, 2, 2, 2, 0, 0, 0, 0]\n",
      "Distinct: 6\n",
      "Counts at 24: [7, 3, 0, 0, 1, 1, 0, 0, 0, 0]\n",
      "Distinct: 4\n",
      "Counts at 36: [7, 1, 0, 1, 3, 0, 0, 0, 0, 0]\n",
      "Distinct: 4\n",
      "Counts at 48: [3, 2, 0, 0, 4, 3, 0, 0, 0, 0]\n",
      "Distinct: 4\n",
      "Counts at 60: [1, 1, 2, 7, 0, 1, 0, 0, 0, 0]\n",
      "Distinct: 5\n",
      "Counts at 72: [3, 2, 0, 3, 2, 2, 0, 0, 0, 0]\n",
      "Distinct: 5\n",
      "Counts at 84: [2, 3, 1, 3, 1, 2, 0, 0, 0, 0]\n",
      "Distinct: 6\n",
      "Counts at 96: [4, 5, 1, 1, 0, 1, 0, 0, 0, 0]\n",
      "Distinct: 5\n",
      "Counts at 108: [2, 1, 1, 2, 4, 2, 0, 0, 0, 0]\n",
      "Distinct: 6\n",
      "Averages: [[3.6 2.1 0.7 1.9 2.  1.7 0.  0.  0.  0. ]], Distinct: 4.9\n"
     ]
    }
   ],
   "source": [
    "TESTING_FILE = \"heuristic-simple-model-classes.txt\"\n",
    "OUT = \"../data/oracle\"\n",
    "\n",
    "validation_classes = []\n",
    "with open(os.path.join(OUT, TESTING_FILE), \"r\") as f:\n",
    "    lines = f.readlines()\n",
    "    validation_classes = [-1 for i in range(len(lines))]\n",
    "    for line in lines:\n",
    "        triplet = CSVLineToVec(line)\n",
    "        validation_classes[int(triplet[0])] = int(triplet[1])\n",
    "\n",
    "max_classes = 10\n",
    "total_trials = 10\n",
    "k = 12\n",
    "start = 0\n",
    "total = np.array([[0 for _ in range(max_classes)]])\n",
    "distinct_count = 0.0\n",
    "for i in range(start, k * total_trials, k):\n",
    "    counts = [0 for _ in range(max_classes)]\n",
    "    this_distinct = 0\n",
    "    for j in range(k):\n",
    "        index=validation_classes[i + j]\n",
    "        if index == 8 or index == 9:\n",
    "            index = 0\n",
    "        counts[index] += 1\n",
    "\n",
    "    print(f\"Counts at {i}: {counts}\")\n",
    "    for c in counts:\n",
    "        if c > 0:\n",
    "            this_distinct += 1\n",
    "    print(f\"Distinct: {this_distinct}\")\n",
    "\n",
    "    distinct_count += this_distinct\n",
    "    total += np.array(counts)\n",
    "\n",
    "print(f\"Averages: {total / total_trials}, Distinct: {distinct_count / total_trials}\")"
   ],
   "metadata": {
    "collapsed": false
   }
  }
 ],
 "metadata": {
  "kernelspec": {
   "display_name": "Python 3",
   "language": "python",
   "name": "python3"
  },
  "language_info": {
   "codemirror_mode": {
    "name": "ipython",
    "version": 2
   },
   "file_extension": ".py",
   "mimetype": "text/x-python",
   "name": "python",
   "nbconvert_exporter": "python",
   "pygments_lexer": "ipython2",
   "version": "2.7.6"
  }
 },
 "nbformat": 4,
 "nbformat_minor": 0
}
