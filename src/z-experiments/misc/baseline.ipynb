{
 "cells": [
  {
   "cell_type": "code",
   "execution_count": null,
   "outputs": [],
   "source": [
    "from novel_swarms.config.defaults import ConfigurationDefaults\n",
    "from src.generation.evolution import ModifiedHaltingEvolution\n",
    "from sklearn_extra.cluster import KMedoids\n",
    "import pygame\n",
    "import time\n",
    "import os"
   ],
   "metadata": {
    "collapsed": false
   }
  },
  {
   "cell_type": "code",
   "execution_count": null,
   "metadata": {
    "collapsed": true
   },
   "outputs": [],
   "source": [
    "evolution, screen = ModifiedHaltingEvolution.defaultEvolver(steps=600, evolve_population=100)\n",
    "discovery = evolution.behavior_discovery\n",
    "\n",
    "FRAMERATE = 60\n",
    "running = True\n",
    "\n",
    "outputs = []\n",
    "name = f\"{str(int(time.time()))}\"\n",
    "parent_dir = \"data/baseline\"\n",
    "out_path = os.path.join(parent_dir, name)\n",
    "os.mkdir(out_path)\n",
    "\n",
    "for generation in range(20):\n",
    "\n",
    "    if not running:\n",
    "        break\n",
    "\n",
    "    discovery.curr_generation = generation\n",
    "\n",
    "    # Population loop\n",
    "    for i, genome in enumerate(discovery.population):\n",
    "        # Looped Event Handling\n",
    "        for event in pygame.event.get():\n",
    "            # Cancel the game loop if user quits the GUI\n",
    "            if event.type == pygame.QUIT:\n",
    "                running = False\n",
    "\n",
    "        if not running:\n",
    "            break\n",
    "\n",
    "        screen.fill((0, 0, 0))\n",
    "\n",
    "        discovery.curr_genome = i\n",
    "        discovery.runSinglePopulation(screen=screen, i=i, seed=i, output_config=None)\n",
    "        pygame.display.flip()\n",
    "        # Limit the FPS of the simulation to FRAMERATE\n",
    "        pygame.time.Clock().tick(FRAMERATE)\n",
    "\n",
    "    screen.fill((0, 0, 0))\n",
    "    discovery.evaluate()\n",
    "    pygame.display.flip()\n",
    "    discovery.evolve()\n",
    "\n",
    "    current_time = time.time()\n",
    "    last_gen_timestamp = current_time\n",
    "\n",
    "    print(\"MEDOIDS TIME\")\n",
    "    kmedoids = KMedoids(n_clusters=8, random_state=0).fit(discovery.archive.archive)\n",
    "    medoids = kmedoids.medoid_indices_\n",
    "\n",
    "    # Collect Medoid Information\n",
    "    output = \"\"\n",
    "    for i in medoids:\n",
    "        line = \"[\"\n",
    "        for j in discovery.archive.genotypes[i]:\n",
    "            line += str(j) + \", \"\n",
    "        output += line + \"],\\n\"\n",
    "\n",
    "    with open(f\"{out_path}/{generation}.txt\", \"w\") as f:\n",
    "        f.write(output)\n",
    "        f.close()\n",
    "\n",
    "    print(f\"Completed Generation {generation}\")\n",
    "\n",
    "pygame.quit()"
   ]
  },
  {
   "cell_type": "code",
   "execution_count": null,
   "outputs": [],
   "source": [],
   "metadata": {
    "collapsed": false
   }
  },
  {
   "cell_type": "code",
   "execution_count": null,
   "outputs": [],
   "source": [
    "import pygame\n",
    "pygame.quit()"
   ],
   "metadata": {
    "collapsed": false
   }
  },
  {
   "cell_type": "code",
   "execution_count": null,
   "outputs": [],
   "source": [
    "import matplotlib.pyplot as plot\n",
    "genomes = [\n",
    "[0.94520923, 0.8962 ,    0.5542 ,    0.8497    ],\n",
    "[0.6528 ,    0.23721233, 0.6329 ,    0.235     ],\n",
    "[0.22398939 ,0.66104988, 0.87086294, 0.7218    ],\n",
    "[0.8346  ,   0.5136 ,    0.87086294, 0.7218    ],\n",
    "[ 0.6493  ,    0.72810859,  0.8445 ,    -0.52773635],\n",
    "[0.37564976, 1.  ,       0.48924173, 0.9221    ],\n",
    "[-0.8927254,  -0.7749,     -0.06330659,  0.17254084],\n",
    "[ 0.68619126 , 0.12407026, -0.83458283, -0.09507019],\n",
    "[0.5062, 0.7176 ,0.4435, 1.    ],\n",
    "[0.46355004, 0.71969535, 0.3593,    0.8853    ],\n",
    "[-0.1938423, -0.857 ,     0.6491 ,   -0.8409   ],\n",
    "[ 0.5062,      0.7176,     -0.735  ,    -0.07639049],\n",
    "]\n",
    "\n",
    "evolution, screen = ModifiedHaltingEvolution.defaultEvolver(steps=4000)\n",
    "\n",
    "for genome in genomes:\n",
    "    output, b = evolution.simulation(genome)\n",
    "    plot.imshow(output, cmap=\"Greys\")\n",
    "    plot.show()"
   ],
   "metadata": {
    "collapsed": false
   }
  }
 ],
 "metadata": {
  "kernelspec": {
   "display_name": "Python 3",
   "language": "python",
   "name": "python3"
  },
  "language_info": {
   "codemirror_mode": {
    "name": "ipython",
    "version": 2
   },
   "file_extension": ".py",
   "mimetype": "text/x-python",
   "name": "python",
   "nbconvert_exporter": "python",
   "pygments_lexer": "ipython2",
   "version": "2.7.6"
  }
 },
 "nbformat": 4,
 "nbformat_minor": 0
}
