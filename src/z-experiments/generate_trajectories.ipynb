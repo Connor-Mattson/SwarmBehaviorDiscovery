{
 "cells": [
  {
   "cell_type": "code",
   "execution_count": 2,
   "metadata": {
    "collapsed": true
   },
   "outputs": [
    {
     "name": "stdout",
     "output_type": "stream",
     "text": [
      "<novel_swarms.novelty.GeneRule.GeneBuilder object at 0x7f260ac36f20>\n",
      "(50, 50)\n",
      "0.0% Complete\n",
      "(50, 50)\n",
      "0.01% Complete\n",
      "(50, 50)\n",
      "0.02% Complete\n"
     ]
    },
    {
     "ename": "KeyboardInterrupt",
     "evalue": "",
     "output_type": "error",
     "traceback": [
      "\u001B[0;31m---------------------------------------------------------------------------\u001B[0m",
      "\u001B[0;31mKeyboardInterrupt\u001B[0m                         Traceback (most recent call last)",
      "Cell \u001B[0;32mIn [2], line 88\u001B[0m\n\u001B[1;32m     81\u001B[0m halted_evolution \u001B[38;5;241m=\u001B[39m HaltedEvolution(\n\u001B[1;32m     82\u001B[0m     world\u001B[38;5;241m=\u001B[39mworld_config,\n\u001B[1;32m     83\u001B[0m     evolution_config\u001B[38;5;241m=\u001B[39mnovelty_config,\n\u001B[1;32m     84\u001B[0m     output_config\u001B[38;5;241m=\u001B[39moutput_config\n\u001B[1;32m     85\u001B[0m )\n\u001B[1;32m     87\u001B[0m baseline_data \u001B[38;5;241m=\u001B[39m DataBuilder(\u001B[38;5;124m\"\u001B[39m\u001B[38;5;124mdata/test-output\u001B[39m\u001B[38;5;124m\"\u001B[39m,ev\u001B[38;5;241m=\u001B[39mhalted_evolution, resize\u001B[38;5;241m=\u001B[39m(\u001B[38;5;241m50\u001B[39m,\u001B[38;5;241m50\u001B[39m))\n\u001B[0;32m---> 88\u001B[0m \u001B[43mbaseline_data\u001B[49m\u001B[38;5;241;43m.\u001B[39;49m\u001B[43mcreate\u001B[49m\u001B[43m(\u001B[49m\u001B[43msample_size\u001B[49m\u001B[38;5;241;43m=\u001B[39;49m\u001B[38;5;241;43m10000\u001B[39;49m\u001B[43m)\u001B[49m\n\u001B[1;32m     89\u001B[0m baseline_data\u001B[38;5;241m.\u001B[39mevolution\u001B[38;5;241m.\u001B[39mclose()\n",
      "File \u001B[0;32m~/Desktop/research/SwarmNoveltyNetwork/data/swarmset.py:187\u001B[0m, in \u001B[0;36mDataBuilder.create\u001B[0;34m(self, sample_size)\u001B[0m\n\u001B[1;32m    185\u001B[0m \u001B[38;5;28;01mfor\u001B[39;00m trial \u001B[38;5;129;01min\u001B[39;00m \u001B[38;5;28mrange\u001B[39m(TRIALS):\n\u001B[1;32m    186\u001B[0m     \u001B[38;5;28;01mfor\u001B[39;00m i, genome \u001B[38;5;129;01min\u001B[39;00m \u001B[38;5;28menumerate\u001B[39m(pool):\n\u001B[0;32m--> 187\u001B[0m         output, behavior \u001B[38;5;241m=\u001B[39m \u001B[38;5;28;43mself\u001B[39;49m\u001B[38;5;241;43m.\u001B[39;49m\u001B[43mevolution\u001B[49m\u001B[38;5;241;43m.\u001B[39;49m\u001B[43msimulation\u001B[49m\u001B[43m(\u001B[49m\u001B[43mgenome\u001B[49m\u001B[43m)\u001B[49m\n\u001B[1;32m    188\u001B[0m         \u001B[38;5;28mself\u001B[39m\u001B[38;5;241m.\u001B[39mdataset\u001B[38;5;241m.\u001B[39mnew_sample(output, genome, behavior)\n\u001B[1;32m    189\u001B[0m         \u001B[38;5;28mprint\u001B[39m(\u001B[38;5;124mf\u001B[39m\u001B[38;5;124m\"\u001B[39m\u001B[38;5;132;01m{\u001B[39;00m(i\u001B[38;5;241m*\u001B[39m\u001B[38;5;241m100\u001B[39m) \u001B[38;5;241m/\u001B[39m \u001B[38;5;28mlen\u001B[39m(pool)\u001B[38;5;132;01m}\u001B[39;00m\u001B[38;5;124m% Complete\u001B[39m\u001B[38;5;124m\"\u001B[39m)\n",
      "File \u001B[0;32m~/Desktop/research/SwarmNoveltyNetwork/src/generation/halted_evolution.py:71\u001B[0m, in \u001B[0;36mHaltedEvolution.simulation\u001B[0;34m(self, genome)\u001B[0m\n\u001B[1;32m     70\u001B[0m \u001B[38;5;28;01mdef\u001B[39;00m \u001B[38;5;21msimulation\u001B[39m(\u001B[38;5;28mself\u001B[39m, genome):\n\u001B[0;32m---> 71\u001B[0m     output, behavior \u001B[38;5;241m=\u001B[39m \u001B[38;5;28;43mself\u001B[39;49m\u001B[38;5;241;43m.\u001B[39;49m\u001B[43mbehavior_discovery\u001B[49m\u001B[38;5;241;43m.\u001B[39;49m\u001B[43mrunSinglePopulation\u001B[49m\u001B[43m(\u001B[49m\n\u001B[1;32m     72\u001B[0m \u001B[43m        \u001B[49m\u001B[43mscreen\u001B[49m\u001B[38;5;241;43m=\u001B[39;49m\u001B[38;5;28;43;01mNone\u001B[39;49;00m\u001B[43m,\u001B[49m\n\u001B[1;32m     73\u001B[0m \u001B[43m        \u001B[49m\u001B[43msave\u001B[49m\u001B[38;5;241;43m=\u001B[39;49m\u001B[38;5;28;43;01mFalse\u001B[39;49;00m\u001B[43m,\u001B[49m\n\u001B[1;32m     74\u001B[0m \u001B[43m        \u001B[49m\u001B[43mgenome\u001B[49m\u001B[38;5;241;43m=\u001B[39;49m\u001B[43mgenome\u001B[49m\u001B[43m,\u001B[49m\n\u001B[1;32m     75\u001B[0m \u001B[43m        \u001B[49m\u001B[43mseed\u001B[49m\u001B[38;5;241;43m=\u001B[39;49m\u001B[38;5;28;43mself\u001B[39;49m\u001B[38;5;241;43m.\u001B[39;49m\u001B[43mworld\u001B[49m\u001B[38;5;241;43m.\u001B[39;49m\u001B[43mseed\u001B[49m\u001B[43m,\u001B[49m\n\u001B[1;32m     76\u001B[0m \u001B[43m        \u001B[49m\u001B[43moutput_config\u001B[49m\u001B[38;5;241;43m=\u001B[39;49m\u001B[38;5;28;43mself\u001B[39;49m\u001B[38;5;241;43m.\u001B[39;49m\u001B[43moutput_configuration\u001B[49m\n\u001B[1;32m     77\u001B[0m \u001B[43m    \u001B[49m\u001B[43m)\u001B[49m\n\u001B[1;32m     78\u001B[0m     \u001B[38;5;28;01mreturn\u001B[39;00m output, behavior\n",
      "File \u001B[0;32m~/Desktop/research/SwarmNoveltyNetwork/.env/lib/python3.10/site-packages/novel_swarms/novelty/BehaviorDiscovery.py:116\u001B[0m, in \u001B[0;36mBehaviorDiscovery.runSinglePopulation\u001B[0;34m(self, screen, i, save, genome, seed, output_config)\u001B[0m\n\u001B[1;32m    114\u001B[0m \u001B[38;5;66;03m# If the genome is new, simulate\u001B[39;00m\n\u001B[1;32m    115\u001B[0m world \u001B[38;5;241m=\u001B[39m WorldFactory\u001B[38;5;241m.\u001B[39mcreate(\u001B[38;5;28mself\u001B[39m\u001B[38;5;241m.\u001B[39mworld_config)\n\u001B[0;32m--> 116\u001B[0m output \u001B[38;5;241m=\u001B[39m \u001B[43mworld\u001B[49m\u001B[38;5;241;43m.\u001B[39;49m\u001B[43mevaluate\u001B[49m\u001B[43m(\u001B[49m\u001B[38;5;28;43mself\u001B[39;49m\u001B[38;5;241;43m.\u001B[39;49m\u001B[43mlifespan\u001B[49m\u001B[43m,\u001B[49m\u001B[43m \u001B[49m\u001B[43moutput_capture\u001B[49m\u001B[38;5;241;43m=\u001B[39;49m\u001B[43moutput_config\u001B[49m\u001B[43m)\u001B[49m\n\u001B[1;32m    117\u001B[0m \u001B[38;5;28;01mif\u001B[39;00m screen \u001B[38;5;129;01mis\u001B[39;00m \u001B[38;5;129;01mnot\u001B[39;00m \u001B[38;5;28;01mNone\u001B[39;00m:\n\u001B[1;32m    118\u001B[0m     world\u001B[38;5;241m.\u001B[39mdraw(screen)\n",
      "File \u001B[0;32m~/Desktop/research/SwarmNoveltyNetwork/.env/lib/python3.10/site-packages/novel_swarms/world/World.py:52\u001B[0m, in \u001B[0;36mWorld.evaluate\u001B[0;34m(self, steps, output_capture, screen)\u001B[0m\n\u001B[1;32m     49\u001B[0m     screen \u001B[38;5;241m=\u001B[39m output_capture\u001B[38;5;241m.\u001B[39mscreen\n\u001B[1;32m     51\u001B[0m \u001B[38;5;28;01mfor\u001B[39;00m step \u001B[38;5;129;01min\u001B[39;00m \u001B[38;5;28mrange\u001B[39m(steps):\n\u001B[0;32m---> 52\u001B[0m     \u001B[38;5;28;43mself\u001B[39;49m\u001B[38;5;241;43m.\u001B[39;49m\u001B[43mstep\u001B[49m\u001B[43m(\u001B[49m\u001B[43m)\u001B[49m\n\u001B[1;32m     54\u001B[0m     \u001B[38;5;28;01mif\u001B[39;00m output_capture \u001B[38;5;129;01mand\u001B[39;00m output_capture\u001B[38;5;241m.\u001B[39mscreen:\n\u001B[1;32m     55\u001B[0m         \u001B[38;5;66;03m# If start of recording, clear screen\u001B[39;00m\n\u001B[1;32m     56\u001B[0m         \u001B[38;5;28;01mif\u001B[39;00m frame_markers \u001B[38;5;129;01mand\u001B[39;00m step \u001B[38;5;241m==\u001B[39m frame_markers[\u001B[38;5;241m0\u001B[39m]:\n",
      "File \u001B[0;32m~/Desktop/research/SwarmNoveltyNetwork/.env/lib/python3.10/site-packages/novel_swarms/world/RectangularWorld.py:99\u001B[0m, in \u001B[0;36mRectangularWorld.step\u001B[0;34m(self)\u001B[0m\n\u001B[1;32m     96\u001B[0m     \u001B[38;5;28;01mif\u001B[39;00m \u001B[38;5;129;01mnot\u001B[39;00m \u001B[38;5;28missubclass\u001B[39m(\u001B[38;5;28mtype\u001B[39m(agent), Agent):\n\u001B[1;32m     97\u001B[0m         \u001B[38;5;28;01mraise\u001B[39;00m \u001B[38;5;167;01mException\u001B[39;00m(\u001B[38;5;124m\"\u001B[39m\u001B[38;5;124mAgents must be subtype of Agent, not \u001B[39m\u001B[38;5;132;01m{}\u001B[39;00m\u001B[38;5;124m\"\u001B[39m\u001B[38;5;241m.\u001B[39mformat(\u001B[38;5;28mtype\u001B[39m(agent)))\n\u001B[0;32m---> 99\u001B[0m     \u001B[43magent\u001B[49m\u001B[38;5;241;43m.\u001B[39;49m\u001B[43mstep\u001B[49m\u001B[43m(\u001B[49m\n\u001B[1;32m    100\u001B[0m \u001B[43m        \u001B[49m\u001B[43mcheck_for_world_boundaries\u001B[49m\u001B[38;5;241;43m=\u001B[39;49m\u001B[38;5;28;43mself\u001B[39;49m\u001B[38;5;241;43m.\u001B[39;49m\u001B[43mwithinWorldBoundaries\u001B[49m\u001B[43m \u001B[49m\u001B[38;5;28;43;01mif\u001B[39;49;00m\u001B[43m \u001B[49m\u001B[38;5;28;43mself\u001B[39;49m\u001B[38;5;241;43m.\u001B[39;49m\u001B[43mconfig\u001B[49m\u001B[38;5;241;43m.\u001B[39;49m\u001B[43mcollide_walls\u001B[49m\u001B[43m \u001B[49m\u001B[38;5;28;43;01melse\u001B[39;49;00m\u001B[43m \u001B[49m\u001B[38;5;28;43;01mNone\u001B[39;49;00m\u001B[43m,\u001B[49m\n\u001B[1;32m    101\u001B[0m \u001B[43m        \u001B[49m\u001B[43mcheck_for_agent_collisions\u001B[49m\u001B[38;5;241;43m=\u001B[39;49m\u001B[38;5;28;43mself\u001B[39;49m\u001B[38;5;241;43m.\u001B[39;49m\u001B[43mpreventAgentCollisions\u001B[49m\u001B[43m,\u001B[49m\n\u001B[1;32m    102\u001B[0m \u001B[43m        \u001B[49m\u001B[43mworld\u001B[49m\u001B[38;5;241;43m=\u001B[39;49m\u001B[38;5;28;43mself\u001B[39;49m\n\u001B[1;32m    103\u001B[0m \u001B[43m    \u001B[49m\u001B[43m)\u001B[49m\n\u001B[1;32m    104\u001B[0m \u001B[38;5;66;03m# agent_step_timer.check_watch()\u001B[39;00m\n\u001B[1;32m    106\u001B[0m behavior_timer \u001B[38;5;241m=\u001B[39m Timer(\u001B[38;5;124m\"\u001B[39m\u001B[38;5;124mBehavior Calculation Step\u001B[39m\u001B[38;5;124m\"\u001B[39m)\n",
      "File \u001B[0;32m~/Desktop/research/SwarmNoveltyNetwork/.env/lib/python3.10/site-packages/novel_swarms/agent/DiffDriveAgent.py:117\u001B[0m, in \u001B[0;36mDifferentialDriveAgent.step\u001B[0;34m(self, check_for_world_boundaries, world, check_for_agent_collisions)\u001B[0m\n\u001B[1;32m    115\u001B[0m \u001B[38;5;66;03m# timer = Timer(\"Sensors\")\u001B[39;00m\n\u001B[1;32m    116\u001B[0m \u001B[38;5;28;01mfor\u001B[39;00m sensor \u001B[38;5;129;01min\u001B[39;00m \u001B[38;5;28mself\u001B[39m\u001B[38;5;241m.\u001B[39msensors:\n\u001B[0;32m--> 117\u001B[0m     \u001B[43msensor\u001B[49m\u001B[38;5;241;43m.\u001B[39;49m\u001B[43mstep\u001B[49m\u001B[43m(\u001B[49m\u001B[43mworld\u001B[49m\u001B[38;5;241;43m=\u001B[39;49m\u001B[43mworld\u001B[49m\u001B[43m)\u001B[49m\n",
      "File \u001B[0;32m~/Desktop/research/SwarmNoveltyNetwork/.env/lib/python3.10/site-packages/novel_swarms/sensors/BinaryLOSSensor.py:61\u001B[0m, in \u001B[0;36mBinaryLOSSensor.step\u001B[0;34m(self, world)\u001B[0m\n\u001B[1;32m     59\u001B[0m \u001B[38;5;28;01mdef\u001B[39;00m \u001B[38;5;21mstep\u001B[39m(\u001B[38;5;28mself\u001B[39m, world):\n\u001B[1;32m     60\u001B[0m     \u001B[38;5;28msuper\u001B[39m(BinaryLOSSensor, \u001B[38;5;28mself\u001B[39m)\u001B[38;5;241m.\u001B[39mstep(world\u001B[38;5;241m=\u001B[39mworld)\n\u001B[0;32m---> 61\u001B[0m     \u001B[38;5;28;43mself\u001B[39;49m\u001B[38;5;241;43m.\u001B[39;49m\u001B[43mcheckForLOSCollisions\u001B[49m\u001B[43m(\u001B[49m\u001B[43mworld\u001B[49m\u001B[38;5;241;43m=\u001B[39;49m\u001B[43mworld\u001B[49m\u001B[43m)\u001B[49m\n",
      "File \u001B[0;32m~/Desktop/research/SwarmNoveltyNetwork/.env/lib/python3.10/site-packages/novel_swarms/sensors/BinaryLOSSensor.py:31\u001B[0m, in \u001B[0;36mBinaryLOSSensor.checkForLOSCollisions\u001B[0;34m(self, world)\u001B[0m\n\u001B[1;32m     28\u001B[0m         \u001B[38;5;28;01mreturn\u001B[39;00m\n\u001B[1;32m     30\u001B[0m \u001B[38;5;28;01mfor\u001B[39;00m agent \u001B[38;5;129;01min\u001B[39;00m world\u001B[38;5;241m.\u001B[39mpopulation:\n\u001B[0;32m---> 31\u001B[0m     \u001B[38;5;28;01mif\u001B[39;00m \u001B[38;5;28;43mself\u001B[39;49m\u001B[38;5;241;43m.\u001B[39;49m\u001B[43magent_in_sight\u001B[49m\u001B[43m(\u001B[49m\u001B[43magent\u001B[49m\u001B[43m,\u001B[49m\u001B[43m \u001B[49m\u001B[43mp_0\u001B[49m\u001B[43m,\u001B[49m\u001B[43m \u001B[49m\u001B[43md_hat\u001B[49m\u001B[43m)\u001B[49m:\n\u001B[1;32m     32\u001B[0m         \u001B[38;5;28mself\u001B[39m\u001B[38;5;241m.\u001B[39mparent\u001B[38;5;241m.\u001B[39magent_in_sight \u001B[38;5;241m=\u001B[39m agent\n\u001B[1;32m     33\u001B[0m         \u001B[38;5;28mself\u001B[39m\u001B[38;5;241m.\u001B[39mcurrent_state \u001B[38;5;241m=\u001B[39m \u001B[38;5;241m1\u001B[39m\n",
      "File \u001B[0;32m~/Desktop/research/SwarmNoveltyNetwork/.env/lib/python3.10/site-packages/novel_swarms/sensors/BinaryLOSSensor.py:43\u001B[0m, in \u001B[0;36mBinaryLOSSensor.agent_in_sight\u001B[0;34m(self, agent, p_0, d_hat)\u001B[0m\n\u001B[1;32m     40\u001B[0m \u001B[38;5;28;01mif\u001B[39;00m agent \u001B[38;5;241m==\u001B[39m \u001B[38;5;28mself\u001B[39m\u001B[38;5;241m.\u001B[39mparent:\n\u001B[1;32m     41\u001B[0m     \u001B[38;5;28;01mreturn\u001B[39;00m \u001B[38;5;28;01mFalse\u001B[39;00m\n\u001B[0;32m---> 43\u001B[0m c \u001B[38;5;241m=\u001B[39m np\u001B[38;5;241m.\u001B[39marray(\u001B[43magent\u001B[49m\u001B[38;5;241;43m.\u001B[39;49m\u001B[43mgetPosition\u001B[49m\u001B[43m(\u001B[49m\u001B[43m)\u001B[49m)\n\u001B[1;32m     44\u001B[0m e \u001B[38;5;241m=\u001B[39m c \u001B[38;5;241m-\u001B[39m p_0\n\u001B[1;32m     45\u001B[0m a \u001B[38;5;241m=\u001B[39m np\u001B[38;5;241m.\u001B[39mdot(e, d_hat)\n",
      "File \u001B[0;32m~/Desktop/research/SwarmNoveltyNetwork/.env/lib/python3.10/site-packages/novel_swarms/agent/Agent.py:30\u001B[0m, in \u001B[0;36mAgent.getPosition\u001B[0;34m(self)\u001B[0m\n\u001B[1;32m     29\u001B[0m \u001B[38;5;28;01mdef\u001B[39;00m \u001B[38;5;21mgetPosition\u001B[39m(\u001B[38;5;28mself\u001B[39m):\n\u001B[0;32m---> 30\u001B[0m     \u001B[38;5;28;01mreturn\u001B[39;00m \u001B[43marray\u001B[49m\u001B[43m(\u001B[49m\u001B[43m[\u001B[49m\u001B[38;5;28;43mself\u001B[39;49m\u001B[38;5;241;43m.\u001B[39;49m\u001B[43mx_pos\u001B[49m\u001B[43m,\u001B[49m\u001B[43m \u001B[49m\u001B[38;5;28;43mself\u001B[39;49m\u001B[38;5;241;43m.\u001B[39;49m\u001B[43my_pos\u001B[49m\u001B[43m]\u001B[49m\u001B[43m)\u001B[49m\n",
      "\u001B[0;31mKeyboardInterrupt\u001B[0m: "
     ]
    }
   ],
   "source": [
    "import time\n",
    "import pygame\n",
    "import numpy as np\n",
    "from novel_swarms.novelty.BehaviorDiscovery import BehaviorDiscovery\n",
    "from novel_swarms.config.EvolutionaryConfig import GeneticEvolutionConfig\n",
    "from novel_swarms.config.WorldConfig import RectangularWorldConfig\n",
    "from novel_swarms.config.defaults import ConfigurationDefaults\n",
    "from novel_swarms.novelty.GeneRule import GeneRule\n",
    "from novel_swarms.config.OutputTensorConfig import OutputTensorConfig\n",
    "from novel_swarms.sensors.BinaryLOSSensor import BinaryLOSSensor\n",
    "from novel_swarms.sensors.SensorSet import SensorSet\n",
    "from novel_swarms.sensors.GenomeDependentSensor import GenomeBinarySensor\n",
    "from src.generation.halted_evolution import HaltedEvolution\n",
    "from data.swarmset import SwarmDataset, DataBuilder\n",
    "from novel_swarms.novelty.GeneRule import GeneBuilder, GeneRule\n",
    "\n",
    "sensors = SensorSet([\n",
    "    BinaryLOSSensor(angle=0),\n",
    "    GenomeBinarySensor(genome_id=8)\n",
    "    # BinaryFOVSensor(theta=14 / 2, distance=125, degrees=True)\n",
    "])\n",
    "\n",
    "agent_config = ConfigurationDefaults.DIFF_DRIVE_AGENT\n",
    "agent_config.sensors = sensors\n",
    "\n",
    "discrete_domain = [i / 10 for i in range(-10, 11, 1)]\n",
    "angle_domain = [(i / 8) * np.pi for i in range(-7, 8, 1)]\n",
    "gene_specifications = GeneBuilder(\n",
    "    heuristic_validation=True,\n",
    "    round_to_digits=1,\n",
    "    rules=[\n",
    "        GeneRule(discrete_domain = discrete_domain, step_size=4, allow_mutation=True),\n",
    "        GeneRule(discrete_domain = discrete_domain, step_size=4, allow_mutation=True),\n",
    "        GeneRule(discrete_domain = discrete_domain, step_size=4, allow_mutation=True),\n",
    "        GeneRule(discrete_domain = discrete_domain, step_size=4, allow_mutation=True),\n",
    "        GeneRule(discrete_domain = discrete_domain, step_size=4, allow_mutation=True),\n",
    "        GeneRule(discrete_domain = discrete_domain, step_size=4, allow_mutation=True),\n",
    "        GeneRule(discrete_domain = discrete_domain, step_size=4, allow_mutation=True),\n",
    "        GeneRule(discrete_domain = discrete_domain, step_size=4, allow_mutation=True),\n",
    "        GeneRule(discrete_domain = angle_domain, step_size=2, allow_mutation=True),\n",
    "    ]\n",
    ")\n",
    "\n",
    "phenotype = ConfigurationDefaults.BEHAVIOR_VECTOR\n",
    "\n",
    "world_config = RectangularWorldConfig(\n",
    "    size=(500, 500),\n",
    "    n_agents=24,\n",
    "    behavior=phenotype,\n",
    "    agentConfig=agent_config,\n",
    "    padding=15\n",
    ")\n",
    "\n",
    "novelty_config = GeneticEvolutionConfig(\n",
    "    gene_builder=gene_specifications,\n",
    "    phenotype_config=phenotype,\n",
    "    n_generations=100,\n",
    "    n_population=100,\n",
    "    crossover_rate=0.7,\n",
    "    mutation_rate=0.15,\n",
    "    world_config=world_config,\n",
    "    k_nn=15,\n",
    "    simulation_lifespan=1200,\n",
    "    display_novelty=False,\n",
    "    save_archive=False,\n",
    "    show_gui=True,\n",
    "    use_external_archive=False\n",
    ")\n",
    "\n",
    "pygame.init()\n",
    "pygame.display.set_caption(\"Evolutionary Novelty Search\")\n",
    "screen = pygame.display.set_mode((world_config.w, world_config.h))\n",
    "\n",
    "output_config = OutputTensorConfig(\n",
    "    timeless=True,\n",
    "    total_frames=80,\n",
    "    steps_between_frames=2,\n",
    "    screen=screen\n",
    ")\n",
    "\n",
    "halted_evolution = HaltedEvolution(\n",
    "    world=world_config,\n",
    "    evolution_config=novelty_config,\n",
    "    output_config=output_config\n",
    ")\n",
    "\n",
    "baseline_data = DataBuilder(\"data/test-output\",ev=halted_evolution, resize=(50,50))\n",
    "baseline_data.create(sample_size=10000)\n",
    "baseline_data.evolution.close()"
   ]
  },
  {
   "cell_type": "code",
   "execution_count": null,
   "outputs": [],
   "source": [],
   "metadata": {
    "collapsed": false
   }
  }
 ],
 "metadata": {
  "kernelspec": {
   "display_name": "Python 3",
   "language": "python",
   "name": "python3"
  },
  "language_info": {
   "codemirror_mode": {
    "name": "ipython",
    "version": 2
   },
   "file_extension": ".py",
   "mimetype": "text/x-python",
   "name": "python",
   "nbconvert_exporter": "python",
   "pygments_lexer": "ipython2",
   "version": "2.7.6"
  }
 },
 "nbformat": 4,
 "nbformat_minor": 0
}
