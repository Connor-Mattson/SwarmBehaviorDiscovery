{
 "cells": [
  {
   "cell_type": "code",
   "execution_count": 6,
   "metadata": {
    "collapsed": true
   },
   "outputs": [],
   "source": [
    "from src.ui.class_similarity import SimilarityGUI\n",
    "from data.swarmset import SwarmDataset, DataBuilder\n",
    "import pygame\n",
    "\n",
    "keys={\n",
    "    pygame.K_KP_0 : 0,\n",
    "    pygame.K_KP_1 : 1,\n",
    "    pygame.K_KP_2 : 2,\n",
    "    pygame.K_KP_3 : 3,\n",
    "    pygame.K_KP_4 : 4,\n",
    "}\n",
    "\n",
    "labels = {\n",
    "    0 : \"0\",\n",
    "    1 : \"1\",\n",
    "    2 : \"2\",\n",
    "    3 : \"3\",\n",
    "    4 : \"4\",\n",
    "}\n",
    "\n",
    "anchor_dataset = SwarmDataset(\"../data/full\", rank=0)\n",
    "\n",
    "anchor_image = anchor_dataset[0][0]\n",
    "others = [anchor_dataset[i][0] for i in range(1, 5)]\n",
    "\n",
    "gui = SimilarityGUI(None, others, keystrokes=keys, labels=labels)\n",
    "gui.run()"
   ]
  },
  {
   "cell_type": "code",
   "execution_count": null,
   "outputs": [],
   "source": [],
   "metadata": {
    "collapsed": false
   }
  }
 ],
 "metadata": {
  "kernelspec": {
   "display_name": "Python 3",
   "language": "python",
   "name": "python3"
  },
  "language_info": {
   "codemirror_mode": {
    "name": "ipython",
    "version": 2
   },
   "file_extension": ".py",
   "mimetype": "text/x-python",
   "name": "python",
   "nbconvert_exporter": "python",
   "pygments_lexer": "ipython2",
   "version": "2.7.6"
  }
 },
 "nbformat": 4,
 "nbformat_minor": 0
}
