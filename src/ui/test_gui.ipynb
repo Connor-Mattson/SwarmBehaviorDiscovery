{
 "cells": [
  {
   "cell_type": "code",
   "execution_count": 28,
   "metadata": {
    "collapsed": true,
    "ExecuteTime": {
     "end_time": "2023-06-28T19:02:32.710039653Z",
     "start_time": "2023-06-28T18:15:27.571092174Z"
    }
   },
   "outputs": [
    {
     "ename": "KeyboardInterrupt",
     "evalue": "",
     "output_type": "error",
     "traceback": [
      "\u001B[0;31m---------------------------------------------------------------------------\u001B[0m",
      "\u001B[0;31mKeyboardInterrupt\u001B[0m                         Traceback (most recent call last)",
      "Cell \u001B[0;32mIn [28], line 32\u001B[0m\n\u001B[1;32m     29\u001B[0m others \u001B[38;5;241m=\u001B[39m [np\u001B[38;5;241m.\u001B[39mrepeat(np\u001B[38;5;241m.\u001B[39mexpand_dims(anchor_dataset[i][\u001B[38;5;241m0\u001B[39m], axis\u001B[38;5;241m=\u001B[39m\u001B[38;5;241m2\u001B[39m), \u001B[38;5;241m3\u001B[39m, axis\u001B[38;5;241m=\u001B[39m\u001B[38;5;241m2\u001B[39m) \u001B[38;5;28;01mfor\u001B[39;00m i \u001B[38;5;129;01min\u001B[39;00m \u001B[38;5;28mrange\u001B[39m(\u001B[38;5;241m20\u001B[39m, \u001B[38;5;241m30\u001B[39m)]\n\u001B[1;32m     31\u001B[0m gui \u001B[38;5;241m=\u001B[39m SimilarityGUI(\u001B[38;5;28;01mNone\u001B[39;00m, others, keystrokes\u001B[38;5;241m=\u001B[39mkeys, labels\u001B[38;5;241m=\u001B[39mlabels)\n\u001B[0;32m---> 32\u001B[0m \u001B[43mgui\u001B[49m\u001B[38;5;241;43m.\u001B[39;49m\u001B[43mrun\u001B[49m\u001B[43m(\u001B[49m\u001B[43m)\u001B[49m\n",
      "File \u001B[0;32m~/Desktop/research/SwarmNoveltyNetwork/src/ui/class_similarity.py:103\u001B[0m, in \u001B[0;36mSimilarityGUI.run\u001B[0;34m(self)\u001B[0m\n\u001B[1;32m    101\u001B[0m         \u001B[38;5;28mself\u001B[39m\u001B[38;5;241m.\u001B[39mshowImg(\u001B[38;5;28mself\u001B[39m\u001B[38;5;241m.\u001B[39manchor_s, \u001B[38;5;241m0\u001B[39m)\n\u001B[1;32m    102\u001B[0m     \u001B[38;5;28;01mfor\u001B[39;00m i, img \u001B[38;5;129;01min\u001B[39;00m \u001B[38;5;28menumerate\u001B[39m(\u001B[38;5;28mself\u001B[39m\u001B[38;5;241m.\u001B[39msubject_s):\n\u001B[0;32m--> 103\u001B[0m         \u001B[38;5;28;43mself\u001B[39;49m\u001B[38;5;241;43m.\u001B[39;49m\u001B[43mshowImg\u001B[49m\u001B[43m(\u001B[49m\u001B[43mimg\u001B[49m\u001B[43m,\u001B[49m\u001B[43m \u001B[49m\u001B[43mi\u001B[49m\u001B[43m \u001B[49m\u001B[38;5;241;43m+\u001B[39;49m\u001B[43m \u001B[49m\u001B[38;5;241;43m1\u001B[39;49m\u001B[43m)\u001B[49m\n\u001B[1;32m    105\u001B[0m     pygame\u001B[38;5;241m.\u001B[39mdisplay\u001B[38;5;241m.\u001B[39mupdate()\n\u001B[1;32m    107\u001B[0m pygame\u001B[38;5;241m.\u001B[39mquit()\n",
      "File \u001B[0;32m~/Desktop/research/SwarmNoveltyNetwork/src/ui/class_similarity.py:63\u001B[0m, in \u001B[0;36mSimilarityGUI.showImg\u001B[0;34m(self, img, i)\u001B[0m\n\u001B[1;32m     60\u001B[0m \u001B[38;5;28;01mif\u001B[39;00m \u001B[38;5;28mself\u001B[39m\u001B[38;5;241m.\u001B[39mselected \u001B[38;5;241m==\u001B[39m i:\n\u001B[1;32m     61\u001B[0m     pygame\u001B[38;5;241m.\u001B[39mdraw\u001B[38;5;241m.\u001B[39mrect(\u001B[38;5;28mself\u001B[39m\u001B[38;5;241m.\u001B[39mscreen, (\u001B[38;5;241m255\u001B[39m, \u001B[38;5;241m255\u001B[39m, \u001B[38;5;241m255\u001B[39m), (pos, \u001B[38;5;28mself\u001B[39m\u001B[38;5;241m.\u001B[39mCONTAINER_SIZE))\n\u001B[0;32m---> 63\u001B[0m \u001B[38;5;28;43mself\u001B[39;49m\u001B[38;5;241;43m.\u001B[39;49m\u001B[43mscreen\u001B[49m\u001B[38;5;241;43m.\u001B[39;49m\u001B[43mblit\u001B[49m\u001B[43m(\u001B[49m\u001B[43mimg\u001B[49m\u001B[43m,\u001B[49m\u001B[43m \u001B[49m\u001B[43m(\u001B[49m\u001B[43mpos\u001B[49m\u001B[43m[\u001B[49m\u001B[38;5;241;43m0\u001B[39;49m\u001B[43m]\u001B[49m\u001B[43m \u001B[49m\u001B[38;5;241;43m+\u001B[39;49m\u001B[43m \u001B[49m\u001B[38;5;241;43m25\u001B[39;49m\u001B[43m,\u001B[49m\u001B[43m \u001B[49m\u001B[43mpos\u001B[49m\u001B[43m[\u001B[49m\u001B[38;5;241;43m1\u001B[39;49m\u001B[43m]\u001B[49m\u001B[43m \u001B[49m\u001B[38;5;241;43m+\u001B[39;49m\u001B[43m \u001B[49m\u001B[38;5;241;43m25\u001B[39;49m\u001B[43m)\u001B[49m\u001B[43m)\u001B[49m\n\u001B[1;32m     65\u001B[0m \u001B[38;5;28;01mif\u001B[39;00m \u001B[38;5;28mself\u001B[39m\u001B[38;5;241m.\u001B[39massignment[i \u001B[38;5;241m-\u001B[39m \u001B[38;5;241m1\u001B[39m] \u001B[38;5;129;01mis\u001B[39;00m \u001B[38;5;129;01mnot\u001B[39;00m \u001B[38;5;28;01mNone\u001B[39;00m \u001B[38;5;129;01mor\u001B[39;00m i \u001B[38;5;241m==\u001B[39m \u001B[38;5;241m0\u001B[39m:\n\u001B[1;32m     66\u001B[0m     \u001B[38;5;28;01mif\u001B[39;00m i \u001B[38;5;241m==\u001B[39m \u001B[38;5;241m0\u001B[39m:\n",
      "\u001B[0;31mKeyboardInterrupt\u001B[0m: "
     ]
    }
   ],
   "source": [
    "from src.ui.class_similarity import SimilarityGUI\n",
    "from data.swarmset import SwarmDataset, DataBuilder\n",
    "import pygame\n",
    "import numpy as np\n",
    "\n",
    "keys={\n",
    "    pygame.K_KP_0 : 0,\n",
    "    pygame.K_KP_1 : 1,\n",
    "    pygame.K_KP_2 : 2,\n",
    "    pygame.K_KP_3 : 3,\n",
    "    pygame.K_KP_4 : 4,\n",
    "    pygame.K_KP_5 : 5,\n",
    "}\n",
    "\n",
    "labels = {\n",
    "    0 : \"0\",\n",
    "    1 : \"1\",\n",
    "    2 : \"2\",\n",
    "    3 : \"3\",\n",
    "    4 : \"4\",\n",
    "    5 : \"5\",\n",
    "}\n",
    "\n",
    "anchor_dataset = SwarmDataset(\"../../data/gecco-single-sensor\", rank=0, color=False)\n",
    "\n",
    "anchor_image = anchor_dataset[0][0]\n",
    "# print(anchor_image.shape)\n",
    "# print(np.reshape(anchor_image, anchor_image.shape + (1,)).shape)\n",
    "others = [np.repeat(np.expand_dims(anchor_dataset[i][0], axis=2), 3, axis=2) for i in range(20, 30)]\n",
    "\n",
    "gui = SimilarityGUI(None, others, keystrokes=keys, labels=labels)\n",
    "gui.run()"
   ]
  },
  {
   "cell_type": "code",
   "execution_count": null,
   "outputs": [],
   "source": [],
   "metadata": {
    "collapsed": false
   }
  }
 ],
 "metadata": {
  "kernelspec": {
   "display_name": "Python 3",
   "language": "python",
   "name": "python3"
  },
  "language_info": {
   "codemirror_mode": {
    "name": "ipython",
    "version": 2
   },
   "file_extension": ".py",
   "mimetype": "text/x-python",
   "name": "python",
   "nbconvert_exporter": "python",
   "pygments_lexer": "ipython2",
   "version": "2.7.6"
  }
 },
 "nbformat": 4,
 "nbformat_minor": 0
}
