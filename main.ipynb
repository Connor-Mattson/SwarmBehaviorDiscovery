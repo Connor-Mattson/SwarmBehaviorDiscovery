{
 "cells": [
  {
   "cell_type": "markdown",
   "source": [
    "# Imports\n",
    "All imports should be defined here to reduce clutter"
   ],
   "metadata": {
    "collapsed": false
   }
  },
  {
   "cell_type": "code",
   "execution_count": 172,
   "outputs": [],
   "source": [
    "import numpy as np\n",
    "import pygame\n",
    "import torch\n",
    "import torchvision\n",
    "from torch.utils.tensorboard import SummaryWriter\n",
    "from torchvision import datasets, transforms\n",
    "import matplotlib.pyplot as plot\n",
    "\n",
    "from NovelSwarmBehavior.novel_swarms.config.EvolutionaryConfig import GeneticEvolutionConfig\n",
    "from NovelSwarmBehavior.novel_swarms.config.WorldConfig import RectangularWorldConfig\n",
    "from NovelSwarmBehavior.novel_swarms.config.defaults import ConfigurationDefaults\n",
    "from NovelSwarmBehavior.novel_swarms.novelty.GeneRule import GeneRule\n",
    "from NovelSwarmBehavior.novel_swarms.config.OutputTensorConfig import OutputTensorConfig\n",
    "from generation.HaltedEvolution import HaltedEvolution"
   ],
   "metadata": {
    "collapsed": false
   }
  },
  {
   "cell_type": "markdown",
   "source": [
    "# Function Declarations"
   ],
   "metadata": {
    "collapsed": false
   }
  },
  {
   "cell_type": "code",
   "execution_count": 173,
   "outputs": [],
   "source": [
    "def initializeHaltedEvolution():\n",
    "    agent_config = ConfigurationDefaults.DIFF_DRIVE_AGENT\n",
    "\n",
    "    genotype = [\n",
    "        GeneRule(_max=1.0, _min=-1.0, mutation_step=0.4, round_digits=4),\n",
    "        GeneRule(_max=1.0, _min=-1.0, mutation_step=0.4, round_digits=4),\n",
    "        GeneRule(_max=1.0, _min=-1.0, mutation_step=0.4, round_digits=4),\n",
    "        GeneRule(_max=1.0, _min=-1.0, mutation_step=0.4, round_digits=4),\n",
    "    ]\n",
    "\n",
    "    phenotype = ConfigurationDefaults.BEHAVIOR_VECTOR\n",
    "\n",
    "    world_config = RectangularWorldConfig(\n",
    "        size=(500, 500),\n",
    "        n_agents=30,\n",
    "        behavior=phenotype,\n",
    "        agentConfig=agent_config,\n",
    "        padding=15\n",
    "    )\n",
    "\n",
    "    novelty_config = GeneticEvolutionConfig(\n",
    "        gene_rules=genotype,\n",
    "        phenotype_config=phenotype,\n",
    "        n_generations=100,\n",
    "        n_population=100,\n",
    "        crossover_rate=0.7,\n",
    "        mutation_rate=0.15,\n",
    "        world_config=world_config,\n",
    "        k_nn=15,\n",
    "        simulation_lifespan=600,\n",
    "        display_novelty=False,\n",
    "        save_archive=False,\n",
    "        show_gui=True\n",
    "    )\n",
    "\n",
    "    pygame.init()\n",
    "    pygame.display.set_caption(\"Evolutionary Novelty Search\")\n",
    "    screen = pygame.display.set_mode((world_config.w, world_config.h))\n",
    "\n",
    "    output_config = OutputTensorConfig(\n",
    "        timeless=True,\n",
    "        total_frames=80,\n",
    "        steps_between_frames=2,\n",
    "        screen=screen\n",
    "    )\n",
    "\n",
    "    halted_evolution = HaltedEvolution(\n",
    "        world=world_config,\n",
    "        evolution_config=novelty_config,\n",
    "        output_config=output_config\n",
    "    )\n",
    "\n",
    "    return halted_evolution"
   ],
   "metadata": {
    "collapsed": false
   }
  },
  {
   "cell_type": "code",
   "execution_count": 191,
   "outputs": [],
   "source": [
    "class BehaviorIdentificationModel(torch.nn.Module):\n",
    "    def __init__(self, n_classes=2):\n",
    "        super(BehaviorIdentificationModel, self,).__init__()\n",
    "\n",
    "        self.n_classes = n_classes\n",
    "\n",
    "        self.conv1 = torch.nn.Conv2d(1, 1, 5, stride=2, padding=2)\n",
    "        self.activation1 = torch.nn.ReLU()\n",
    "        self.conv2 = torch.nn.Conv2d(1, 1, 3, stride=2, padding=1)\n",
    "        self.activation2 = torch.nn.ReLU()\n",
    "        # self.conv3 = torch.nn.Conv2d(1, 1, 3, stride=2)\n",
    "        # self.activation3 = torch.nn.LeakyReLU()\n",
    "\n",
    "        self.pooling = torch.nn.MaxPool2d(2, stride=2)\n",
    "        self.flatten = torch.nn.Flatten()\n",
    "        self.linear1 = torch.nn.Linear(3844, 400)\n",
    "        self.activation5 = torch.nn.ReLU()\n",
    "\n",
    "        FEATURE_LAYER_SIZE = 100\n",
    "        self.linear2 = torch.nn.Linear(400, FEATURE_LAYER_SIZE)\n",
    "        self.activation6 = torch.nn.ReLU()\n",
    "        self.classification_layer = torch.nn.Linear(FEATURE_LAYER_SIZE, self.n_classes)\n",
    "\n",
    "        self.curr_feature_layer = torch.zeros(FEATURE_LAYER_SIZE)\n",
    "\n",
    "\n",
    "    def forward(self, x):\n",
    "        x = self.conv1(x)\n",
    "        x = self.activation1(x)\n",
    "        x = self.conv2(x)\n",
    "        x = self.activation2(x)\n",
    "        # print(x.size())\n",
    "        # x = self.conv3(x)\n",
    "        # x = self.activation3(x)\n",
    "\n",
    "        x = self.pooling(x)\n",
    "        x = self.flatten(x)\n",
    "        x = self.linear1(x)\n",
    "        x = self.activation5(x)\n",
    "        x = self.linear2(x)\n",
    "\n",
    "        # Save Features\n",
    "        self.curr_feature_layer = x\n",
    "\n",
    "        x = self.activation6(x)\n",
    "        x = self.classification_layer(x)\n",
    "        return x\n",
    "\n",
    "    def increaseClassCount(self):\n",
    "        self.n_classes += 1\n",
    "        self.classification_layer = torch.nn.Linear(100, self.n_classes)"
   ],
   "metadata": {
    "collapsed": false
   }
  },
  {
   "cell_type": "markdown",
   "source": [
    "# Test Halted Evolution + TensorBoard\n",
    "The following initializes a possible evolution, simulates the genome, and outputs the resulting frame to tensorboard"
   ],
   "metadata": {
    "collapsed": false
   }
  },
  {
   "cell_type": "code",
   "execution_count": 175,
   "outputs": [],
   "source": [
    "def testTensorBoardAndEvolutionNexting():\n",
    "    # Writer will output to ./runs/ directory by default\n",
    "    writer = SummaryWriter()\n",
    "\n",
    "    evolution = initializeHaltedEvolution()\n",
    "    evolution.evolve_config.lifespan = 1200\n",
    "    evolution.setup()\n",
    "\n",
    "    for i in range(60):\n",
    "        frame, behavior_vector = evolution.next()\n",
    "        frame = frame.astype(np.uint8)\n",
    "        reshaped = np.reshape(frame, (1, 500, 500))\n",
    "\n",
    "        # Tensorboard output\n",
    "        writer.add_image('images', reshaped.astype(np.uint8), i, dataformats=\"CWH\")\n",
    "\n",
    "    writer.close()\n",
    "    pygame.quit()\n",
    "\n",
    "# testTensorBoardAndEvolutionNexting()"
   ],
   "metadata": {
    "collapsed": false
   }
  },
  {
   "cell_type": "markdown",
   "source": [
    "# Test Single Pass Through of the Network"
   ],
   "metadata": {
    "collapsed": false
   }
  },
  {
   "cell_type": "code",
   "execution_count": 179,
   "outputs": [],
   "source": [
    "def testInputAndBackpropOfAlteredNetwork():\n",
    "    evolution = initializeHaltedEvolution()\n",
    "    evolution.setup()\n",
    "\n",
    "    model = BehaviorIdentificationModel(n_classes=6)\n",
    "    frame, _ = evolution.next()\n",
    "    frame = frame.astype(np.uint8)\n",
    "    reshaped = np.reshape(frame, (1, 500, 500))\n",
    "\n",
    "    # Initialize a test loss function\n",
    "    loss_fn = torch.nn.CrossEntropyLoss()\n",
    "    optimizer = torch.optim.SGD(model.parameters(), lr=1e-3)\n",
    "\n",
    "    tensor = torch.tensor(reshaped, dtype=torch.float32)\n",
    "    y_hat1 = model.forward(tensor)\n",
    "    print(y_hat1)\n",
    "\n",
    "    y_truth = torch.tensor([[1, 0, 0, 0, 0, 0]], dtype=torch.float32)\n",
    "    loss = loss_fn(y_hat1, y_truth)\n",
    "    optimizer.zero_grad()\n",
    "    loss.backward()\n",
    "    optimizer.step()\n",
    "\n",
    "    model.increaseClassCount()\n",
    "    y_hat2 = model.forward(tensor)\n",
    "    y_truth = torch.tensor([[1, 0, 0, 0, 0, 0, 0]], dtype=torch.float32)\n",
    "    loss = loss_fn(y_hat2, y_truth)\n",
    "    optimizer.zero_grad()\n",
    "    loss.backward()\n",
    "    optimizer.step()\n",
    "\n",
    "    print(y_hat1, y_hat2)\n",
    "    pygame.quit()\n",
    "# testInputAndBackpropOfAlteredNetwork()"
   ],
   "metadata": {
    "collapsed": false
   }
  },
  {
   "cell_type": "markdown",
   "source": [
    "Get Number of trainable parameters in the network"
   ],
   "metadata": {
    "collapsed": false
   }
  },
  {
   "cell_type": "code",
   "execution_count": 177,
   "outputs": [
    {
     "name": "stdout",
     "output_type": "stream",
     "text": [
      "1578338\n",
      "Model structure: BehaviorIdentificationModel(\n",
      "  (conv1): Conv2d(1, 1, kernel_size=(5, 5), stride=(2, 2), padding=(2, 2))\n",
      "  (activation1): LeakyReLU(negative_slope=0.01)\n",
      "  (conv2): Conv2d(1, 1, kernel_size=(3, 3), stride=(2, 2), padding=(1, 1))\n",
      "  (activation2): LeakyReLU(negative_slope=0.01)\n",
      "  (pooling): MaxPool2d(kernel_size=2, stride=2, padding=0, dilation=1, ceil_mode=False)\n",
      "  (flatten): Flatten(start_dim=1, end_dim=-1)\n",
      "  (linear1): Linear(in_features=3844, out_features=400, bias=True)\n",
      "  (activation5): LeakyReLU(negative_slope=0.01)\n",
      "  (linear2): Linear(in_features=400, out_features=100, bias=True)\n",
      "  (activation6): LeakyReLU(negative_slope=0.01)\n",
      "  (classification_layer): Linear(in_features=100, out_features=2, bias=True)\n",
      ")\n",
      "\n",
      "\n"
     ]
    }
   ],
   "source": [
    "def printModelInformation():\n",
    "    model_info = BehaviorIdentificationModel(n_classes=2)\n",
    "    print(sum(p.numel() for p in model_info.parameters() if p.requires_grad))\n",
    "    print(f\"Model structure: {model_info}\\n\\n\")\n",
    "printModelInformation()"
   ],
   "metadata": {
    "collapsed": false
   }
  },
  {
   "cell_type": "code",
   "execution_count": 218,
   "outputs": [],
   "source": [
    "data_transform_training = transforms.Compose([\n",
    "    transforms.Grayscale(num_output_channels=1),\n",
    "    transforms.RandomApply(\n",
    "        transforms=[\n",
    "            transforms.RandomAffine(\n",
    "                degrees=(0, 180),\n",
    "                translate=(0.0, 0.3),\n",
    "                scale=(0.5, 1.0)\n",
    "            ),\n",
    "            transforms.RandomPerspective(\n",
    "                distortion_scale=0.6,\n",
    "                p = 0.3\n",
    "            )\n",
    "        ],\n",
    "        p=1.0\n",
    "    ),\n",
    "    transforms.ToTensor(),\n",
    "])\n",
    "\n",
    "data_transform_testing = transforms.Compose([\n",
    "    transforms.Grayscale(num_output_channels=1),\n",
    "    transforms.ToTensor(),\n",
    "])\n",
    "\n",
    "train_folder = torchvision.datasets.ImageFolder(root=\"./data/train\", transform=data_transform_training)\n",
    "test_folder = torchvision.datasets.ImageFolder(root=\"./data/test\", transform=data_transform_testing)\n",
    "\n",
    "train_folder = torch.utils.data.ConcatDataset([train_folder] * 8)\n",
    "\n",
    "train_loader = torch.utils.data.DataLoader(\n",
    "    train_folder,\n",
    "    batch_size=1,\n",
    "    shuffle=True\n",
    ")\n",
    "\n",
    "test_loader = torch.utils.data.DataLoader(\n",
    "    test_folder,\n",
    "    batch_size=4,\n",
    "    shuffle=True\n",
    ")"
   ],
   "metadata": {
    "collapsed": false
   }
  },
  {
   "cell_type": "code",
   "execution_count": 219,
   "outputs": [],
   "source": [
    "def custom_softmax(x):\n",
    "    alpha = torch.tensor(0.0)\n",
    "    # print(\"Alpha: \", alpha)\n",
    "    exp_x = torch.exp(x)\n",
    "    # print(\"Exp X: \", exp_x)\n",
    "    sum_x = torch.sum(exp_x, dim=1, keepdim=True) + torch.exp(alpha)\n",
    "    # print(\"Sum X: \", sum_x)\n",
    "    softmax = exp_x / sum_x\n",
    "    # print(\"Sofmax: \", softmax)\n",
    "    return softmax\n",
    "\n",
    "def custom_log_softmax(x):\n",
    "    return torch.log(custom_softmax(x))\n",
    "\n",
    "def custom_cross_entropy_loss(x, y_truth):\n",
    "    log_prob = -1.0 * custom_log_softmax(x)\n",
    "    # print(\"Log Prob: \", log_prob)\n",
    "    loss = log_prob.gather(1, y_truth.unsqueeze(1))\n",
    "    # print(\"Gathering: \", loss)\n",
    "    loss = loss.mean()\n",
    "    # print(\"Loss: \", loss)\n",
    "    return loss\n",
    "\n",
    "def entropic_open_set_loss(x, y_truth=None, in_distribution=True):\n",
    "    if in_distribution:\n",
    "        return custom_cross_entropy_loss(x, y_truth)\n",
    "    else:\n",
    "        return (-1/len(x)) * torch.sum(custom_log_softmax(x))\n",
    "\n",
    "def objectosphere_loss(x, y_truth=None, feature_layer=None, in_distribution=True):\n",
    "    entropic_loss = entropic_open_set_loss(x, y_truth=y_truth, in_distribution=in_distribution)\n",
    "    LAMBDA = 0.4\n",
    "    if in_distribution:\n",
    "        ZETA = 1.0\n",
    "        objectosphere = max(torch.max(ZETA - torch.norm(feature_layer)), torch.tensor(0)) ** 2\n",
    "    else:\n",
    "        objectosphere = torch.norm(feature_layer) ** 2\n",
    "\n",
    "    return entropic_loss + (LAMBDA * objectosphere)"
   ],
   "metadata": {
    "collapsed": false
   }
  },
  {
   "cell_type": "code",
   "execution_count": 217,
   "outputs": [
    {
     "name": "stdout",
     "output_type": "stream",
     "text": [
      "Test:  tensor([[0.5000, 0.4400],\n",
      "        [0.8000, 0.2200]])\n",
      "Y Truth:  tensor([0, 1])\n",
      "Features:  tensor([[0.2671, 0.4131, 0.9857],\n",
      "        [0.9584, 0.0637, 0.0264]])\n",
      "ID_Entropic:  tensor(1.1066)\n",
      "OOD_Entropic:  tensor(1.9532)\n",
      "ID_Objectosphere:  tensor(1.1066)\n",
      "OOD_Objectosphere:  tensor(2.8079)\n"
     ]
    }
   ],
   "source": [
    "test = torch.tensor([[0.5, 0.44], [0.8, 0.22]])\n",
    "y_truth = torch.tensor([0, 1])\n",
    "features = torch.rand((2,3))\n",
    "print(\"Test: \", test)\n",
    "print(\"Y Truth: \", y_truth)\n",
    "print(\"Features: \", features)\n",
    "\n",
    "print(\"ID_Entropic: \", entropic_open_set_loss(test, y_truth=y_truth, in_distribution=True))\n",
    "print(\"OOD_Entropic: \", entropic_open_set_loss(test, in_distribution=False))\n",
    "print(\"ID_Objectosphere: \", objectosphere_loss(test, y_truth=y_truth, feature_layer=features, in_distribution=True))\n",
    "print(\"OOD_Objectosphere: \", objectosphere_loss(test, feature_layer=features, in_distribution=False))"
   ],
   "metadata": {
    "collapsed": false
   }
  },
  {
   "cell_type": "markdown",
   "source": [],
   "metadata": {
    "collapsed": false
   }
  },
  {
   "cell_type": "code",
   "execution_count": null,
   "outputs": [
    {
     "name": "stdout",
     "output_type": "stream",
     "text": [
      "Epoch 0\n",
      "Training loss: 0.731642\n",
      "Softmax Values:  tensor([[0.4385, 0.5589],\n",
      "        [0.4385, 0.5589]])\n",
      "Test Error: \n",
      " Accuracy: 51.8%, Avg loss: 0.696840 \n",
      "\n",
      "Epoch 1\n",
      "Training loss: 0.717073\n",
      "Softmax Values:  tensor([[0.4165, 0.5800],\n",
      "        [0.4165, 0.5800]])\n",
      "Test Error: \n",
      " Accuracy: 51.8%, Avg loss: 0.707442 \n",
      "\n",
      "Epoch 2\n",
      "Training loss: 0.718392\n",
      "Softmax Values:  tensor([[0.4948, 0.5018],\n",
      "        [0.4948, 0.5018]])\n",
      "Test Error: \n",
      " Accuracy: 51.8%, Avg loss: 0.696311 \n",
      "\n",
      "Epoch 3\n",
      "Training loss: 0.717681\n",
      "Softmax Values:  tensor([[0.6231, 0.3759],\n",
      "        [0.6231, 0.3759]])\n",
      "Test Error: \n",
      " Accuracy: 48.2%, Avg loss: 0.738782 \n",
      "\n",
      "Epoch 4\n",
      "Training loss: 0.716653\n",
      "Softmax Values:  tensor([[0.4973, 0.4963],\n",
      "        [0.4973, 0.4963]])\n",
      "Test Error: \n",
      " Accuracy: 48.2%, Avg loss: 0.699612 \n",
      "\n",
      "Epoch 5\n",
      "Training loss: 0.714765\n",
      "Softmax Values:  tensor([[0.5976, 0.4014],\n",
      "        [0.5976, 0.4014]])\n",
      "Test Error: \n",
      " Accuracy: 48.2%, Avg loss: 0.720732 \n",
      "\n",
      "Epoch 6\n",
      "Training loss: 0.713697\n",
      "Softmax Values:  tensor([[0.5140, 0.4845],\n",
      "        [0.5138, 0.4846]])\n",
      "Test Error: \n",
      " Accuracy: 48.2%, Avg loss: 0.696148 \n",
      "\n",
      "Epoch 7\n",
      "Training loss: 0.714665\n",
      "Softmax Values:  tensor([[0.4560, 0.5418],\n",
      "        [0.4560, 0.5418]])\n",
      "Test Error: \n",
      " Accuracy: 51.8%, Avg loss: 0.694519 \n",
      "\n",
      "Epoch 8\n",
      "Training loss: 0.714505\n",
      "Softmax Values:  tensor([[0.5248, 0.4735],\n",
      "        [0.5248, 0.4735]])\n",
      "Test Error: \n",
      " Accuracy: 48.2%, Avg loss: 0.697037 \n",
      "\n",
      "Epoch 9\n",
      "Training loss: 0.714257\n",
      "Softmax Values:  tensor([[0.4746, 0.5233],\n",
      "        [0.4746, 0.5233]])\n",
      "Test Error: \n",
      " Accuracy: 51.8%, Avg loss: 0.694731 \n",
      "\n",
      "Epoch 10\n",
      "Training loss: 0.715281\n",
      "Softmax Values:  tensor([[0.4760, 0.5211],\n",
      "        [0.4760, 0.5211]])\n",
      "Test Error: \n",
      " Accuracy: 51.8%, Avg loss: 0.696228 \n",
      "\n",
      "Epoch 11\n",
      "Training loss: 0.712929\n",
      "Softmax Values:  tensor([[0.4590, 0.5387],\n",
      "        [0.4590, 0.5387]])\n",
      "Test Error: \n",
      " Accuracy: 51.8%, Avg loss: 0.697317 \n",
      "\n",
      "Epoch 12\n",
      "Training loss: 0.713095\n",
      "Softmax Values:  tensor([[0.3437, 0.6558],\n",
      "        [0.3436, 0.6558]])\n",
      "Test Error: \n",
      " Accuracy: 51.8%, Avg loss: 0.739347 \n",
      "\n",
      "Epoch 13\n"
     ]
    }
   ],
   "source": [
    "OOD_CLASS = 2\n",
    "epochs = 100\n",
    "model = BehaviorIdentificationModel(n_classes=2)\n",
    "\n",
    "loss_fn = custom_cross_entropy_loss\n",
    "optimizer = torch.optim.Adam(model.parameters(), lr=1e-3)\n",
    "\n",
    "writer = SummaryWriter()\n",
    "\n",
    "for epoch in range(epochs):\n",
    "    print(f\"Epoch {epoch}\")\n",
    "\n",
    "    # Training\n",
    "    size = len(train_loader.dataset)\n",
    "    loss_sum = 0\n",
    "    for batch, (X, y) in enumerate(train_loader):\n",
    "        optimizer.zero_grad()\n",
    "        pred = model(X)\n",
    "        features = model.curr_feature_layer\n",
    "        if y[0] == OOD_CLASS:\n",
    "            loss = entropic_open_set_loss(pred, y_truth=y, in_distribution=False)\n",
    "        else:\n",
    "            loss = entropic_open_set_loss(pred, y_truth=y, in_distribution=True)\n",
    "        loss.backward()\n",
    "        loss_sum += loss.item()\n",
    "        optimizer.step()\n",
    "\n",
    "    epoch_loss = loss_sum / len(train_loader)\n",
    "    writer.add_scalar('Loss/Train', epoch_loss, global_step=epoch)\n",
    "    print(f\"Training loss: {epoch_loss:>7f}\")\n",
    "\n",
    "    # Testing (Only test every few epochs)\n",
    "    if epoch % 1 == 0:\n",
    "        size = len(test_loader.dataset)\n",
    "        num_batches = len(test_loader)\n",
    "        test_loss, accuracy = 0, 0\n",
    "\n",
    "        with torch.no_grad():\n",
    "            for X, y in test_loader:\n",
    "                pred = model(X)\n",
    "                loss = loss_fn(pred, y)\n",
    "                test_loss += loss.item()\n",
    "                softy = custom_softmax(pred)\n",
    "\n",
    "                for i, row in enumerate(softy):\n",
    "                    if row.argmax() == y[i]:\n",
    "                        accuracy += 1\n",
    "\n",
    "            print(\"Softmax Values: \", softy)\n",
    "\n",
    "            # print(pred, softy)\n",
    "\n",
    "        test_loss /= num_batches\n",
    "        accuracy /= size\n",
    "        print(f\"Test Error: \\n Accuracy: {(100*accuracy):>0.1f}%, Avg loss: {test_loss:>8f} \\n\")\n",
    "        writer.add_scalar('Loss/Test', test_loss, global_step=epoch)\n",
    "        writer.add_scalar('Accuracy/Test', accuracy, epoch)\n"
   ],
   "metadata": {
    "collapsed": false,
    "pycharm": {
     "is_executing": true
    }
   }
  },
  {
   "cell_type": "code",
   "execution_count": 190,
   "outputs": [
    {
     "name": "stdout",
     "output_type": "stream",
     "text": [
      "Starting\n"
     ]
    },
    {
     "data": {
      "text/plain": "<Figure size 640x480 with 1 Axes>",
      "image/png": "[encoded data removed]"
     },
     "metadata": {},
     "output_type": "display_data"
    },
    {
     "name": "stdout",
     "output_type": "stream",
     "text": [
      "Prediction:  tensor([[ 96.9236, 101.9596]]) Target:  None\n",
      "SoftMaxed:  tensor([[nan, nan]])\n",
      "Ending\n"
     ]
    }
   ],
   "source": [
    "print(\"Starting\")\n",
    "import matplotlib.pyplot as plot\n",
    "\n",
    "eval_folder = torchvision.datasets.ImageFolder(root=\"./data/eval\", transform=data_transform_testing)\n",
    "eval_loader = test_loader = torch.utils.data.DataLoader(\n",
    "    eval_folder,\n",
    "    batch_size=4,\n",
    "    shuffle=False\n",
    ")\n",
    "\n",
    "with torch.no_grad():\n",
    "    X, y = eval_loader.dataset[5]\n",
    "\n",
    "    plot.imshow(torch.squeeze(X), cmap='Greys')\n",
    "    plot.show()\n",
    "\n",
    "    pred = model(X)\n",
    "    # target = torch.tensor([y])\n",
    "    print(\"Prediction: \", pred, \"Target: \", None)\n",
    "\n",
    "    # optimizer.zero_grad()\n",
    "    #\n",
    "    # test_loss = loss_fn(pred, target)\n",
    "    # print(\"Loss: \", test_loss.item())\n",
    "\n",
    "    softy = custom_log_softmax(pred)\n",
    "    print(\"SoftMaxed: \", softy)\n",
    "\n",
    "print(\"Ending\")"
   ],
   "metadata": {
    "collapsed": false
   }
  }
 ],
 "metadata": {
  "kernelspec": {
   "display_name": "Python 3",
   "language": "python",
   "name": "python3"
  },
  "language_info": {
   "codemirror_mode": {
    "name": "ipython",
    "version": 2
   },
   "file_extension": ".py",
   "mimetype": "text/x-python",
   "name": "python",
   "nbconvert_exporter": "python",
   "pygments_lexer": "ipython2",
   "version": "2.7.6"
  }
 },
 "nbformat": 4,
 "nbformat_minor": 0
}
