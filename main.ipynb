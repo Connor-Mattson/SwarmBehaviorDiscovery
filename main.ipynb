{
 "cells": [
  {
   "cell_type": "markdown",
   "source": [
    "# Imports\n",
    "All imports should be defined here to reduce clutter"
   ],
   "metadata": {
    "collapsed": false
   }
  },
  {
   "cell_type": "code",
   "execution_count": 5,
   "outputs": [],
   "source": [
    "import numpy as np\n",
    "import pygame\n",
    "import torch\n",
    "import torchvision\n",
    "from torch.utils.tensorboard import SummaryWriter\n",
    "from torchvision import datasets, transforms\n",
    "import matplotlib.pyplot as plot\n",
    "\n",
    "from NovelSwarmBehavior.novel_swarms.config.EvolutionaryConfig import GeneticEvolutionConfig\n",
    "from NovelSwarmBehavior.novel_swarms.config.WorldConfig import RectangularWorldConfig\n",
    "from NovelSwarmBehavior.novel_swarms.config.defaults import ConfigurationDefaults\n",
    "from NovelSwarmBehavior.novel_swarms.novelty.GeneRule import GeneRule\n",
    "from NovelSwarmBehavior.novel_swarms.config.OutputTensorConfig import OutputTensorConfig\n",
    "from generation.HaltedEvolution import HaltedEvolution"
   ],
   "metadata": {
    "collapsed": false
   }
  },
  {
   "cell_type": "markdown",
   "source": [
    "# Function Declarations"
   ],
   "metadata": {
    "collapsed": false
   }
  },
  {
   "cell_type": "code",
   "execution_count": 18,
   "outputs": [],
   "source": [
    "def initializeHaltedEvolution():\n",
    "    agent_config = ConfigurationDefaults.DIFF_DRIVE_AGENT\n",
    "\n",
    "    genotype = [\n",
    "        GeneRule(_max=1.0, _min=-1.0, mutation_step=0.4, round_digits=4),\n",
    "        GeneRule(_max=1.0, _min=-1.0, mutation_step=0.4, round_digits=4),\n",
    "        GeneRule(_max=1.0, _min=-1.0, mutation_step=0.4, round_digits=4),\n",
    "        GeneRule(_max=1.0, _min=-1.0, mutation_step=0.4, round_digits=4),\n",
    "    ]\n",
    "\n",
    "    phenotype = ConfigurationDefaults.BEHAVIOR_VECTOR\n",
    "\n",
    "    world_config = RectangularWorldConfig(\n",
    "        size=(500, 500),\n",
    "        n_agents=30,\n",
    "        behavior=phenotype,\n",
    "        agentConfig=agent_config,\n",
    "        padding=15\n",
    "    )\n",
    "\n",
    "    novelty_config = GeneticEvolutionConfig(\n",
    "        gene_rules=genotype,\n",
    "        phenotype_config=phenotype,\n",
    "        n_generations=100,\n",
    "        n_population=100,\n",
    "        crossover_rate=0.7,\n",
    "        mutation_rate=0.15,\n",
    "        world_config=world_config,\n",
    "        k_nn=15,\n",
    "        simulation_lifespan=600,\n",
    "        display_novelty=False,\n",
    "        save_archive=False,\n",
    "        show_gui=True\n",
    "    )\n",
    "\n",
    "    pygame.init()\n",
    "    pygame.display.set_caption(\"Evolutionary Novelty Search\")\n",
    "    screen = pygame.display.set_mode((world_config.w, world_config.h))\n",
    "\n",
    "    output_config = OutputTensorConfig(\n",
    "        timeless=True,\n",
    "        total_frames=80,\n",
    "        steps_between_frames=2,\n",
    "        screen=screen\n",
    "    )\n",
    "\n",
    "    halted_evolution = HaltedEvolution(\n",
    "        world=world_config,\n",
    "        evolution_config=novelty_config,\n",
    "        output_config=output_config\n",
    "    )\n",
    "\n",
    "    return halted_evolution"
   ],
   "metadata": {
    "collapsed": false
   }
  },
  {
   "cell_type": "code",
   "execution_count": 42,
   "outputs": [],
   "source": [
    "class BehaviorIdentificationModel(torch.nn.Module):\n",
    "    def __init__(self, n_classes=2):\n",
    "        super(BehaviorIdentificationModel, self,).__init__()\n",
    "\n",
    "        self.n_classes = n_classes\n",
    "\n",
    "        self.conv1 = torch.nn.Conv2d(1, 1, 5, stride=2, padding=2)\n",
    "        self.activation1 = torch.nn.ReLU()\n",
    "        self.conv2 = torch.nn.Conv2d(1, 1, 3, stride=2, padding=1)\n",
    "        self.activation2 = torch.nn.ReLU()\n",
    "        self.conv3 = torch.nn.Conv2d(1, 1, 3, stride=2)\n",
    "        self.activation3 = torch.nn.ReLU()\n",
    "\n",
    "        self.pooling = torch.nn.MaxPool2d(3, stride=3)\n",
    "        self.activation4 = torch.nn.ReLU()\n",
    "\n",
    "        self.flatten = torch.nn.Flatten()\n",
    "\n",
    "        self.linear1 = torch.nn.Linear(400, 200)\n",
    "        self.activation5 = torch.nn.ReLU()\n",
    "        self.linear2 = torch.nn.Linear(200, 100)\n",
    "        self.activation6 = torch.nn.ReLU()\n",
    "        self.classification_layer = torch.nn.Linear(100, self.n_classes)\n",
    "\n",
    "        self.softmax = torch.nn.Softmax(dim=0)\n",
    "\n",
    "    def forward(self, x):\n",
    "        print(x.size())\n",
    "\n",
    "        x = self.conv1(x)\n",
    "        x = self.activation1(x)\n",
    "        x = self.conv2(x)\n",
    "        x = self.activation2(x)\n",
    "        x = self.conv3(x)\n",
    "        x = self.activation3(x)\n",
    "        x = self.pooling(x)\n",
    "        x = self.activation4(x)\n",
    "        x = self.flatten(x)\n",
    "        x = self.linear1(x)\n",
    "        x = self.activation5(x)\n",
    "        x = self.linear2(x)\n",
    "        x = self.activation6(x)\n",
    "        x = self.classification_layer(x)\n",
    "        x = self.softmax(x)\n",
    "\n",
    "        return x\n",
    "\n",
    "    def increaseClassCount(self):\n",
    "        self.n_classes += 1\n",
    "        self.classification_layer = torch.nn.Linear(100, self.n_classes)"
   ],
   "metadata": {
    "collapsed": false
   }
  },
  {
   "cell_type": "markdown",
   "source": [
    "# Test Halted Evolution + TensorBoard\n",
    "The following initializes a possible evolution, simulates the genome, and outputs the resulting frame to tensorboard"
   ],
   "metadata": {
    "collapsed": false
   }
  },
  {
   "cell_type": "code",
   "execution_count": null,
   "outputs": [],
   "source": [
    "def testTensorBoardAndEvolutionNexting():\n",
    "    # Writer will output to ./runs/ directory by default\n",
    "    writer = SummaryWriter()\n",
    "\n",
    "    evolution = initializeHaltedEvolution()\n",
    "    evolution.setup()\n",
    "\n",
    "    frame, behavior_vector = evolution.next()\n",
    "    frame = frame.astype(np.uint8)\n",
    "    reshaped = np.reshape(frame, (1, 500, 500))\n",
    "\n",
    "    # Tensorboard output\n",
    "    writer.add_image('images', reshaped.astype(np.uint8), 0, dataformats=\"CWH\")\n",
    "\n",
    "    writer.close()\n",
    "    pygame.quit()\n",
    "testTensorBoardAndEvolutionNexting()"
   ],
   "metadata": {
    "collapsed": false,
    "pycharm": {
     "is_executing": true
    }
   }
  },
  {
   "cell_type": "markdown",
   "source": [
    "# Test Single Pass Through of the Network"
   ],
   "metadata": {
    "collapsed": false
   }
  },
  {
   "cell_type": "code",
   "execution_count": null,
   "outputs": [],
   "source": [
    "def testInputAndBackpropOfAlteredNetwork():\n",
    "    evolution = initializeHaltedEvolution()\n",
    "    evolution.setup()\n",
    "\n",
    "    model = BehaviorIdentificationModel(n_classes=6)\n",
    "    frame, _ = evolution.next()\n",
    "    frame = frame.astype(np.uint8)\n",
    "    reshaped = np.reshape(frame, (1, 500, 500))\n",
    "\n",
    "    # Initialize a test loss function\n",
    "    loss_fn = torch.nn.CrossEntropyLoss()\n",
    "    optimizer = torch.optim.SGD(model.parameters(), lr=1e-3)\n",
    "\n",
    "    tensor = torch.tensor(reshaped, dtype=torch.float32)\n",
    "    y_hat1 = model.forward(tensor)\n",
    "    print(y_hat1)\n",
    "\n",
    "    y_truth = torch.tensor([[1, 0, 0, 0, 0, 0]], dtype=torch.float32)\n",
    "    loss = loss_fn(y_hat1, y_truth)\n",
    "    optimizer.zero_grad()\n",
    "    loss.backward()\n",
    "    optimizer.step()\n",
    "\n",
    "    model.increaseClassCount()\n",
    "    y_hat2 = model.forward(tensor)\n",
    "    y_truth = torch.tensor([[1, 0, 0, 0, 0, 0, 0]], dtype=torch.float32)\n",
    "    loss = loss_fn(y_hat2, y_truth)\n",
    "    optimizer.zero_grad()\n",
    "    loss.backward()\n",
    "    optimizer.step()\n",
    "\n",
    "    print(y_hat1, y_hat2)\n",
    "    pygame.quit()\n",
    "testInputAndBackpropOfAlteredNetwork()"
   ],
   "metadata": {
    "collapsed": false,
    "pycharm": {
     "is_executing": true
    }
   }
  },
  {
   "cell_type": "markdown",
   "source": [
    "Get Number of trainable parameters in the network"
   ],
   "metadata": {
    "collapsed": false
   }
  },
  {
   "cell_type": "code",
   "execution_count": 62,
   "outputs": [
    {
     "name": "stdout",
     "output_type": "stream",
     "text": [
      "100952\n",
      "Model structure: BehaviorIdentificationModel(\n",
      "  (conv1): Conv2d(1, 1, kernel_size=(5, 5), stride=(2, 2), padding=(2, 2))\n",
      "  (activation1): ReLU()\n",
      "  (conv2): Conv2d(1, 1, kernel_size=(3, 3), stride=(2, 2), padding=(1, 1))\n",
      "  (activation2): ReLU()\n",
      "  (conv3): Conv2d(1, 1, kernel_size=(3, 3), stride=(2, 2))\n",
      "  (activation3): ReLU()\n",
      "  (pooling): MaxPool2d(kernel_size=3, stride=3, padding=0, dilation=1, ceil_mode=False)\n",
      "  (activation4): ReLU()\n",
      "  (flatten): Flatten(start_dim=1, end_dim=-1)\n",
      "  (linear1): Linear(in_features=400, out_features=200, bias=True)\n",
      "  (activation5): ReLU()\n",
      "  (linear2): Linear(in_features=200, out_features=100, bias=True)\n",
      "  (activation6): ReLU()\n",
      "  (classification_layer): Linear(in_features=100, out_features=6, bias=True)\n",
      "  (softmax): Softmax(dim=0)\n",
      ")\n",
      "\n",
      "\n"
     ]
    }
   ],
   "source": [
    "def printModelInformation():\n",
    "    model = BehaviorIdentificationModel(n_classes=6)\n",
    "    print(sum(p.numel() for p in model.parameters() if p.requires_grad))\n",
    "    print(f\"Model structure: {model}\\n\\n\")\n",
    "printModelInformation()"
   ],
   "metadata": {
    "collapsed": false
   }
  },
  {
   "cell_type": "markdown",
   "source": [],
   "metadata": {
    "collapsed": false
   }
  },
  {
   "cell_type": "code",
   "execution_count": 63,
   "outputs": [],
   "source": [
    "def training_iteration(dataloader, model, loss_fn, optimizer):\n",
    "    size = len(dataloader.dataset)\n",
    "    for batch, (X, y) in enumerate(dataloader):\n",
    "        # Compute prediction and loss\n",
    "        pred = model(X)\n",
    "        loss = loss_fn(pred, y)\n",
    "\n",
    "        # Backpropagation\n",
    "        optimizer.zero_grad()\n",
    "        loss.backward()\n",
    "        optimizer.step()\n",
    "\n",
    "        if batch % 100 == 0:\n",
    "            loss, current = loss.item(), batch * len(X)\n",
    "            print(f\"loss: {loss:>7f}  [{current:>5d}/{size:>5d}]\")\n",
    "\n",
    "def testing_iteration(dataloader, model, loss_fn):\n",
    "    size = len(dataloader.dataset)\n",
    "    num_batches = len(dataloader)\n",
    "    test_loss, correct = 0, 0\n",
    "\n",
    "    with torch.no_grad():\n",
    "        for X, y in dataloader:\n",
    "            pred = model(X)\n",
    "            test_loss += loss_fn(pred, y).item()\n",
    "            correct += (pred.argmax(1) == y).type(torch.float).sum().item()\n",
    "\n",
    "    test_loss /= num_batches\n",
    "    correct /= size\n",
    "    print(f\"Test Error: \\n Accuracy: {(100*correct):>0.1f}%, Avg loss: {test_loss:>8f} \\n\")\n"
   ],
   "metadata": {
    "collapsed": false
   }
  },
  {
   "cell_type": "code",
   "execution_count": null,
   "outputs": [],
   "source": [],
   "metadata": {
    "collapsed": false
   }
  }
 ],
 "metadata": {
  "kernelspec": {
   "display_name": "Python 3",
   "language": "python",
   "name": "python3"
  },
  "language_info": {
   "codemirror_mode": {
    "name": "ipython",
    "version": 2
   },
   "file_extension": ".py",
   "mimetype": "text/x-python",
   "name": "python",
   "nbconvert_exporter": "python",
   "pygments_lexer": "ipython2",
   "version": "2.7.6"
  }
 },
 "nbformat": 4,
 "nbformat_minor": 0
}
