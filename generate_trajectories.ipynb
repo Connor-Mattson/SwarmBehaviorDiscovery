{
 "cells": [
  {
   "cell_type": "code",
   "execution_count": null,
   "metadata": {
    "collapsed": true
   },
   "outputs": [],
   "source": [
    "import time\n",
    "\n",
    "from data.swarmset import SwarmDataset, DataBuilder\n",
    "from NovelSwarmBehavior.novel_swarms.novelty.GeneRule import GeneBuilder, GeneRule\n",
    "\n",
    "print(\"hello?\")\n",
    "gene_specifications = GeneBuilder(\n",
    "    heuristic_validation=True,\n",
    "    round_to_digits=1,\n",
    "    rules=[\n",
    "        GeneRule(_max=1.0, _min=-1.0, mutation_step=0.4, round_digits=1),\n",
    "        GeneRule(_max=1.0, _min=-1.0, mutation_step=0.4, round_digits=1),\n",
    "        GeneRule(_max=1.0, _min=-1.0, mutation_step=0.4, round_digits=1),\n",
    "        GeneRule(_max=1.0, _min=-1.0, mutation_step=0.4, round_digits=1),\n",
    "    ]\n",
    ")\n",
    "\n",
    "baseline_data = DataBuilder(\"data/filtered-full\", gene_builder=gene_specifications, steps=1200, agents=24, resize=(50,50))\n",
    "baseline_data.create(sample_size=10000)\n",
    "baseline_data.evolution.close()"
   ]
  }
 ],
 "metadata": {
  "kernelspec": {
   "display_name": "Python 3",
   "language": "python",
   "name": "python3"
  },
  "language_info": {
   "codemirror_mode": {
    "name": "ipython",
    "version": 2
   },
   "file_extension": ".py",
   "mimetype": "text/x-python",
   "name": "python",
   "nbconvert_exporter": "python",
   "pygments_lexer": "ipython2",
   "version": "2.7.6"
  }
 },
 "nbformat": 4,
 "nbformat_minor": 0
}
