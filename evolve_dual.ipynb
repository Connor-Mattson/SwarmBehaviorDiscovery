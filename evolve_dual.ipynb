{
 "cells": [
  {
   "cell_type": "code",
   "execution_count": 1,
   "metadata": {
    "collapsed": true
   },
   "outputs": [
    {
     "name": "stdout",
     "output_type": "stream",
     "text": [
      "pygame 2.1.2 (SDL 2.0.16, Python 3.10.6)\n",
      "Hello from the pygame community. https://www.pygame.org/contribute.html\n"
     ]
    }
   ],
   "source": [
    "from NovelSwarmBehavior.novel_swarms.behavior.AngularMomentum import AngularMomentumBehavior\n",
    "from NovelSwarmBehavior.novel_swarms.behavior.AverageSpeed import AverageSpeedBehavior\n",
    "from NovelSwarmBehavior.novel_swarms.behavior.GroupRotationBehavior import GroupRotationBehavior\n",
    "from NovelSwarmBehavior.novel_swarms.behavior.RadialVariance import RadialVarianceBehavior\n",
    "from NovelSwarmBehavior.novel_swarms.behavior.ScatterBehavior import ScatterBehavior\n",
    "from NovelSwarmBehavior.novel_swarms.behavior.SensorOffset import GeneElementDifference\n",
    "from NovelSwarmBehavior.novel_swarms.config.AgentConfig import DiffDriveAgentConfig\n",
    "from NovelSwarmBehavior.novel_swarms.config.EvolutionaryConfig import GeneticEvolutionConfig\n",
    "from NovelSwarmBehavior.novel_swarms.config.OutputTensorConfig import OutputTensorConfig\n",
    "from NovelSwarmBehavior.novel_swarms.config.WorldConfig import RectangularWorldConfig\n",
    "from NovelSwarmBehavior.novel_swarms.novelty.GeneRule import GeneRule\n",
    "from NovelSwarmBehavior.novel_swarms.sensors.GenomeDependentSensor import GenomeBinarySensor\n",
    "from NovelSwarmBehavior.novel_swarms.sensors.SensorSet import SensorSet\n",
    "from generation.evolution import ModifiedHaltingEvolution, ModifiedNoveltyArchieve\n",
    "from generation.halted_evolution import HaltedEvolution\n",
    "from data.swarmset import SwarmDataset, DataBuilder\n",
    "import numpy as np\n",
    "from scipy import ndimage\n",
    "import cv2\n",
    "import pygame\n",
    "\n",
    "def resizeInput(X, w=200):\n",
    "    frame = X.astype(np.uint8)\n",
    "    resized = cv2.resize(frame, dsize=(w, w), interpolation=cv2.INTER_AREA)\n",
    "    return resized\n",
    "\n",
    "def update_network(network, loss_fn, optim, anchor_image, pos_image, neg_image):\n",
    "    optim.zero_grad()\n",
    "    anchor_out, pos_out, neg_out = network.network_with_transforms(anchor_image, pos_image, neg_image)\n",
    "    loss = loss_fn(anchor_out, pos_out, neg_out)\n",
    "    loss.backward()\n",
    "    optim.step()\n",
    "    return loss\n",
    "\n",
    "def evolution_controller():\n",
    "    sensors = SensorSet([\n",
    "        GenomeBinarySensor(genome_id=8, draw=False),\n",
    "        GenomeBinarySensor(genome_id=9, draw=False)\n",
    "    ])\n",
    "\n",
    "    agent_config = DiffDriveAgentConfig(\n",
    "        sensors=sensors,\n",
    "        seed=None,\n",
    "    )\n",
    "\n",
    "    genotype = [\n",
    "        GeneRule(_max=1.0, _min=-1.0, mutation_step=0.4, round_digits=4),\n",
    "        GeneRule(_max=1.0, _min=-1.0, mutation_step=0.4, round_digits=4),\n",
    "        GeneRule(_max=1.0, _min=-1.0, mutation_step=0.4, round_digits=4),\n",
    "        GeneRule(_max=1.0, _min=-1.0, mutation_step=0.4, round_digits=4),\n",
    "        GeneRule(_max=1.0, _min=-1.0, mutation_step=0.4, round_digits=4),\n",
    "        GeneRule(_max=1.0, _min=-1.0, mutation_step=0.4, round_digits=4),\n",
    "        GeneRule(_max=1.0, _min=-1.0, mutation_step=0.4, round_digits=4),\n",
    "        GeneRule(_max=1.0, _min=-1.0, mutation_step=0.4, round_digits=4),\n",
    "        GeneRule(_max=((1/3) * np.pi), _min=-((2/3) * np.pi), mutation_step=(np.pi/2), round_digits=4),\n",
    "        GeneRule(_max=((2/3) * np.pi), _min=-((1/3) * np.pi), mutation_step=(np.pi/2), round_digits=4),\n",
    "    ]\n",
    "\n",
    "    phenotype = [\n",
    "        AverageSpeedBehavior(),\n",
    "        AngularMomentumBehavior(),\n",
    "        RadialVarianceBehavior(),\n",
    "        ScatterBehavior(),\n",
    "        GroupRotationBehavior(),\n",
    "        # GeneElementDifference(8, 9)\n",
    "    ]\n",
    "\n",
    "    world_config = RectangularWorldConfig(\n",
    "        size=(500, 500),\n",
    "        n_agents=24,\n",
    "        seed=None,\n",
    "        behavior=phenotype,\n",
    "        agentConfig=agent_config,\n",
    "        padding=15\n",
    "    )\n",
    "\n",
    "    novelty_config = GeneticEvolutionConfig(\n",
    "        gene_rules=genotype,\n",
    "        phenotype_config=phenotype,\n",
    "        n_generations=15,\n",
    "        n_population=100,\n",
    "        crossover_rate=0.7,\n",
    "        mutation_rate=0.15,\n",
    "        world_config=world_config,\n",
    "        k_nn=15,\n",
    "        simulation_lifespan=1200,\n",
    "        display_novelty=True,\n",
    "        save_archive=True,\n",
    "        show_gui=True,\n",
    "    )\n",
    "\n",
    "    pygame.init()\n",
    "    pygame.display.set_caption(\"Evolutionary Novelty Search\")\n",
    "    screen = pygame.display.set_mode((world_config.w, world_config.h))\n",
    "\n",
    "    output_config = OutputTensorConfig(\n",
    "        timeless=True,\n",
    "        total_frames=80,\n",
    "        steps_between_frames=2,\n",
    "        screen=screen,\n",
    "    )\n",
    "\n",
    "    halted_evolution = ModifiedHaltingEvolution(\n",
    "        world=world_config,\n",
    "        evolution_config=novelty_config,\n",
    "        output_config=output_config\n",
    "    )\n",
    "\n",
    "    return halted_evolution, screen"
   ]
  },
  {
   "cell_type": "code",
   "execution_count": 2,
   "outputs": [
    {
     "name": "stdout",
     "output_type": "stream",
     "text": [
      "HIL Init!\n",
      "<class 'generation.evolution.ModifiedNoveltyArchieve'>\n",
      "[  9.60133885  32.18407587  33.68885106  16.9773245    9.88080558\n",
      "  17.33515328   9.10856378  20.09373025  58.21094199  30.2111022\n",
      "   9.47994283  24.74974538  24.67943626  62.28253577  39.89208062\n",
      "  13.7282693   14.65432748  43.4627505   17.57894867  21.59743934\n",
      "   9.50010025 239.42993772  26.83149844  22.39666334   8.10216335\n",
      "   9.77933498  12.10056778  17.7569189   17.66899751  25.93146338\n",
      "  13.89053995 388.46990319   9.0795249   25.61177701  78.61720231\n",
      "   8.42445605  19.86961483  11.40036805  14.71309995  66.89462217\n",
      "  59.99012218  13.35907857  10.06240119  17.92144138  15.69732362\n",
      "   8.81225831   7.92070948   7.8087841   12.93426288  79.72729767\n",
      "  59.0522809    9.28728347   8.79631791   8.57938218  20.14100463\n",
      "  25.3599718   83.30117825  19.25922337  13.13063097  57.63741997\n",
      "  11.25071983   9.52394332  17.81526653  12.2470505   35.51366114\n",
      "  19.82072708  14.82597162  14.95479075  10.2870984   47.7979501\n",
      "  20.9343326   45.53174932  15.4213206   79.98384913  11.64436708\n",
      "  23.13451265   9.38686488   9.40983039  18.80839633  24.15024773\n",
      "  14.60864641   9.38520818  36.19097301   7.70038659  15.91035856\n",
      "  14.48942328  13.7199859   90.29687535  17.76787832  41.32840623\n",
      "   8.52888458  10.12560471   8.54600615   7.79718692  54.24872614\n",
      "  19.67052385  36.56534033  19.66710476  11.25330386  35.24278061]\n",
      "Evolution complete for gen0\n"
     ]
    },
    {
     "name": "stderr",
     "output_type": "stream",
     "text": [
      "/home/connor/Desktop/research/SwarmNoveltyNetwork/.env/lib/python3.10/site-packages/sklearn/manifold/_t_sne.py:996: FutureWarning: The PCA initialization in TSNE will change to have the standard deviation of PC1 equal to 1e-4 in 1.2. This will ensure better convergence.\n",
      "  warnings.warn(\n"
     ]
    },
    {
     "name": "stdout",
     "output_type": "stream",
     "text": [
      "<class 'generation.evolution.ModifiedNoveltyArchieve'>\n",
      "[45.01852504 19.29783317 21.66134031  8.21596131 33.20866486 13.84036553\n",
      " 23.58761407 20.50633398 46.0499869  49.40395303 29.19377217 23.51279452\n",
      " 94.88506076  6.69689695 10.63369188 37.25746452 33.24562131 20.78354378\n",
      " 29.05930381 23.93635209 25.73037239 10.7007447  47.43182351 13.84267094\n",
      "  6.85714513 50.20289689 46.7717837   9.87819151 37.03485837 43.89566365\n",
      " 32.53696642 22.05611323  9.48718487  9.04336497  7.15761876 11.52568597\n",
      " 22.00351083 20.98445485 27.9899987  25.18742538 22.25849158  9.42626843\n",
      " 61.14940663 13.90283164 24.68521581  9.49883186 17.42647256  8.45222783\n",
      " 32.84204452 39.86905299 34.20147278  7.10169591 16.3669844  17.01479743\n",
      " 40.10400565 60.97340376  8.20307043 16.5566801  29.66821583 19.86906377\n",
      " 15.72918989 23.52922777 33.12339888 19.28251422 40.29380107 53.31444622\n",
      " 14.46334376 21.21974606  8.73473063 23.16445035  7.02876134 14.38007598\n",
      " 22.75392265 20.6703435  13.98595615  8.21322474 44.3395195  44.81785686\n",
      " 12.14327488 30.27894788  8.30329267  6.87486113 58.32484352  9.16071081\n",
      " 13.55533523 31.72284326  8.25817823 11.4751869   6.98811995 38.43039766\n",
      " 55.63760626 29.43524942 12.04318067 35.99639164 58.51496903 14.74837167\n",
      " 40.85710698 18.0167706  10.66234492  8.39890288]\n",
      "Evolution complete for gen1\n"
     ]
    },
    {
     "name": "stderr",
     "output_type": "stream",
     "text": [
      "/home/connor/Desktop/research/SwarmNoveltyNetwork/.env/lib/python3.10/site-packages/sklearn/manifold/_t_sne.py:996: FutureWarning: The PCA initialization in TSNE will change to have the standard deviation of PC1 equal to 1e-4 in 1.2. This will ensure better convergence.\n",
      "  warnings.warn(\n"
     ]
    },
    {
     "name": "stdout",
     "output_type": "stream",
     "text": [
      "<class 'generation.evolution.ModifiedNoveltyArchieve'>\n",
      "[ 19.19418399   6.5626449    6.03832867  34.51000025  37.11932683\n",
      "  11.14302261  19.00580821  23.13005638  30.22571261   5.55240342\n",
      "  25.2091774   61.06657885  12.76770369  25.3086104   20.39386634\n",
      "  12.76632057  42.45873795  30.73247964  31.77320083  28.73177268\n",
      "  19.61021351   7.25717859  33.84518219  22.67815259  33.95931646\n",
      "  25.35884202  30.7331878   30.96978212  44.99467775  31.55378278\n",
      "  67.17044434   6.28108928  12.34973304  28.47489253  59.10243248\n",
      "   8.04640197  20.86559938  23.7135334   36.15356117  25.68718237\n",
      " 109.40194537  26.74714718  17.73938829  81.68965567  11.92270675\n",
      "  15.2160873   47.89222133  30.37237626  31.96537141  21.62665343\n",
      "   8.30182098  41.85033385  18.59421762  10.78204985  11.32735328\n",
      "  47.24786929  16.89377244  26.0882648   63.45418981  10.54907221\n",
      "  35.08350238  26.3925791   12.13749147  23.98205269  13.14053447\n",
      "   7.21837844  55.64967966  25.9925084    9.43783492  35.02037778\n",
      "  12.58824307  27.98055777  22.0108675   58.74844123  28.2103118\n",
      "  58.19786064   9.6821603   31.56333962  14.94849411  11.82082636\n",
      "  19.71288359  11.38341838  19.15929519  10.27266885  49.17855116\n",
      "  13.57217422  54.61446015  29.03697766  33.47471679   6.32171474\n",
      "  12.21684866  27.07246938  22.8573967   30.01571756   5.94263344\n",
      "  25.60151299   9.63277061  21.91657736  32.14565446  15.99545712]\n",
      "Evolution complete for gen2\n"
     ]
    },
    {
     "name": "stderr",
     "output_type": "stream",
     "text": [
      "/home/connor/Desktop/research/SwarmNoveltyNetwork/.env/lib/python3.10/site-packages/sklearn/manifold/_t_sne.py:996: FutureWarning: The PCA initialization in TSNE will change to have the standard deviation of PC1 equal to 1e-4 in 1.2. This will ensure better convergence.\n",
      "  warnings.warn(\n"
     ]
    },
    {
     "name": "stdout",
     "output_type": "stream",
     "text": [
      "<class 'generation.evolution.ModifiedNoveltyArchieve'>\n",
      "[11.20645346 10.45109772 24.89843927 18.30135025  6.66907258 12.34634147\n",
      " 13.14247266 17.8483023  21.69261486 29.15631081 18.36200243 16.3606316\n",
      " 18.28021616 12.29345178 29.53557737 46.56805972 10.74094028 12.3097834\n",
      " 18.31357153 24.72306026 31.37524514 29.35891093 42.90400002 17.78345468\n",
      "  8.54371494  9.67937444 20.46452324 33.82634543 22.28403415 25.14617087\n",
      " 30.41748352 21.96171963 39.05658216 26.91296256 15.43886238 19.50369799\n",
      "  6.84098734  8.83903619 47.01853391 20.36479615 22.60090131 15.74147385\n",
      " 40.36456835 43.63875459 15.17087478 21.60706537 63.82993027 31.29919737\n",
      " 12.71027601 31.95775456 13.27834545  6.47365601 26.4592089  32.60523423\n",
      " 20.65853927 18.6158901  80.78322616 15.55673633 26.76218694 22.63106726\n",
      " 22.12776468 49.15315244 54.98609029 27.93883368 14.35448285 11.87440663\n",
      " 61.50494708 30.50958101 21.80652099 18.08279817 15.14966567  7.84233539\n",
      "  5.7359175  30.10285857 10.89757102 26.64251587 17.00336245  7.21997335\n",
      "  8.97429708 25.6865335  15.02884329 26.1813875  16.70941512 31.00944522\n",
      "  8.29118742 19.83915923 24.87920427 10.62536206  8.57106615 37.90177944\n",
      " 24.24000903 42.76518966 13.5720128  11.17633683 23.97291563 30.39731567\n",
      " 23.90578947 90.49057546 45.83282267 10.61542315]\n",
      "Evolution complete for gen3\n"
     ]
    },
    {
     "name": "stderr",
     "output_type": "stream",
     "text": [
      "/home/connor/Desktop/research/SwarmNoveltyNetwork/.env/lib/python3.10/site-packages/sklearn/manifold/_t_sne.py:996: FutureWarning: The PCA initialization in TSNE will change to have the standard deviation of PC1 equal to 1e-4 in 1.2. This will ensure better convergence.\n",
      "  warnings.warn(\n"
     ]
    },
    {
     "name": "stdout",
     "output_type": "stream",
     "text": [
      "<class 'generation.evolution.ModifiedNoveltyArchieve'>\n",
      "[  8.11439259  20.46194636  24.5258694   11.21254618  14.37004719\n",
      "  34.56167836  11.09226256   7.10925927  23.19170934  41.16646612\n",
      "  17.48436187  16.87217021  34.44620684  19.38483064  18.42200652\n",
      "   8.19624188  21.64797823  12.81346383 227.60967902  12.2683561\n",
      "  15.47428875   9.74566918  39.00182182  28.19334686  23.80460019\n",
      "   9.33144385  31.90159502  20.63256898  23.92213015  17.15398918\n",
      "  20.76739578  20.80775319   4.70480932  98.43135766  18.48752695\n",
      "  17.58385161  12.12316402  21.76964809  19.93510713  24.27386962\n",
      "   9.76628789  14.58310981  43.44953571  18.45252612  14.77898709\n",
      "  37.73946644  14.34096418  18.09246083  23.37400843  19.25051077\n",
      "  31.85352031  25.20762799  14.05254224  23.30145561  27.99424951\n",
      "  45.26111451   4.85314652  47.04151779  24.11859642  16.32146872\n",
      "  18.27908482  31.3722601   26.15830214  13.3271449   20.48386698\n",
      "  20.33676152  15.47534901  38.08217405  32.17946524  16.76541832\n",
      "  16.36501012   7.99029542  27.95095676  22.3828979   32.61298188\n",
      "  18.39070803  17.46418827  23.77810081  13.79061885  44.41284192\n",
      " 165.76899917  37.40139561  20.68143903  25.53257134   9.42690137\n",
      "  21.79822117  10.53161687  16.26213545   7.7572844   11.16943886\n",
      "  18.23709622  17.10530855  31.80557598  35.15882565  22.26196764\n",
      "  11.11966691  24.41437557  22.12329263   7.02382606   6.24597886]\n",
      "Evolution complete for gen4\n"
     ]
    },
    {
     "name": "stderr",
     "output_type": "stream",
     "text": [
      "/home/connor/Desktop/research/SwarmNoveltyNetwork/.env/lib/python3.10/site-packages/sklearn/manifold/_t_sne.py:996: FutureWarning: The PCA initialization in TSNE will change to have the standard deviation of PC1 equal to 1e-4 in 1.2. This will ensure better convergence.\n",
      "  warnings.warn(\n"
     ]
    },
    {
     "name": "stdout",
     "output_type": "stream",
     "text": [
      "<class 'generation.evolution.ModifiedNoveltyArchieve'>\n",
      "[ 34.33792161  20.52137626  25.02016495  19.70060896   8.02135157\n",
      "  14.99139768  26.86598148  33.54088399  13.69404801   9.55499298\n",
      "   4.95392832  21.97935073  22.68085049  31.11944829  46.27746857\n",
      "  39.33889047  27.97977485  35.54506614  16.97301314 118.98802082\n",
      "  18.97729234  16.27528754  19.27469773  31.16290409  30.33874478\n",
      "  17.21495883  15.31018338  14.15012862  13.72451358  21.65587803\n",
      "  15.33113647  17.73485341  15.45484349  34.01893114  43.6746481\n",
      "  14.27714102  23.7580542   35.581952    14.29366903  35.70277365\n",
      "  16.37597282   8.27105587  15.2637289   28.32903377  17.47427818\n",
      "  39.20943081  29.76575973  10.13619433  13.65822253  15.35997784\n",
      "  15.61540666  15.65371562  41.80376721  28.67243335  22.67257346\n",
      "  21.18050997   7.38632909   8.5744781   14.49482378  25.90929901\n",
      "  19.37442829  15.51456172  23.4714922    5.57300602  36.79653201\n",
      "  22.92622616  18.0833184   14.82351802  26.9084617   19.17887738\n",
      "  21.09149627  49.46312917   8.65107245  14.83670009  19.23202978\n",
      "  27.99482134  13.19893737  16.16694436  23.74654526  38.45933916\n",
      "  35.38779248  63.02057378  38.93072764  58.61980469  22.90305738\n",
      "  27.00061318  17.79213947  18.92572026 122.62047813  19.85944849\n",
      "  43.78874857  19.66746938  21.47743323  19.54283483  17.85579327\n",
      "  16.62811276  12.47210488  21.9222064   20.36015637  13.46094941]\n",
      "Evolution complete for gen5\n"
     ]
    },
    {
     "name": "stderr",
     "output_type": "stream",
     "text": [
      "/home/connor/Desktop/research/SwarmNoveltyNetwork/.env/lib/python3.10/site-packages/sklearn/manifold/_t_sne.py:996: FutureWarning: The PCA initialization in TSNE will change to have the standard deviation of PC1 equal to 1e-4 in 1.2. This will ensure better convergence.\n",
      "  warnings.warn(\n"
     ]
    },
    {
     "name": "stdout",
     "output_type": "stream",
     "text": [
      "<class 'generation.evolution.ModifiedNoveltyArchieve'>\n",
      "[ 18.30702764  20.79941637  22.4972317   11.64015871  45.36648481\n",
      "  28.76349632  30.04408555  16.74992518  12.89638013  13.12155508\n",
      "  58.41965318  20.9859462   25.04507592  18.68193611  26.19814508\n",
      "  23.65222505  15.79421952  16.77508405  16.88492157  28.87615018\n",
      "  22.17695226  21.5747259   19.51915401  19.00987944   9.29295956\n",
      "  11.79099125  59.91963119  20.9764923   18.21377942  21.34750114\n",
      "  15.74997214 107.23102591  26.94243887  10.22828853  20.03823353\n",
      "  24.88380668  23.02482517  23.06922934  15.04781491  14.64081989\n",
      "  18.23231903  18.70012853 112.43955626   5.86644286  37.57648325\n",
      "  20.84488689  90.28927515  19.11244362   9.5957644   10.13706604\n",
      "  20.41421496  25.19598006  65.06963919  24.43762068  11.95777413\n",
      "  18.61662925  17.38827098  14.48903128   8.08193498  14.01766073\n",
      "  24.58413638  31.19723013  29.19669893  20.70534804  30.97532607\n",
      "  30.18867938   9.67419888  25.62020437  22.29771989  33.4776662\n",
      "  21.92324968  16.75688319  22.6350585   20.25961132  25.34805892\n",
      "  13.68444631  39.61527075  20.85512463  19.48728609   5.92232265\n",
      "  19.2997488   22.99096291  48.11011506  20.95747179  24.38501259\n",
      "  24.61661083  18.14430679  12.14707407   6.13793289  11.85453787\n",
      "  17.49180829  16.46758662  18.9356637   15.76233619  27.54428214\n",
      "   8.64246815  16.20307808  28.89920993  19.54811868  21.23843478]\n",
      "Evolution complete for gen6\n"
     ]
    },
    {
     "name": "stderr",
     "output_type": "stream",
     "text": [
      "/home/connor/Desktop/research/SwarmNoveltyNetwork/.env/lib/python3.10/site-packages/sklearn/manifold/_t_sne.py:996: FutureWarning: The PCA initialization in TSNE will change to have the standard deviation of PC1 equal to 1e-4 in 1.2. This will ensure better convergence.\n",
      "  warnings.warn(\n"
     ]
    },
    {
     "name": "stdout",
     "output_type": "stream",
     "text": [
      "<class 'generation.evolution.ModifiedNoveltyArchieve'>\n",
      "[ 16.27621824  17.62924371  28.08857935  28.64042609   8.42465377\n",
      "   7.28238007  21.82684041  24.31454663  26.12972959  13.57497207\n",
      "  22.14621047  24.44691555  76.76308055  17.33673159  22.59945325\n",
      "  59.67884067  17.73153305  22.8703067   15.55737947  38.5065724\n",
      "  10.16125599  16.69125349  23.88384125  13.90093475  46.5467111\n",
      "  20.83744251  21.44990068  17.32857419  21.54119042  51.21617112\n",
      "  15.55607706   5.13514303  18.27014447  23.19836431  28.69644867\n",
      "  14.0394479   30.5192793  105.28185642  17.4697913   67.95937792\n",
      "  13.96416508  17.9615181   20.69763125  16.9629156   51.21281872\n",
      "  19.30464927  25.01777423  23.53640814  46.92562804  26.21560181\n",
      "  15.69551463  17.96953382  20.02117938  22.48674322  16.5296152\n",
      "  20.15468274  14.08389964  72.34419557  11.10940867   8.76264083\n",
      "  19.74850308  47.56207256  37.41712386  36.60970506  16.92143348\n",
      "  16.19522195  15.6980189   17.65952963  42.24989063  25.69666907\n",
      "  52.42512637  26.85647157  15.33175369  25.24616196  58.0995925\n",
      "  25.34820486  23.18275562  20.7532838    5.56202245  22.26414962\n",
      "  15.58454697   5.3162258   21.19813769  32.74219162  25.61062017\n",
      "  26.79815721  18.90041548  15.78549688  17.79655637  40.24024176\n",
      "  16.07387969  19.25943489  20.46661257  21.91210639  14.73736297\n",
      "  15.7488322   16.89634504  13.91503483  17.01651157  48.07182574]\n",
      "Evolution complete for gen7\n"
     ]
    },
    {
     "name": "stderr",
     "output_type": "stream",
     "text": [
      "/home/connor/Desktop/research/SwarmNoveltyNetwork/.env/lib/python3.10/site-packages/sklearn/manifold/_t_sne.py:996: FutureWarning: The PCA initialization in TSNE will change to have the standard deviation of PC1 equal to 1e-4 in 1.2. This will ensure better convergence.\n",
      "  warnings.warn(\n"
     ]
    },
    {
     "name": "stdout",
     "output_type": "stream",
     "text": [
      "<class 'generation.evolution.ModifiedNoveltyArchieve'>\n",
      "[ 11.85169159  30.45593732  65.06915996  39.56102262  18.73003517\n",
      "  16.08500406 118.31985557  32.68118561  18.80369308  32.63454296\n",
      "  17.10148999  24.82172319  19.47483971  16.4314097   34.95853131\n",
      "  35.63339562  23.94871598  32.47148696  41.36527368  22.29702293\n",
      "  17.58883844  30.19014609   8.73927013  16.90803274   7.94570079\n",
      "  19.09605241  20.12266361   8.80905077  11.75178587  32.23963416\n",
      "  18.74884897  18.80641277  12.32119288  27.72444497  37.70254374\n",
      "  18.8338316   15.68744407  34.95647027  11.44272257  27.48831728\n",
      "  16.54256691  13.88778123  16.49683871  16.70325284  26.92262128\n",
      "  10.05135417  11.33520493  21.54301631  16.83635113  19.42332793\n",
      "  18.51393744  31.75487977  27.89224525  24.73189379  33.25675596\n",
      "  17.25356945  27.54849192  17.61312171  27.64266475  39.1568541\n",
      "  36.06800734  20.77538183  20.43210985 134.6290899   16.0134718\n",
      "  22.52922072  18.94895647  28.44263563  15.14331666  16.81848173\n",
      "  63.45005969  18.11807179   3.44849814  34.59908375   5.91166212\n",
      "  17.94528448  16.91675366  12.30940262  16.08647774  21.08204017\n",
      "  21.23451608  15.89415405   9.42901165  18.26433595  15.83013917\n",
      "  20.01006914  24.89500615  16.17880015 102.25514336  13.98243619\n",
      "  37.31249038  17.54628764  17.11105557  32.07562891  16.41741637\n",
      "  22.39696153  19.03972246   3.33055877  27.559548     3.0651772 ]\n",
      "Evolution complete for gen8\n"
     ]
    },
    {
     "name": "stderr",
     "output_type": "stream",
     "text": [
      "/home/connor/Desktop/research/SwarmNoveltyNetwork/.env/lib/python3.10/site-packages/sklearn/manifold/_t_sne.py:996: FutureWarning: The PCA initialization in TSNE will change to have the standard deviation of PC1 equal to 1e-4 in 1.2. This will ensure better convergence.\n",
      "  warnings.warn(\n"
     ]
    },
    {
     "name": "stdout",
     "output_type": "stream",
     "text": [
      "<class 'generation.evolution.ModifiedNoveltyArchieve'>\n",
      "[ 14.67635179  24.74813915  17.92097571  27.23957792  36.17144593\n",
      "  25.88084686  25.80194447  26.59935337  51.75565912  10.01131017\n",
      "  18.26591941  38.68653347  36.434402    14.18681679  13.54557917\n",
      "  19.18818278  24.63389389  61.62232828  23.12491966  14.54867887\n",
      "  14.29686737  14.59008266  14.38740731  29.37075485 104.41790262\n",
      "  17.55159993  86.16633322  20.14783102  14.33175204  17.20693383\n",
      "   8.07836186 108.094094    17.32280741  16.6022961   17.56763444\n",
      "  36.65702418  19.28582355  28.14036444   5.37071495   9.52630495\n",
      "   9.37202123  14.76752158  33.44256097   7.46162965  32.65621893\n",
      "   7.10076046  26.481106    69.13783908   9.99199487  12.03067522\n",
      "   8.42892707  28.07720364  64.40782832  27.04170576  15.98741291\n",
      "  17.52302012  13.33858584   3.96934482  53.47926305  17.99477317\n",
      "  35.13659127   7.30829638  32.79805724  27.77230164  16.66656156\n",
      "  26.67029573  39.81732136  15.36815779  13.06787252  21.30607403\n",
      "   3.04859213  47.33085134  15.00373878  21.66354127  14.41349019\n",
      "  46.83631799  32.62612173  31.50326729  27.23721701  30.45580152\n",
      "  22.69161405  56.41646608  14.77361531   4.66243579  30.27790646\n",
      "  13.47105105  16.06412274  12.70373967  16.22032561  30.89326663\n",
      "  17.45930923  37.79142137  38.68472702  25.49347134  23.21929375\n",
      "  17.43561312  17.67159863  17.54587966   5.23554122  16.87268189]\n",
      "Evolution complete for gen9\n"
     ]
    },
    {
     "name": "stderr",
     "output_type": "stream",
     "text": [
      "/home/connor/Desktop/research/SwarmNoveltyNetwork/.env/lib/python3.10/site-packages/sklearn/manifold/_t_sne.py:996: FutureWarning: The PCA initialization in TSNE will change to have the standard deviation of PC1 equal to 1e-4 in 1.2. This will ensure better convergence.\n",
      "  warnings.warn(\n"
     ]
    },
    {
     "name": "stdout",
     "output_type": "stream",
     "text": [
      "<class 'generation.evolution.ModifiedNoveltyArchieve'>\n",
      "[48.59475077 16.68081588 21.93733502 14.67901483 17.88578207  3.87870965\n",
      " 19.87819727 16.01689721 18.18302697 13.75479303 20.36248575 26.35001667\n",
      " 17.92325568 18.33907605 34.09103931 23.15785084 15.52033652 14.13744705\n",
      " 17.12211795 26.79435365  3.46620635  2.52567155 16.94050781  2.5857025\n",
      " 32.7363421  13.60036739 31.21867789 11.12083456 27.39581338 13.61885746\n",
      " 24.38687706 50.47357548 36.22826895 24.26990273 16.12176363  7.9620628\n",
      " 56.56171612 23.87606647 20.76992109 27.98466363 50.40019784 81.05277589\n",
      " 13.17568674  8.90134024 48.37840098 23.10817768 18.33370003  6.03274383\n",
      "  2.15606017 26.13117032 52.96518643 47.16078997 19.91221131 52.2380867\n",
      " 27.78796755 19.07818363 25.30231597 54.43450812 22.00744127 21.14987196\n",
      " 19.43657531 56.62061536 19.00690008 15.48147746 14.64162735 22.33362038\n",
      " 14.47629434 19.47634588 14.09571426 32.83495835 35.45021427 52.54312817\n",
      " 16.64249872 27.72586285 22.29260981 15.96448348 27.31470533 23.17353343\n",
      " 12.8860962   2.19413635 13.36303722 23.51060937 22.19913947 15.86685839\n",
      " 12.75308243 15.86611282 14.72488292 32.90292813 18.4310471  28.44334602\n",
      " 21.93731561 24.14160497 34.50235026 19.62131791 34.01294155 27.00341677\n",
      " 25.00809811 17.48998857 18.94407049  9.92018171]\n",
      "Evolution complete for gen10\n"
     ]
    },
    {
     "name": "stderr",
     "output_type": "stream",
     "text": [
      "/home/connor/Desktop/research/SwarmNoveltyNetwork/.env/lib/python3.10/site-packages/sklearn/manifold/_t_sne.py:996: FutureWarning: The PCA initialization in TSNE will change to have the standard deviation of PC1 equal to 1e-4 in 1.2. This will ensure better convergence.\n",
      "  warnings.warn(\n"
     ]
    },
    {
     "name": "stdout",
     "output_type": "stream",
     "text": [
      "<class 'generation.evolution.ModifiedNoveltyArchieve'>\n",
      "[19.34698449 18.34013822 18.00992413 21.98033044 18.31029412 49.32715464\n",
      " 14.92330709 15.05651297 16.47282402 24.97637232 14.3541968  61.79252613\n",
      " 31.51025167 21.25406287 46.02687196 17.57032015 30.17605211 21.29546936\n",
      " 20.39726417 18.37742575 23.28148304 26.15670665 36.31440579 45.24169819\n",
      " 15.16678172  5.8877161  13.48038676 12.50617918 31.69806304 26.18507109\n",
      " 16.85186525 37.61871762 19.49344891 14.60075547 24.74101664 33.27656695\n",
      " 37.13457398 17.67775209 24.46384384 35.46972244 13.19285781 13.44736759\n",
      " 36.50259257 12.36312657 51.50566422  2.08414743 28.17302455 13.27336711\n",
      " 13.37346097 37.16983171  1.75127295 19.3431753  22.68672455 11.34287029\n",
      " 28.75569362 24.33085944 19.11404496 30.77711088 22.84424609 34.83349122\n",
      "  9.19531567 18.34434243 28.04777648 52.94078742 31.2532156  27.48745568\n",
      "  7.77607083 12.05212936 30.49811697  5.35179825 32.88835891 39.13307796\n",
      " 30.40751959 36.90732566 27.59770125 14.71155843 16.78785271 26.84648244\n",
      " 36.67587666 12.99034219 17.62395116 15.85582211 61.53782915 21.08254469\n",
      " 13.68487028 23.91974673 16.94711149 16.12172851 26.10751885 23.00126354\n",
      " 17.10570068  3.22167322  2.26841172 22.20506488 25.90416088 12.29084481\n",
      " 34.35715478 51.70545954 24.93654453 35.26156498]\n",
      "Evolution complete for gen11\n"
     ]
    },
    {
     "name": "stderr",
     "output_type": "stream",
     "text": [
      "/home/connor/Desktop/research/SwarmNoveltyNetwork/.env/lib/python3.10/site-packages/sklearn/manifold/_t_sne.py:996: FutureWarning: The PCA initialization in TSNE will change to have the standard deviation of PC1 equal to 1e-4 in 1.2. This will ensure better convergence.\n",
      "  warnings.warn(\n"
     ]
    },
    {
     "name": "stdout",
     "output_type": "stream",
     "text": [
      "<class 'generation.evolution.ModifiedNoveltyArchieve'>\n",
      "[33.28866532 34.6610251   9.66325992 27.90599699 14.3558072  17.07785458\n",
      " 14.80715412 33.82993039 32.47271092 36.59371201 31.67045255 29.19250601\n",
      " 14.15223265 17.67150921 35.11506216 32.53022291 19.55623707 25.658217\n",
      " 18.39984335 20.23213002 14.80225365 18.85407379 21.30681741  1.66044481\n",
      " 12.18135192 15.32572599  9.53396514 12.54695227 25.29424908 12.95269357\n",
      " 27.57150452 23.33927407 26.10936934 38.2176139  26.95013509 24.56323305\n",
      " 26.84938669 20.68824374 20.78721263 15.76280691 41.40596434 19.65215285\n",
      " 21.09592432 11.21222203 13.80288899  1.51598602 27.6742727  28.91642291\n",
      " 23.91816295 25.62151938 27.57446287 43.82024653 15.45654676 25.98113096\n",
      " 36.66340054 45.15289962 22.36716666 24.02114504 12.06380399 12.99115369\n",
      " 17.72394688 14.32575456 21.17971138  1.56622394 31.31555842 57.87366457\n",
      " 29.513328   19.44623284 46.77975317 22.01546867 38.30290319 35.18999828\n",
      " 28.54038414 27.45842646 10.64184672 29.38902686 16.88601455  3.15856754\n",
      " 30.45030051 23.18433602 10.34668045  6.77289106 30.31867533 20.55272145\n",
      " 20.66554925 26.68303798 17.03706488 27.7902418  15.92147298 41.49158544\n",
      " 36.87532642 20.52815283 14.81052006 15.22797555 13.15347993 27.00320444\n",
      " 13.63832541 14.99170155 20.99263019 17.03293333]\n",
      "Evolution complete for gen12\n"
     ]
    },
    {
     "name": "stderr",
     "output_type": "stream",
     "text": [
      "/home/connor/Desktop/research/SwarmNoveltyNetwork/.env/lib/python3.10/site-packages/sklearn/manifold/_t_sne.py:996: FutureWarning: The PCA initialization in TSNE will change to have the standard deviation of PC1 equal to 1e-4 in 1.2. This will ensure better convergence.\n",
      "  warnings.warn(\n"
     ]
    },
    {
     "name": "stdout",
     "output_type": "stream",
     "text": [
      "<class 'generation.evolution.ModifiedNoveltyArchieve'>\n",
      "[39.15598177 12.87673517 33.38557357 30.44044746 16.18250216 16.12351059\n",
      " 26.72362373 14.37069835 23.78980356 29.72154265 19.76631843 29.17254819\n",
      "  8.55655113 18.25476958 14.34800608 17.85803228 14.49022152 13.13895397\n",
      " 15.18164197 23.94886605 30.32124259 28.83452052 20.31529156 26.47391323\n",
      " 18.70097212 25.80272572 17.34074785 26.69261026 27.92890542 22.18489372\n",
      "  1.4862992  21.94098478 23.05789209 24.2761888  23.36804186 21.24975853\n",
      " 12.66467203  6.22663744 23.21997882 19.62466131 27.5302957  28.19379692\n",
      " 29.10904631 29.06803418 17.80010868 21.51440269  8.26254033 24.76663902\n",
      "  9.38427952 19.70783759 22.20883296 23.82476731 26.21490742 27.9702161\n",
      " 21.71244344 26.44470043  3.56631193 19.96287478 24.20243728 18.22806694\n",
      " 16.67051777  4.76639096 15.45628163 27.14130181 23.54260132 15.35722308\n",
      " 29.32765322 26.0518631  27.98010687 60.10241516 17.33405551 17.4231482\n",
      " 13.20424759 29.30000947 17.58954107 39.35514683 23.78055463 16.88503724\n",
      " 13.09445513 75.05627436 20.9107653  14.57509273 47.16807523 13.64897601\n",
      " 26.76651695 25.15838638 16.28139668 14.97639336 16.09816007 26.09465266\n",
      " 28.09531191 13.06010265 35.10435131 14.58516816 17.60571009 24.360774\n",
      " 23.40544863 23.08904461 20.26782024 18.73927142]\n",
      "Evolution complete for gen13\n"
     ]
    },
    {
     "name": "stderr",
     "output_type": "stream",
     "text": [
      "/home/connor/Desktop/research/SwarmNoveltyNetwork/.env/lib/python3.10/site-packages/sklearn/manifold/_t_sne.py:996: FutureWarning: The PCA initialization in TSNE will change to have the standard deviation of PC1 equal to 1e-4 in 1.2. This will ensure better convergence.\n",
      "  warnings.warn(\n"
     ]
    },
    {
     "name": "stdout",
     "output_type": "stream",
     "text": [
      "<class 'generation.evolution.ModifiedNoveltyArchieve'>\n",
      "[39.02956786 13.54169568 22.63310654 29.58380105 17.75677845 18.53204357\n",
      " 26.02015601 18.59580653 16.2752085  25.59457377 20.65535313 21.25413787\n",
      " 21.22176603 25.63161827 22.14943222 20.65050906 56.3874379  21.32635068\n",
      " 19.0950526  16.04375646 23.95638135 13.42329847 23.2049644  12.86180589\n",
      " 29.31052044 18.17221079 31.71600402 19.94061001 12.32617772 21.31521118\n",
      " 25.10187515 16.62562651 25.39198603 14.76852359  7.42607089  2.99339397\n",
      " 48.55930588 32.57702803  1.76835446 33.81410472 22.13226587 19.75211252\n",
      " 21.56552019 17.07516797 12.43730807 24.58131989 29.50634209 33.35382381\n",
      " 20.74746731 21.08551514 13.67177247 21.71664564 19.83327644 21.8442861\n",
      " 27.84047999 23.33400946 26.15326959 23.25601646 26.34485831 13.84005035\n",
      "  7.74255946 17.31696986 29.47089846 21.31780581 16.23072323 13.75004726\n",
      " 26.83041499 23.53734689 19.29962426 16.78738114 17.39953566 21.30921676\n",
      " 21.33634412 23.12672197 27.61482642 21.8042677  11.14195662 21.34631459\n",
      " 18.81474523 16.61042196 11.96898123 23.81249384 26.20466202 24.40552426\n",
      " 12.6418895  21.55711186 22.9350946  23.06765588 19.33549213 20.84124037\n",
      " 40.11667712 17.179273   22.2467835  20.57468303 28.07707633 18.14153547\n",
      " 23.39399872 22.20686344 30.68334289 21.47289193]\n",
      "Evolution complete for gen14\n"
     ]
    },
    {
     "name": "stderr",
     "output_type": "stream",
     "text": [
      "/home/connor/Desktop/research/SwarmNoveltyNetwork/.env/lib/python3.10/site-packages/sklearn/manifold/_t_sne.py:996: FutureWarning: The PCA initialization in TSNE will change to have the standard deviation of PC1 equal to 1e-4 in 1.2. This will ensure better convergence.\n",
      "  warnings.warn(\n"
     ]
    }
   ],
   "source": [
    "import numpy as np\n",
    "import torch\n",
    "from data.swarmset import ContinuingDataset, SwarmDataset\n",
    "from networks.embedding import NoveltyEmbedding\n",
    "from generation.evolution import ModifiedHaltingEvolution\n",
    "from networks.archive import DataAggregationArchive\n",
    "from hil.HIL import HIL\n",
    "import time\n",
    "from networks.ensemble import Ensemble\n",
    "\n",
    "trial_name = f\"{str(int(time.time()))}\"\n",
    "\n",
    "TRAIN = True\n",
    "CLUSTER_AND_DISPLAY = True\n",
    "WRITE_OUT = False\n",
    "device = torch.device('cuda' if torch.cuda.is_available() else 'cpu')\n",
    "\n",
    "ensemble = Ensemble(size=3, output_size=5, lr=30e-4, learning_decay=0.9, decay_step=4, threshold=9.0, weight_decay=1e-6, new_model=True)\n",
    "ensemble.load_ensemble(\"dual-mini-hope\")\n",
    "# ensemble.load_ensemble(\"full-mini-HIL\")\n",
    "network = ensemble.ensemble[2]\n",
    "network.eval()\n",
    "\n",
    "SAVE_CLUSTER_IMAGES = True\n",
    "SAVE_CLUSTER_MEDOIDS = True\n",
    "PRETRAINING = True\n",
    "HUMAN_IN_LOOP = True\n",
    "SYNTHETIC_HIL = False\n",
    "EVOLUTION = True\n",
    "EPOCHS = 20\n",
    "DATA_SIZE = 10000\n",
    "EVOLUTIONS = 15\n",
    "K_CLUSTERS = 8\n",
    "\n",
    "anchor_dataset = ContinuingDataset(\"data\")\n",
    "sampled_dataset = SwarmDataset(\"data/full-mini-dual\", rank=0)\n",
    "evolution, _ = evolution_controller()\n",
    "dataset = anchor_dataset if EVOLUTION else sampled_dataset\n",
    "random_archive = DataAggregationArchive(scalar=True)\n",
    "\n",
    "hil = HIL(name=trial_name, synthetic=SYNTHETIC_HIL, data_limiter=DATA_SIZE, clusters=K_CLUSTERS)\n",
    "HIL_archive = DataAggregationArchive()\n",
    "\n",
    "for gen in range(EVOLUTIONS):\n",
    "    # Simulate current population + Save Data\n",
    "    for i in range(len(evolution.getPopulation())):\n",
    "        # The collection of the original behavior vector below is only used to collect data to compare with the baseline\n",
    "        visual_behavior, genome, baseline_behavior = evolution.next()\n",
    "        dataset.new_entry(visual_behavior, genome, baseline_behavior)\n",
    "\n",
    "    medoid_acc, cluster_acc = hil.record_medoids(network, dataset)\n",
    "\n",
    "    # Then, evolve\n",
    "    start_time = time.time()\n",
    "    embedded_archive = hil.getEmbeddedArchive(dataset, network)\n",
    "    evolution.overwriteArchive(embedded_archive, random_archive)\n",
    "    embedded_behavior = embedded_archive.archive[-evolution.evolve_config.population:]\n",
    "    evolution.overwriteBehavior(embedded_behavior)\n",
    "    evolution.saveArchive(trial_name)\n",
    "    evolution.evolve()\n",
    "    evolution.restart_screen()\n",
    "\n",
    "    print(f\"Evolution complete for gen{gen}\")\n",
    "\n",
    "    # Cluster current dataset, display clusters, and save for analysis\n",
    "    if len(dataset) > 0 and SAVE_CLUSTER_IMAGES:\n",
    "        hil.embed_and_cluster(network, dataset, auto_quit=True)\n",
    "        evolution.restart_screen()"
   ],
   "metadata": {
    "collapsed": false
   }
  },
  {
   "cell_type": "code",
   "execution_count": null,
   "outputs": [],
   "source": [
    "from ui.clustering_gui import ClusteringGUI\n",
    "from NovelSwarmBehavior.novel_swarms.novelty.NoveltyArchive import NoveltyArchive\n",
    "\n",
    "# Cluster over saved behaviors\n",
    "archive = NoveltyArchive()\n",
    "for i, (_, genome, behavior, _, _, _, _) in enumerate(anchor_dataset):\n",
    "    archive.addToArchive(vec=behavior, genome=genome)\n",
    "\n",
    "agent_config = ConfigurationDefaults.DIFF_DRIVE_AGENT\n",
    "world_config = ConfigurationDefaults.RECTANGULAR_WORLD\n",
    "world_config.addAgentConfig(agent_config)\n",
    "config = ResultsConfig(archive=archive, k_clusters=7, world_config=world_config, tsne_perplexity=20, tsne_early_exaggeration=2, skip_tsne=False)\n",
    "\n",
    "gui = ClusteringGUI(config)\n",
    "gui.displayGUI()"
   ],
   "metadata": {
    "collapsed": false
   }
  }
 ],
 "metadata": {
  "kernelspec": {
   "display_name": "Python 3",
   "language": "python",
   "name": "python3"
  },
  "language_info": {
   "codemirror_mode": {
    "name": "ipython",
    "version": 2
   },
   "file_extension": ".py",
   "mimetype": "text/x-python",
   "name": "python",
   "nbconvert_exporter": "python",
   "pygments_lexer": "ipython2",
   "version": "2.7.6"
  }
 },
 "nbformat": 4,
 "nbformat_minor": 0
}
