{
 "cells": [
  {
   "cell_type": "markdown",
   "source": [
    "# Reduce the size of an old dataset"
   ],
   "metadata": {
    "collapsed": false
   }
  },
  {
   "cell_type": "code",
   "execution_count": null,
   "metadata": {
    "collapsed": true
   },
   "outputs": [],
   "source": [
    "from data.swarmset import SwarmDataset\n",
    "import numpy as np\n",
    "import cv2\n",
    "\n",
    "def resizeInput(X, w=200):\n",
    "    frame = X.astype(np.uint8)\n",
    "    resized = cv2.resize(frame, dsize=(w, w), interpolation=cv2.INTER_AREA)\n",
    "    return resized\n",
    "\n",
    "from_data = SwarmDataset(\"data/full\")\n",
    "to_data = SwarmDataset(\"data/full-mini\")\n",
    "\n",
    "for i in range(len(from_data)):\n",
    "    image, genome, behavior = from_data[i][0], from_data[i][1], from_data[i][2]\n",
    "    image = resizeInput(image, 50)\n",
    "    to_data.new_sample(image, genome, behavior)"
   ]
  },
  {
   "cell_type": "code",
   "execution_count": null,
   "outputs": [],
   "source": [
    "from networks.embedding import NoveltyEmbedding\n",
    "\n",
    "old = NoveltyEmbedding(out_size=5)\n",
    "new = NoveltyEmbedding(out_size=5, new_model=True)\n",
    "\n",
    "old_count = sum(p.numel() for p in old.parameters() if p.requires_grad)\n",
    "new_count = sum(p.numel() for p in new.parameters() if p.requires_grad)\n",
    "print(old_count, new_count)"
   ],
   "metadata": {
    "collapsed": false
   }
  },
  {
   "cell_type": "code",
   "execution_count": null,
   "outputs": [],
   "source": [
    "from data.swarmset import SwarmDataset\n",
    "import matplotlib.pyplot as plot\n",
    "data = SwarmDataset(\"data/tinytoy\")\n",
    "\n",
    "plot.imshow(data[70][0], cmap=\"Greys\")\n",
    "print(data[70][1])"
   ],
   "metadata": {
    "collapsed": false
   }
  },
  {
   "cell_type": "code",
   "execution_count": null,
   "outputs": [],
   "source": [
    "import cv2\n",
    "import random\n",
    "import matplotlib.pyplot as plot\n",
    "from data.swarmset import SwarmDataset\n",
    "import matplotlib.pyplot as plot\n",
    "from scipy import ndimage\n",
    "import numpy as np\n",
    "\n",
    "def resizeInput(X, w=200):\n",
    "    frame = X.astype(np.uint8)\n",
    "    resized = cv2.resize(frame, dsize=(w, w), interpolation=cv2.INTER_AREA)\n",
    "    return resized\n",
    "\n",
    "def translate(img, offset=(10, 10)):\n",
    "    h, w = img.shape\n",
    "    xoff, yoff = offset\n",
    "    if xoff < 0: xpadding = (0, -xoff)\n",
    "    else: xpadding = (xoff, 0)\n",
    "    if yoff < 0: ypadding = (0, -yoff)\n",
    "    else: ypadding = (yoff, 0)\n",
    "    img = np.pad(img, (xpadding, ypadding))\n",
    "\n",
    "    if xoff >= 0 and yoff >= 0:\n",
    "        return img[:w, :w]\n",
    "    elif xoff < 0 and yoff >= 0:\n",
    "        return img[-w:, :w]\n",
    "    elif xoff >= 0 and yoff < 0:\n",
    "        return img[:w, -w:]\n",
    "    return img[-w:, -w:]\n",
    "\n",
    "def zoom_at(img, zoom, coord=None):\n",
    "    # Adapted from https://stackoverflow.com/questions/69050464/zoom-into-image-with-opencv\n",
    "    h, w = [ zoom * i for i in img.shape ]\n",
    "    if coord is None: cx, cy = w/2, h/2\n",
    "    else: cx, cy = [ zoom*c for c in coord ]\n",
    "    img = cv2.resize( img, (0, 0), fx=zoom, fy=zoom)\n",
    "    img = img[ int(round(cy - h/zoom * .5)) : int(round(cy + h/zoom * .5)),\n",
    "               int(round(cx - w/zoom * .5)) : int(round(cx + w/zoom * .5))]\n",
    "    return img\n",
    "\n",
    "data = SwarmDataset(\"data/tinytoy\")\n",
    "\n",
    "plot.imshow(data[70][0], cmap=\"Greys\")\n",
    "plot.show()\n",
    "\n",
    "plot.imshow(translate(data[70][0], offset=(5, 5)), cmap=\"Greys\")\n",
    "# plot.imshow(ndimage.gaussian_filter(data[60][0], sigma=1.5), cmap=\"Greys\")\n",
    "plot.show()"
   ],
   "metadata": {
    "collapsed": false
   }
  },
  {
   "cell_type": "markdown",
   "source": [
    "# Cosine Similarity in Pretraining"
   ],
   "metadata": {
    "collapsed": false
   }
  },
  {
   "cell_type": "code",
   "execution_count": null,
   "outputs": [],
   "source": [
    "import torch\n",
    "import cv2\n",
    "import random\n",
    "import matplotlib.pyplot as plot\n",
    "from data.swarmset import SwarmDataset\n",
    "from scipy import ndimage\n",
    "import numpy as np\n",
    "from networks.ensemble import Ensemble\n",
    "\n",
    "PRETRAINING = True\n",
    "target = 0.01\n",
    "loss = 50\n",
    "device = torch.device('cuda' if torch.cuda.is_available() else 'cpu')\n",
    "\n",
    "ensemble = Ensemble(size=3, output_size=5, lr=6e-4, learning_decay=0.95, decay_step=3, margin=10, init=\"Random\", new_model=True)\n",
    "ensemble.load_ensemble(\"toy-test-mixed-D\")\n",
    "\n",
    "data = SwarmDataset(\"data/tinytoy\")\n",
    "image = data[400][0]\n",
    "primary_embedding = ensemble.ensemble[0].numpy_single_pass(image).cpu().detach()\n",
    "\n",
    "cosine_scores = []\n",
    "for i in range(len(data)):\n",
    "    potential_negative = data[i][0]\n",
    "    embedding = ensemble.ensemble[0].numpy_single_pass(potential_negative).cpu().detach().numpy().T\n",
    "    cosine_sim = np.dot(primary_embedding, embedding)/(np.linalg.norm(primary_embedding)*np.linalg.norm(embedding))\n",
    "    cosine_scores.append((cosine_sim, i))\n",
    "\n",
    "cosine_scores.sort()\n",
    "top_five = cosine_scores[:5]\n",
    "print(top_five)\n",
    "\n",
    "print(\"TARGET:\")\n",
    "plot.imshow(image, cmap=\"Greys\")\n",
    "plot.show()\n",
    "\n",
    "for score, i in top_five:\n",
    "    print(f\"{i}, Score: {score}\")\n",
    "    plot.imshow(data[i][0], cmap=\"Greys\")\n",
    "    plot.show()"
   ],
   "metadata": {
    "collapsed": false
   }
  },
  {
   "cell_type": "code",
   "execution_count": null,
   "outputs": [],
   "source": [
    "# Labeling Training Data\n",
    "from data.swarmset import SwarmDataset\n",
    "import matplotlib.pyplot as plt\n",
    "import time\n",
    "data = SwarmDataset(\"data/full-mini\")\n",
    "START = 2060\n",
    "\n",
    "\n",
    "pairs = \"\"\n",
    "for i in range(START, len(data)):\n",
    "    _inp = data[i][0]\n",
    "    plt.imshow(_inp, cmap=\"Greys\")\n",
    "    plt.show()\n",
    "    time.sleep(2)\n",
    "    _class = input(\"Classification? \")\n",
    "    if _class == None or _class == \"\":\n",
    "        break\n",
    "    pairs += f\"{i}, {_class}\\n\"\n",
    "\n",
    "print(pairs)"
   ],
   "metadata": {
    "collapsed": false
   }
  },
  {
   "cell_type": "code",
   "execution_count": 28,
   "outputs": [
    {
     "name": "stdout",
     "output_type": "stream",
     "text": [
      "{-1: 9772, 0: 170, 1: 11, 2: 16, 3: 2, 4: 26, 5: 3}\n"
     ]
    },
    {
     "data": {
      "text/plain": "Text(0, 0.5, 'Samples Generated')"
     },
     "execution_count": 28,
     "metadata": {},
     "output_type": "execute_result"
    },
    {
     "data": {
      "text/plain": "<Figure size 640x480 with 1 Axes>",
      "image/png": "[encoded data removed]"
     },
     "metadata": {},
     "output_type": "display_data"
    }
   ],
   "source": [
    "# Count the Proportions of classes given an I.I.D sampling of the behavior space\n",
    "from data.swarmset import SwarmDataset\n",
    "import matplotlib.pyplot as plt\n",
    "import time\n",
    "import os\n",
    "def CSVLineToVec(line):\n",
    "    line_list = line.strip().replace(\"\\n\", \"\").split(\",\")\n",
    "    float_list = []\n",
    "    for i in line_list:\n",
    "        float_list.append(float(i))\n",
    "    float_list = np.array(float_list)\n",
    "    return float_list\n",
    "\n",
    "data = SwarmDataset(\"data/full-mini\")\n",
    "lim = len(data)\n",
    "classes = [-1 for i in range(lim)]\n",
    "\n",
    "OUT = \"data/oracle\"\n",
    "with open(os.path.join(OUT, \"original-hand-labeled-classes.txt\"), \"r\") as f:\n",
    "    lines = f.readlines()\n",
    "    for line in lines:\n",
    "        triplet = CSVLineToVec(line)\n",
    "        classes[int(triplet[0])] = int(triplet[1])\n",
    "\n",
    "class_dict = {i:0 for i in range(-1, max(classes) + 1)}\n",
    "for data in classes:\n",
    "    class_dict[data] += 1\n",
    "\n",
    "print(class_dict)\n",
    "\n",
    "y = [class_dict[l] for l in range(0, 6)]\n",
    "x = [l for l in range(0, 6)]\n",
    "plt.bar(x, y)\n",
    "plt.xticks(x, labels=[\"Random\", \"Cyclic\", \"Milling\", \"Agg.\", \"Dispersal\", \"Wall F.\"])\n",
    "plt.title(\"Class labels for 250 i.i.d. samples from the R^4 Controller Space\")\n",
    "plt.ylabel(\"Samples Generated\")"
   ],
   "metadata": {
    "collapsed": false
   }
  }
 ],
 "metadata": {
  "kernelspec": {
   "display_name": "Python 3",
   "language": "python",
   "name": "python3"
  },
  "language_info": {
   "codemirror_mode": {
    "name": "ipython",
    "version": 2
   },
   "file_extension": ".py",
   "mimetype": "text/x-python",
   "name": "python",
   "nbconvert_exporter": "python",
   "pygments_lexer": "ipython2",
   "version": "2.7.6"
  }
 },
 "nbformat": 4,
 "nbformat_minor": 0
}
