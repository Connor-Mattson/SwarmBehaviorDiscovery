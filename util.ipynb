{
 "cells": [
  {
   "cell_type": "markdown",
   "source": [
    "# Reduce the size of an old dataset"
   ],
   "metadata": {
    "collapsed": false
   }
  },
  {
   "cell_type": "code",
   "execution_count": null,
   "metadata": {
    "collapsed": true
   },
   "outputs": [],
   "source": [
    "from data.swarmset import SwarmDataset\n",
    "import numpy as np\n",
    "import cv2\n",
    "\n",
    "def resizeInput(X, w=200):\n",
    "    frame = X.astype(np.uint8)\n",
    "    resized = cv2.resize(frame, dsize=(w, w), interpolation=cv2.INTER_AREA)\n",
    "    return resized\n",
    "\n",
    "from_data = SwarmDataset(\"data/full-dual-sensors\")\n",
    "to_data = SwarmDataset(\"data/full-mini-dual\")\n",
    "\n",
    "for i in range(len(from_data)):\n",
    "    image, genome, behavior = from_data[i][0], from_data[i][1], from_data[i][2]\n",
    "    image = resizeInput(image, 50)\n",
    "    to_data.new_sample(image, genome, behavior)"
   ]
  },
  {
   "cell_type": "code",
   "execution_count": null,
   "outputs": [],
   "source": [
    "from networks.embedding import NoveltyEmbedding\n",
    "\n",
    "old = NoveltyEmbedding(out_size=5)\n",
    "new = NoveltyEmbedding(out_size=5, new_model=True)\n",
    "\n",
    "old_count = sum(p.numel() for p in old.parameters() if p.requires_grad)\n",
    "new_count = sum(p.numel() for p in new.parameters() if p.requires_grad)\n",
    "print(old_count, new_count)"
   ],
   "metadata": {
    "collapsed": false
   }
  },
  {
   "cell_type": "code",
   "execution_count": null,
   "outputs": [],
   "source": [
    "from data.swarmset import SwarmDataset\n",
    "import matplotlib.pyplot as plot\n",
    "data = SwarmDataset(\"data/human-mini\")\n",
    "\n",
    "i = 91\n",
    "plot.imshow(data[i][0], cmap=\"Greys\")\n",
    "print(data[i][1])"
   ],
   "metadata": {
    "collapsed": false
   }
  },
  {
   "cell_type": "code",
   "execution_count": null,
   "outputs": [],
   "source": [
    "import cv2\n",
    "import random\n",
    "import matplotlib.pyplot as plot\n",
    "from data.swarmset import SwarmDataset\n",
    "import matplotlib.pyplot as plot\n",
    "from scipy import ndimage\n",
    "import numpy as np\n",
    "\n",
    "def resizeInput(X, w=200):\n",
    "    frame = X.astype(np.uint8)\n",
    "    resized = cv2.resize(frame, dsize=(w, w), interpolation=cv2.INTER_AREA)\n",
    "    return resized\n",
    "\n",
    "def translate(img, offset=(10, 10)):\n",
    "    h, w = img.shape\n",
    "    xoff, yoff = offset\n",
    "    if xoff < 0: xpadding = (0, -xoff)\n",
    "    else: xpadding = (xoff, 0)\n",
    "    if yoff < 0: ypadding = (0, -yoff)\n",
    "    else: ypadding = (yoff, 0)\n",
    "    img = np.pad(img, (xpadding, ypadding))\n",
    "\n",
    "    if xoff >= 0 and yoff >= 0:\n",
    "        return img[:w, :w]\n",
    "    elif xoff < 0 and yoff >= 0:\n",
    "        return img[-w:, :w]\n",
    "    elif xoff >= 0 and yoff < 0:\n",
    "        return img[:w, -w:]\n",
    "    return img[-w:, -w:]\n",
    "\n",
    "def zoom_at(img, zoom, coord=None):\n",
    "    # Adapted from https://stackoverflow.com/questions/69050464/zoom-into-image-with-opencv\n",
    "    h, w = [ zoom * i for i in img.shape ]\n",
    "    if coord is None: cx, cy = w/2, h/2\n",
    "    else: cx, cy = [ zoom*c for c in coord ]\n",
    "    img = cv2.resize( img, (0, 0), fx=zoom, fy=zoom)\n",
    "    img = img[ int(round(cy - h/zoom * .5)) : int(round(cy + h/zoom * .5)),\n",
    "               int(round(cx - w/zoom * .5)) : int(round(cx + w/zoom * .5))]\n",
    "    return img\n",
    "\n",
    "data = SwarmDataset(\"data/tinytoy\")\n",
    "\n",
    "plot.imshow(data[70][0], cmap=\"Greys\")\n",
    "plot.show()\n",
    "\n",
    "rot = ndimage.rotate(data[70][0], 90)\n",
    "rot = resizeInput(rot, 50)\n",
    "plot.imshow(rot, cmap=\"Greys\")\n",
    "# plot.imshow(ndimage.gaussian_filter(data[60][0], sigma=1.5), cmap=\"Greys\")\n",
    "plot.show()"
   ],
   "metadata": {
    "collapsed": false
   }
  },
  {
   "cell_type": "markdown",
   "source": [
    "# Cosine Similarity in Pretraining"
   ],
   "metadata": {
    "collapsed": false
   }
  },
  {
   "cell_type": "code",
   "execution_count": null,
   "outputs": [],
   "source": [
    "import torch\n",
    "import cv2\n",
    "import random\n",
    "import matplotlib.pyplot as plot\n",
    "from data.swarmset import SwarmDataset\n",
    "from scipy import ndimage\n",
    "import numpy as np\n",
    "from networks.ensemble import Ensemble\n",
    "\n",
    "PRETRAINING = True\n",
    "target = 0.01\n",
    "loss = 50\n",
    "device = torch.device('cuda' if torch.cuda.is_available() else 'cpu')\n",
    "\n",
    "ensemble = Ensemble(size=3, output_size=5, lr=6e-4, learning_decay=0.95, decay_step=3, margin=10, init=\"Random\", new_model=True)\n",
    "ensemble.load_ensemble(\"toy-test-mixed-D\")\n",
    "\n",
    "data = SwarmDataset(\"data/tinytoy\")\n",
    "image = data[400][0]\n",
    "primary_embedding = ensemble.ensemble[0].numpy_single_pass(image).cpu().detach()\n",
    "\n",
    "cosine_scores = []\n",
    "for i in range(len(data)):\n",
    "    potential_negative = data[i][0]\n",
    "    embedding = ensemble.ensemble[0].numpy_single_pass(potential_negative).cpu().detach().numpy().T\n",
    "    cosine_sim = np.dot(primary_embedding, embedding)/(np.linalg.norm(primary_embedding)*np.linalg.norm(embedding))\n",
    "    cosine_scores.append((cosine_sim, i))\n",
    "\n",
    "cosine_scores.sort()\n",
    "top_five = cosine_scores[:5]\n",
    "print(top_five)\n",
    "\n",
    "print(\"TARGET:\")\n",
    "plot.imshow(image, cmap=\"Greys\")\n",
    "plot.show()\n",
    "\n",
    "for score, i in top_five:\n",
    "    print(f\"{i}, Score: {score}\")\n",
    "    plot.imshow(data[i][0], cmap=\"Greys\")\n",
    "    plot.show()"
   ],
   "metadata": {
    "collapsed": false
   }
  },
  {
   "cell_type": "code",
   "execution_count": 41,
   "outputs": [
    {
     "name": "stdout",
     "output_type": "stream",
     "text": [
      "Iteration: 1000\n"
     ]
    },
    {
     "data": {
      "text/plain": "<Figure size 640x480 with 1 Axes>",
      "image/png": "[encoded data removed]"
     },
     "metadata": {},
     "output_type": "display_data"
    },
    {
     "name": "stdout",
     "output_type": "stream",
     "text": [
      "886, 0\n",
      "887, 1\n",
      "888, 5\n",
      "889, 1\n",
      "890, 0\n",
      "891, 0\n",
      "892, 1\n",
      "893, 3\n",
      "894, 1\n",
      "895, 3\n",
      "896, 5\n",
      "897, 0\n",
      "898, 0\n",
      "899, 0\n",
      "900, 0\n",
      "901, 0\n",
      "902, 0\n",
      "903, 5\n",
      "904, 3\n",
      "905, 2\n",
      "906, 1\n",
      "907, 4\n",
      "908, 2\n",
      "909, 3\n",
      "910, 5\n",
      "911, 0\n",
      "912, 5\n",
      "913, 1\n",
      "914, 0\n",
      "915, 1\n",
      "916, 5\n",
      "917, 0\n",
      "918, 0\n",
      "919, 1\n",
      "920, 3\n",
      "921, 0\n",
      "922, 0\n",
      "923, 4\n",
      "924, 0\n",
      "925, 1\n",
      "926, 3\n",
      "927, 1\n",
      "928, 4\n",
      "929, 1\n",
      "930, 5\n",
      "931, 0\n",
      "932, 0\n",
      "933, 0\n",
      "934, 1\n",
      "935, 3\n",
      "936, 0\n",
      "937, 1\n",
      "938, 1\n",
      "939, 0\n",
      "940, 2\n",
      "941, 3\n",
      "942, 0\n",
      "943, 2\n",
      "944, 5\n",
      "945, 2\n",
      "946, 5\n",
      "947, 0\n",
      "948, 0\n",
      "949, 5\n",
      "950, 4\n",
      "951, 0\n",
      "952, 2\n",
      "953, 2\n",
      "954, 0\n",
      "955, 4\n",
      "956, 1\n",
      "957, 0\n",
      "958, 1\n",
      "959, 3\n",
      "960, 0\n",
      "961, 1\n",
      "962, 0\n",
      "963, 4\n",
      "964, 4\n",
      "965, 0\n",
      "966, 1\n",
      "967, 0\n",
      "968, 0\n",
      "969, 3\n",
      "970, 3\n",
      "971, 5\n",
      "972, 1\n",
      "973, 4\n",
      "974, 0\n",
      "975, 0\n",
      "976, 0\n",
      "977, 5\n",
      "978, 0\n",
      "979, 0\n",
      "980, 0\n",
      "981, 5\n",
      "982, 4\n",
      "983, 4\n",
      "984, 0\n",
      "985, 0\n",
      "986, 0\n",
      "987, 1\n",
      "988, 5\n",
      "989, 0\n",
      "990, 1\n",
      "991, 4\n",
      "992, 0\n",
      "993, 0\n",
      "994, 4\n",
      "995, 5\n",
      "996, 3\n",
      "997, 1\n",
      "998, 3\n",
      "999, 0\n",
      "\n"
     ]
    }
   ],
   "source": [
    "# Labeling Training Data\n",
    "from IPython.display import clear_output\n",
    "from data.swarmset import SwarmDataset\n",
    "import matplotlib.pyplot as plt\n",
    "import time\n",
    "data = SwarmDataset(\"data/filtered-full\")\n",
    "START = 886\n",
    "\n",
    "pairs = \"\"\n",
    "for i in range(START, len(data)):\n",
    "    if i % 10 == 0:\n",
    "        print(f\"Iteration: {i}\")\n",
    "    _inp = data[i][0]\n",
    "    plt.imshow(_inp, cmap=\"Greys\")\n",
    "    plt.show()\n",
    "    time.sleep(1.0)\n",
    "    _class = input(\"Classification? \")\n",
    "    if _class == None or _class == \"\":\n",
    "        break\n",
    "    pairs += f\"{i}, {_class}\\n\"\n",
    "    clear_output(wait=True)\n",
    "\n",
    "print(pairs)"
   ],
   "metadata": {
    "collapsed": false
   }
  },
  {
   "cell_type": "code",
   "execution_count": 45,
   "outputs": [
    {
     "name": "stdout",
     "output_type": "stream",
     "text": [
      "{-1: 9800, 0: 97, 1: 27, 2: 18, 3: 9, 4: 37, 5: 12}\n"
     ]
    },
    {
     "data": {
      "text/plain": "Text(0, 0.5, 'Samples Generated')"
     },
     "execution_count": 45,
     "metadata": {},
     "output_type": "execute_result"
    },
    {
     "data": {
      "text/plain": "<Figure size 640x480 with 1 Axes>",
      "image/png": "[encoded data removed]"
     },
     "metadata": {},
     "output_type": "display_data"
    }
   ],
   "source": [
    "# Count the Proportions of classes given an I.I.D sampling of the behavior space\n",
    "from data.swarmset import SwarmDataset\n",
    "import matplotlib.pyplot as plt\n",
    "import time\n",
    "import os\n",
    "import numpy as np\n",
    "def CSVLineToVec(line):\n",
    "    line_list = line.strip().replace(\"\\n\", \"\").split(\",\")\n",
    "    float_list = []\n",
    "    for i in line_list:\n",
    "        float_list.append(float(i))\n",
    "    float_list = np.array(float_list)\n",
    "    return float_list\n",
    "\n",
    "data = SwarmDataset(\"data/filtered-full\")\n",
    "lim = len(data)\n",
    "classes = [-1 for i in range(lim)]\n",
    "\n",
    "OUT = \"data/oracle\"\n",
    "# fi = \"heuristic-simple-model-classes.txt\"\n",
    "# fi = \"original-hand-labeled-classes.txt\"\n",
    "fi = \"validation-data-baseline.txt\"\n",
    "with open(os.path.join(OUT, fi), \"r\") as f:\n",
    "    lines = f.readlines()\n",
    "    for line in lines:\n",
    "        triplet = CSVLineToVec(line)\n",
    "        classes[int(triplet[0])] = int(triplet[1])\n",
    "\n",
    "class_dict = {i:0 for i in range(-1, max(classes) + 1)}\n",
    "for data in classes:\n",
    "    class_dict[data] += 1\n",
    "\n",
    "print(class_dict)\n",
    "\n",
    "y = [class_dict[l] for l in range(0, 6)]\n",
    "x = [l for l in range(0, 6)]\n",
    "plt.bar(x, y)\n",
    "plt.xticks(x, labels=[\"Random\", \"Cyclic\", \"Milling\", \"Agg.\", \"Dispersal\", \"Wall F.\"])\n",
    "plt.title(\"Class labels for 250 i.i.d. samples from the R^4 Controller Space\")\n",
    "plt.ylabel(\"Samples Generated\")"
   ],
   "metadata": {
    "collapsed": false
   }
  },
  {
   "cell_type": "markdown",
   "source": [
    "# Map Behaviors to the Controller Space, project into 2D"
   ],
   "metadata": {
    "collapsed": false
   }
  },
  {
   "cell_type": "code",
   "execution_count": null,
   "outputs": [],
   "source": [
    "import torch\n",
    "import time\n",
    "from data.swarmset import ContinuingDataset, SwarmDataset\n",
    "from networks.embedding import NoveltyEmbedding\n",
    "from networks.archive import DataAggregationArchive\n",
    "from networks.ensemble import Ensemble\n",
    "import numpy as np\n",
    "from scipy import ndimage\n",
    "import random\n",
    "from sklearn.manifold import TSNE\n",
    "\n",
    "sampled_dataset = SwarmDataset(\"data/full-mini\", rank=0)\n",
    "data = sampled_dataset\n",
    "\n",
    "lim = 1000\n",
    "embeddings = []\n",
    "classes = [-1 for i in range(lim)]\n",
    "for i in range(lim):\n",
    "    image, genome, behavior = sampled_dataset[i][0], sampled_dataset[i][1], sampled_dataset[i][2]\n",
    "    for j in range(len(behavior)):\n",
    "        if behavior[j] < 0.0:\n",
    "            behavior[j] *= -1\n",
    "    embeddings.append(behavior)\n",
    "\n",
    "with open(os.path.join(OUT, \"original-hand-labeled-classes.txt\"), \"r\") as f:\n",
    "    lines = f.readlines()\n",
    "    for line in lines:\n",
    "        triplet = CSVLineToVec(line)\n",
    "        classes[int(triplet[0])] = int(triplet[1])\n",
    "\n",
    "embeddings.append([1.252829225737955, 0.3306611079745136, 0.10185270664281239, 0.08166410678402125, 1.1257187120563563]) # Windmill\n",
    "classes.append(6)\n",
    "embeddings.append([1.156806429844155, -0.17863707928684217, 0.3291847462779318, 0.07660598058604781, -0.5923099508105084]) # Nested Cycles\n",
    "classes.append(6)\n",
    "embeddings.append([0.9929654922699359, 0.09833733667253076, 0.05782206407062742, 0.02105642976502228, 0.7106113280473935]) # Special Cycles\n",
    "classes.append(6)\n",
    "\n",
    "embeddings = np.array(embeddings)"
   ],
   "metadata": {
    "collapsed": false
   }
  },
  {
   "cell_type": "code",
   "execution_count": null,
   "outputs": [],
   "source": [
    "reduced = TSNE(\n",
    "    n_components=2,\n",
    "    learning_rate=\"auto\",\n",
    "    init=\"pca\",\n",
    "    perplexity=50,\n",
    "    early_exaggeration=14\n",
    ").fit_transform(embeddings)"
   ],
   "metadata": {
    "collapsed": false
   }
  },
  {
   "cell_type": "code",
   "execution_count": null,
   "outputs": [],
   "source": [
    "import matplotlib.pyplot as plot\n",
    "\n",
    "color_classes = {\n",
    "    -1: [0.33, 0.33, 0.33],\n",
    "    0: [1, 0, 0],\n",
    "    1: [0, 1, 0],\n",
    "    2: [0, 0, 1],\n",
    "    3: [0, 1, 1], # Cyan\n",
    "    4: [1, 1, 0], # Yellow\n",
    "    5: [0.5, 0, 0.25], # Pink\n",
    "    6: [0, 0, 0]\n",
    "}\n",
    "\n",
    "label_classes = {\n",
    "    -1: \"Unlabeled\",\n",
    "    0: \"Random\",\n",
    "    1: \"Cyclic Pursuit\",\n",
    "    2: \"Milling\",\n",
    "    3: \"Aggregation\",\n",
    "    4: \"Dispersal\",\n",
    "    5: \"Wall Following\",\n",
    "    6: \"Special\"\n",
    "}\n",
    "\n",
    "lim = len(reduced)\n",
    "RANDOM = -1\n",
    "x = [reduced[i][0] for i in range(lim) if classes[i] != RANDOM]\n",
    "y = [reduced[i][1] for i in range(lim) if classes[i] != RANDOM]\n",
    "colors = [color_classes[classes[i]] for i in range(lim)  if classes[i] != RANDOM]\n",
    "labels = [label_classes[classes[i]] for i in range(lim)  if classes[i] != RANDOM]\n",
    "# plot.grid(True)\n",
    "plot.scatter(x, y, c=colors)\n",
    "plot.legend()"
   ],
   "metadata": {
    "collapsed": false
   }
  },
  {
   "cell_type": "code",
   "execution_count": null,
   "outputs": [],
   "source": [
    "reduced = TSNE(\n",
    "    n_components=3,\n",
    "    learning_rate=\"auto\",\n",
    "    init=\"pca\",\n",
    "    perplexity=200,\n",
    "    early_exaggeration=4\n",
    ").fit_transform(embeddings)"
   ],
   "metadata": {
    "collapsed": false
   }
  },
  {
   "cell_type": "code",
   "execution_count": null,
   "outputs": [],
   "source": [
    "import matplotlib.pyplot as plot\n",
    "\n",
    "color_classes = {\n",
    "    -1: [0.33, 0.33, 0.33],\n",
    "    0: [1, 0, 0],\n",
    "    1: [0, 1, 0],\n",
    "    2: [0, 0, 1],\n",
    "    3: [0, 1, 1], # Cyan\n",
    "    4: [1, 1, 0], # Yellow\n",
    "    5: [0.5, 0, 0.25], # Pink\n",
    "    6: [0, 0, 0]\n",
    "}\n",
    "\n",
    "label_classes = {\n",
    "    -1: \"Unlabeled\",\n",
    "    0: \"Random\",\n",
    "    1: \"Cyclic Pursuit\",\n",
    "    2: \"Milling\",\n",
    "    3: \"Aggregation\",\n",
    "    4: \"Dispersal\",\n",
    "    5: \"Wall Following\",\n",
    "    6: \"Special\"\n",
    "}\n",
    "\n",
    "lim = len(reduced)\n",
    "RANDOM = -1\n",
    "x = [reduced[i][0] for i in range(lim) if classes[i] != RANDOM]\n",
    "y = [reduced[i][1] for i in range(lim) if classes[i] != RANDOM]\n",
    "z = [reduced[i][2] for i in range(lim) if classes[i] != RANDOM]\n",
    "colors = [color_classes[classes[i]] for i in range(lim)  if classes[i] != RANDOM]\n",
    "# labels = [label_classes[classes[i]] for i in range(lim)  if classes[i] != RANDOM]\n",
    "fig = plt.figure()\n",
    "ax = fig.add_subplot(projection='3d')\n",
    "ax.scatter(x, y, z, c=colors)\n",
    "# ax.set_xlim(-2.0, 1.2)\n",
    "ax.set_ylim(-1.5, 5)\n",
    "ax.set_zlim(-2, 2)\n",
    "ax.set_title(\"Hand-Crafted Behavior Space\")\n",
    "ax.set_xlabel(\"t-SNE X Projection\")\n",
    "ax.set_ylabel(\"t-SNE Y Projection\")\n",
    "ax.set_zlabel(\"t-SNE Z Projection\")\n",
    "ax.legend()\n",
    "\n",
    "plt.show()"
   ],
   "metadata": {
    "collapsed": false
   }
  },
  {
   "cell_type": "code",
   "execution_count": null,
   "outputs": [],
   "source": [
    "import random\n",
    "import torch\n",
    "import os\n",
    "import numpy as np\n",
    "from networks.ensemble import Ensemble\n",
    "from data.swarmset import ContinuingDataset, SwarmDataset\n",
    "PRETRAINING = True\n",
    "target = 0.01\n",
    "loss = 50\n",
    "device = torch.device('cuda' if torch.cuda.is_available() else 'cpu')\n",
    "\n",
    "ensembleA = Ensemble(size=5, output_size=5, lr=6e-4, learning_decay=0.95, decay_step=3)"
   ],
   "metadata": {
    "collapsed": false
   }
  }
 ],
 "metadata": {
  "kernelspec": {
   "display_name": "Python 3",
   "language": "python",
   "name": "python3"
  },
  "language_info": {
   "codemirror_mode": {
    "name": "ipython",
    "version": 2
   },
   "file_extension": ".py",
   "mimetype": "text/x-python",
   "name": "python",
   "nbconvert_exporter": "python",
   "pygments_lexer": "ipython2",
   "version": "2.7.6"
  }
 },
 "nbformat": 4,
 "nbformat_minor": 0
}
